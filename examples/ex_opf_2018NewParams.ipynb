{
 "cells": [
  {
   "cell_type": "markdown",
   "metadata": {},
   "source": [
    "# Multi-period OPF example\n",
    "\n",
    "Multi-period OPF example with and without ESR.\n",
    "\n",
    "No update on renewable generation and electrification load."
   ]
  },
  {
   "cell_type": "code",
   "execution_count": 1,
   "metadata": {
    "ExecuteTime": {
     "end_time": "2024-01-31T15:25:15.525568600Z",
     "start_time": "2024-01-31T15:25:08.330964100Z"
    }
   },
   "outputs": [],
   "source": [
    "import os\n",
    "\n",
    "import numpy as np\n",
    "import pandas as pd\n",
    "import matplotlib.pyplot as plt\n",
    "from datetime import datetime, timedelta\n",
    "\n",
    "import nygrid.nygrid as ng_grid\n",
    "import nygrid.run_nygrid as ng_run\n",
    "import nygrid.plots as ng_plots"
   ]
  },
  {
   "cell_type": "code",
   "execution_count": 2,
   "metadata": {
    "ExecuteTime": {
     "end_time": "2024-01-31T15:25:15.537593900Z",
     "start_time": "2024-01-31T15:25:15.528567500Z"
    }
   },
   "outputs": [
    {
     "name": "stdout",
     "output_type": "stream",
     "text": [
      "Grid data directory: /mnt/Bo_HDD/NYgrid-python/data/grid/2018NewParams\n",
      "Figure directory: /mnt/Bo_HDD/NYgrid-python/figures\n",
      "Results directory: /mnt/Bo_HDD/NYgrid-python/results\n"
     ]
    }
   ],
   "source": [
    "# Set up directories\n",
    "cwd = os.getcwd()\n",
    "if 'examples' in cwd:\n",
    "    parent_dir = os.path.dirname(cwd)\n",
    "    data_dir = os.path.join(parent_dir, 'data')\n",
    "else:\n",
    "    data_dir = os.path.join(cwd, 'data')\n",
    "\n",
    "grid_data_dir = os.path.join(data_dir, 'grid', '2018NewParams')\n",
    "if not os.path.exists(grid_data_dir):\n",
    "    raise FileNotFoundError('Grid data directory not found.')\n",
    "print('Grid data directory: {}'.format(grid_data_dir))\n",
    "\n",
    "fig_dir = os.path.join(os.path.dirname(data_dir), 'figures')\n",
    "print('Figure directory: {}'.format(fig_dir))\n",
    "\n",
    "results_dir = os.path.join(os.path.dirname(data_dir), 'results')\n",
    "print('Results directory: {}'.format(results_dir))"
   ]
  },
  {
   "cell_type": "markdown",
   "metadata": {},
   "source": [
    "## Read grid data"
   ]
  },
  {
   "cell_type": "markdown",
   "metadata": {
    "collapsed": false
   },
   "source": [
    "### Read generator profiles"
   ]
  },
  {
   "cell_type": "code",
   "execution_count": 3,
   "metadata": {
    "ExecuteTime": {
     "end_time": "2024-01-31T15:26:25.946305400Z",
     "start_time": "2024-01-31T15:26:24.097092100Z"
    }
   },
   "outputs": [],
   "source": [
    "start_date = datetime(2018, 1, 1, 0, 0, 0)\n",
    "end_date = datetime(2019, 1, 1, 0, 0, 0)\n",
    "timestamp_list = pd.date_range(start_date, end_date, freq='1D')\n",
    "verbose = True"
   ]
  },
  {
   "cell_type": "code",
   "execution_count": 4,
   "metadata": {},
   "outputs": [],
   "source": [
    "# Read grid property file\n",
    "grid_prop = ng_run.read_grid_prop(grid_data_dir)\n",
    "\n",
    "# Read load and generation profiles\n",
    "grid_profile = ng_run.read_grid_profile(grid_data_dir, start_date.year)"
   ]
  },
  {
   "cell_type": "code",
   "execution_count": null,
   "metadata": {},
   "outputs": [],
   "source": [
    "# Decrease external load by 50%\n",
    "bus_idx_ext = grid_prop['bus_prop'][grid_prop['bus_prop']['BUS_ZONE'].isin(['NE','PJM','IESO'])]['BUS_I']\n",
    "load_profile_new = grid_profile['load_profile'].copy()\n",
    "load_profile_new.loc[:, bus_idx_ext] = load_profile_new.loc[:, bus_idx_ext] * 0.5\n",
    "grid_profile['load_profile'] = load_profile_new"
   ]
  },
  {
   "cell_type": "code",
   "execution_count": null,
   "metadata": {},
   "outputs": [],
   "source": [
    "# Increase FO2, KER and BIT generation costs\n",
    "change_index = grid_prop[\"gen_fuel\"][\"GEN_FUEL\"].isin(\n",
    "    [\"CT_FO2\", \"CT_KER\", \"ST_BIT\"]\n",
    ").to_numpy()\n",
    "\n",
    "gencost0_profile_new = grid_profile['gencost0_profile'].copy()\n",
    "gencost0_profile_new.loc[:, change_index] = gencost0_profile_new.loc[:, change_index] * 3\n",
    "grid_profile['gencost0_profile'] = gencost0_profile_new\n",
    "\n",
    "gencost1_profile_new = grid_profile['gencost1_profile'].copy()\n",
    "gencost1_profile_new.loc[:, change_index] = gencost1_profile_new.loc[:, change_index] * 3\n",
    "grid_profile['gencost1_profile'] = gencost1_profile_new\n",
    "\n",
    "gencost_startup_profile_new = grid_profile['gencost_startup_profile'].copy()\n",
    "gencost_startup_profile_new.loc[:, change_index] = gencost_startup_profile_new.loc[:, change_index] * 3\n",
    "grid_profile['gencost_startup_profile'] = gencost_startup_profile_new"
   ]
  },
  {
   "cell_type": "markdown",
   "metadata": {},
   "source": [
    "## Multi-period OPF"
   ]
  },
  {
   "cell_type": "markdown",
   "metadata": {},
   "source": [
    "### Without initial conditions"
   ]
  },
  {
   "cell_type": "code",
   "execution_count": 8,
   "metadata": {
    "ExecuteTime": {
     "end_time": "2024-01-31T03:42:57.701124300Z",
     "start_time": "2024-01-31T03:42:57.660769400Z"
    }
   },
   "outputs": [
    {
     "name": "stdout",
     "output_type": "stream",
     "text": [
      "Start time: 2018-01-01 00:00:00\n",
      "End time: 2018-01-08 23:00:00\n"
     ]
    }
   ],
   "source": [
    "# Only run for one day\n",
    "d = 0\n",
    "start_datetime_0 = timestamp_list[d]\n",
    "# end_datetime_0 = start_datetime_0 + timedelta(hours=24*364+23)\n",
    "end_datetime_0 = start_datetime_0 + timedelta(hours=24*7+23)\n",
    "print(f'Start time: {start_datetime_0}')\n",
    "print(f'End time: {end_datetime_0}')"
   ]
  },
  {
   "cell_type": "code",
   "execution_count": 9,
   "metadata": {
    "ExecuteTime": {
     "end_time": "2024-01-31T03:43:29.351795500Z",
     "start_time": "2024-01-31T03:42:57.762001600Z"
    },
    "collapsed": false
   },
   "outputs": [
    {
     "name": "stdout",
     "output_type": "stream",
     "text": [
      "No VRE generation data.\n",
      "Set parameter Username\n",
      "Academic license - for non-commercial use only - expires 2025-11-08\n",
      "Warning: row 550979 (name \"c_e_x955921_\") contains 50 small (<= 1e-13) coefficient(s), ignored\n",
      "Warning: row 551034 (name \"c_e_x956031_\") contains 99 small (<= 1e-13) coefficient(s), ignored\n",
      "Warning: row 551039 (name \"c_e_x956041_\") contains 150 small (<= 1e-13) coefficient(s), ignored\n",
      "Warning: row 551040 (name \"c_e_x956043_\") contains 201 small (<= 1e-13) coefficient(s), ignored\n",
      "Warning: row 551041 (name \"c_e_x956045_\") contains 256 small (<= 1e-13) coefficient(s), ignored\n",
      "Warning: row 551073 (name \"c_e_x956109_\") contains 306 small (<= 1e-13) coefficient(s), ignored\n",
      "Warning: row 551128 (name \"c_e_x956219_\") contains 355 small (<= 1e-13) coefficient(s), ignored\n",
      "Warning: row 551133 (name \"c_e_x956229_\") contains 406 small (<= 1e-13) coefficient(s), ignored\n",
      "Warning: row 551134 (name \"c_e_x956231_\") contains 457 small (<= 1e-13) coefficient(s), ignored\n",
      "Warning: row 551135 (name \"c_e_x956233_\") contains 512 small (<= 1e-13) coefficient(s), ignored\n",
      "skipping further warning of this kind\n",
      "Warning: row 551167 (name \"c_e_x956297_\") contains 562 small (<= 1e-13) coefficient(s), ignored\n",
      "Warning: lp file contains 49152 small (<= 1e-13) coefficient(s), ignored\n",
      "Read LP format model from file /tmp/tmp7jngf9cq.pyomo.lp\n",
      "Reading time = 1.72 seconds\n",
      "x1: 618559 rows, 424512 columns, 2534498 nonzeros\n",
      "Set parameter QCPDual to value 1\n",
      "Gurobi Optimizer version 9.5.2 build v9.5.2rc0 (linux64)\n",
      "Thread count: 64 physical cores, 128 logical processors, using up to 32 threads\n",
      "Optimize a model with 618559 rows, 424512 columns and 2534498 nonzeros\n",
      "Model fingerprint: 0x5a16a605\n",
      "Variable types: 288576 continuous, 135936 integer (135936 binary)\n",
      "Coefficient statistics:\n",
      "  Matrix range     [3e-06, 1e+01]\n",
      "  Objective range  [5e-17, 1e+05]\n",
      "  Bounds range     [1e+00, 1e+00]\n",
      "  RHS range        [1e-17, 2e+04]\n",
      "Presolve removed 596354 rows and 341724 columns\n",
      "Presolve time: 0.89s\n",
      "Presolved: 22205 rows, 82788 columns, 206936 nonzeros\n",
      "Variable types: 82788 continuous, 0 integer (0 binary)\n",
      "\n",
      "Deterministic concurrent LP optimizer: primal and dual simplex\n",
      "Showing first log only...\n",
      "\n",
      "Warning: Markowitz tolerance tightened to 0.25\n",
      "Concurrent spin time: 0.00s\n",
      "\n",
      "Solved with dual simplex\n",
      "\n",
      "Root relaxation: objective 1.052190e+09, 14575 iterations, 0.33 seconds (0.33 work units)\n",
      "\n",
      "    Nodes    |    Current Node    |     Objective Bounds      |     Work\n",
      " Expl Unexpl |  Obj  Depth IntInf | Incumbent    BestBd   Gap | It/Node Time\n",
      "\n",
      "*    0     0               0    1.052190e+09 1.0522e+09  0.00%     -    1s\n",
      "\n",
      "Explored 1 nodes (14575 simplex iterations) in 1.65 seconds (2.00 work units)\n",
      "Thread count was 32 (of 128 available processors)\n",
      "\n",
      "Solution count 1: 1.05219e+09 \n",
      "\n",
      "Optimal solution found (tolerance 1.00e-04)\n",
      "Best objective 1.052189762502e+09, best bound 1.052189762502e+09, gap 0.0000%\n"
     ]
    }
   ],
   "source": [
    "# Create NYGrid object\n",
    "nygrid_sim_0 = ng_grid.NYGrid(grid_prop=grid_prop,\n",
    "                              start_datetime=start_datetime_0,\n",
    "                              end_datetime=end_datetime_0,\n",
    "                              verbose=verbose)\n",
    "\n",
    "# Set load and generation time series data\n",
    "nygrid_sim_0.set_load_sch(grid_profile['load_profile'])\n",
    "# nygrid_sim_0.set_gen_mw_sch(grid_profile['gen_profile'])\n",
    "nygrid_sim_0.set_gen_max_sch(grid_profile['genmax_profile'])\n",
    "# nygrid_sim_0.set_gen_min_sch(grid_profile['genmin_profile'])\n",
    "# nygrid_sim_0.set_gen_ramp_sch(grid_profile['genramp30_profile'])\n",
    "nygrid_sim_0.set_gen_cost_sch(grid_profile['gencost0_profile'],\n",
    "                              grid_profile['gencost1_profile'])\n",
    "nygrid_sim_0.set_gen_cost_startup_sch(grid_profile['gencost_startup_profile'])\n",
    "# nygrid_sim_0.set_gen_cost_shutdown_sch(grid_profile['gencost_shutdown_profile'])\n",
    "\n",
    "if 'genmax_profile_vre' in grid_profile:\n",
    "    nygrid_sim_0.set_vre_max_sch(grid_profile['genmax_profile_vre'])\n",
    "else:\n",
    "    print('No VRE generation data.')\n",
    "\n",
    "# Relax branch flow limits\n",
    "nygrid_sim_0.relax_external_branch_lim()\n",
    "\n",
    "# Set generator initial condition\n",
    "nygrid_sim_0.set_gen_init_data(gen_init=None)\n",
    "\n",
    "# Set generator initial unit commitment condition\n",
    "last_gen_commit = np.zeros(nygrid_sim_0.NG_avail)\n",
    "nygrid_sim_0.set_gen_init_cmt_data(gen_init_cmt=None)\n",
    "\n",
    "# Set options\n",
    "options = {\n",
    "    'UsePTDF': True,\n",
    "    'solver': 'gurobi',\n",
    "    'PenaltyForLoadShed': 20_000,\n",
    "    # 'PenaltyForBranchMwViolation': 5_000,\n",
    "    # 'PenaltyForInterfaceMWViolation': 5_000\n",
    "}\n",
    "\n",
    "nygrid_sim_0.set_options(options)\n",
    "\n",
    "# Solve DC OPF\n",
    "nygrid_sim_0.solve_dc_opf()\n",
    "\n",
    "# Get results\n",
    "results_0 = nygrid_sim_0.get_results_dc_opf()"
   ]
  },
  {
   "cell_type": "code",
   "execution_count": 15,
   "metadata": {
    "ExecuteTime": {
     "end_time": "2024-01-31T03:43:29.368383800Z",
     "start_time": "2024-01-31T03:43:29.354792200Z"
    },
    "collapsed": false
   },
   "outputs": [
    {
     "name": "stdout",
     "output_type": "stream",
     "text": [
      "s_ramp_up 4.163336342344337e-13\n",
      "s_ramp_down 5.329070518200751e-13\n",
      "s_over_gen 0.0\n",
      "s_load_shed 729116.6764741477\n",
      "s_if_max 3655926.436800874\n",
      "s_if_min 943821.7660877948\n",
      "s_br_max 0.0\n",
      "s_br_min 0.0\n",
      "s_esr_pcrg 0.0\n",
      "s_esr_pdis 0.0\n",
      "s_esr_soc_min 0.0\n",
      "s_esr_soc_max 0.0\n",
      "s_esr_soc_overt 0.0\n",
      "s_esr_soc_undert 7581.0\n"
     ]
    }
   ],
   "source": [
    "print(\"s_ramp_up\", results_0['s_ramp_up'].sum())\n",
    "print(\"s_ramp_down\", results_0['s_ramp_down'].sum())\n",
    "print(\"s_over_gen\", results_0['s_over_gen'].sum())\n",
    "print(\"s_load_shed\", results_0['s_load_shed'].sum())\n",
    "print(\"s_if_max\", results_0['s_if_max'].sum())\n",
    "print(\"s_if_min\", results_0['s_if_min'].sum())\n",
    "print(\"s_br_max\", results_0['s_br_max'].sum())\n",
    "print(\"s_br_min\", results_0['s_br_min'].sum())\n",
    "print(\"s_esr_pcrg\", results_0['s_esr_pcrg'].sum())\n",
    "print(\"s_esr_pdis\", results_0['s_esr_pdis'].sum())\n",
    "print(\"s_esr_soc_min\", results_0['s_esr_soc_min'].sum())\n",
    "print(\"s_esr_soc_max\", results_0['s_esr_soc_max'].sum())\n",
    "print(\"s_esr_soc_overt\", results_0['s_esr_soc_overt'].sum())\n",
    "print(\"s_esr_soc_undert\", results_0['s_esr_soc_undert'].sum())"
   ]
  },
  {
   "cell_type": "code",
   "execution_count": null,
   "metadata": {},
   "outputs": [],
   "source": [
    "# import pickle\n",
    "# # Save simulation nygrid_results to pickle\n",
    "# filename = f'nygrid_sim_yearly.pkl'\n",
    "# with open(os.path.join(results_dir, filename), 'wb') as f:\n",
    "#     pickle.dump(results_0, f)"
   ]
  },
  {
   "cell_type": "markdown",
   "metadata": {},
   "source": [
    "### With initial conditions"
   ]
  },
  {
   "cell_type": "code",
   "execution_count": null,
   "metadata": {
    "ExecuteTime": {
     "end_time": "2024-01-31T03:44:05.262246100Z",
     "start_time": "2024-01-31T03:44:05.199527Z"
    }
   },
   "outputs": [
    {
     "name": "stdout",
     "output_type": "stream",
     "text": [
      "Start time: 2018-01-31 00:00:00\n",
      "End time: 2018-03-02 00:00:00\n"
     ]
    }
   ],
   "source": [
    "# Only run for one day\n",
    "d = d+30\n",
    "start_datetime_1 = timestamp_list[d]\n",
    "end_datetime_1 = start_datetime_1 + timedelta(hours=24*30)\n",
    "print(f'Start time: {start_datetime_1}')\n",
    "print(f'End time: {end_datetime_1}')"
   ]
  },
  {
   "cell_type": "code",
   "execution_count": null,
   "metadata": {
    "ExecuteTime": {
     "end_time": "2024-01-31T03:44:36.035351300Z",
     "start_time": "2024-01-31T03:44:05.211045900Z"
    }
   },
   "outputs": [
    {
     "name": "stdout",
     "output_type": "stream",
     "text": [
      "Set parameter Username\n",
      "Academic license - for non-commercial use only - expires 2024-11-13\n",
      "Warning: row 1986368 (name \"c_e_x3448570_\") contains 50 small (<= 1e-13) coefficient(s), ignored\n",
      "Warning: row 1986423 (name \"c_e_x3448680_\") contains 99 small (<= 1e-13) coefficient(s), ignored\n",
      "Warning: row 1986428 (name \"c_e_x3448690_\") contains 150 small (<= 1e-13) coefficient(s), ignored\n",
      "Warning: row 1986429 (name \"c_e_x3448692_\") contains 201 small (<= 1e-13) coefficient(s), ignored\n",
      "Warning: row 1986430 (name \"c_e_x3448694_\") contains 256 small (<= 1e-13) coefficient(s), ignored\n",
      "Warning: row 1986462 (name \"c_e_x3448758_\") contains 306 small (<= 1e-13) coefficient(s), ignored\n",
      "Warning: row 1986517 (name \"c_e_x3448868_\") contains 355 small (<= 1e-13) coefficient(s), ignored\n",
      "Warning: row 1986522 (name \"c_e_x3448878_\") contains 406 small (<= 1e-13) coefficient(s), ignored\n",
      "Warning: row 1986523 (name \"c_e_x3448880_\") contains 457 small (<= 1e-13) coefficient(s), ignored\n",
      "Warning: row 1986524 (name \"c_e_x3448882_\") contains 512 small (<= 1e-13) coefficient(s), ignored\n",
      "skipping further warning of this kind\n",
      "Warning: row 1986556 (name \"c_e_x3448946_\") contains 562 small (<= 1e-13) coefficient(s), ignored\n",
      "Warning: lp file contains 184576 small (<= 1e-13) coefficient(s), ignored\n",
      "Read LP format model from file /tmp/tmpnw0jfkkf.pyomo.lp\n",
      "Reading time = 5.98 seconds\n",
      "x1: 2240156 rows, 1535730 columns, 9114349 nonzeros\n",
      "Set parameter QCPDual to value 1\n",
      "Gurobi Optimizer version 9.5.2 build v9.5.2rc0 (linux64)\n",
      "Thread count: 64 physical cores, 128 logical processors, using up to 32 threads\n",
      "Optimize a model with 2240156 rows, 1535730 columns and 9114349 nonzeros\n",
      "Model fingerprint: 0x4d9bb75a\n",
      "Variable types: 1044729 continuous, 491001 integer (491001 binary)\n",
      "Coefficient statistics:\n",
      "  Matrix range     [3e-06, 1e+01]\n",
      "  Objective range  [5e-01, 1e+05]\n",
      "  Bounds range     [1e+00, 1e+00]\n",
      "  RHS range        [4e-18, 2e+04]\n",
      "Presolve removed 1873327 rows and 1132787 columns (presolve time = 5s) ...\n",
      "Presolve removed 1923202 rows and 1295835 columns (presolve time = 64s) ...\n",
      "Presolve removed 2090774 rows and 1295835 columns (presolve time = 65s) ...\n",
      "Presolve removed 2061321 rows and 1207476 columns\n",
      "Presolve time: 65.18s\n",
      "Presolved: 178835 rows, 328254 columns, 1068276 nonzeros\n",
      "Variable types: 263339 continuous, 64915 integer (64915 binary)\n",
      "\n",
      "Deterministic concurrent LP optimizer: primal and dual simplex\n",
      "Showing first log only...\n",
      "\n",
      "\n",
      "Root simplex log...\n",
      "\n",
      "Iteration    Objective       Primal Inf.    Dual Inf.      Time\n",
      "  157140    1.0729338e+09   0.000000e+00   0.000000e+00     69s\n",
      "  157140    1.0729338e+09   0.000000e+00   0.000000e+00     69s\n",
      "Concurrent spin time: 0.04s\n",
      "\n",
      "Solved with dual simplex\n",
      "\n",
      "Root relaxation: objective 1.072934e+09, 83821 iterations, 2.57 seconds (3.41 work units)\n",
      "\n",
      "    Nodes    |    Current Node    |     Objective Bounds      |     Work\n",
      " Expl Unexpl |  Obj  Depth IntInf | Incumbent    BestBd   Gap | It/Node Time\n",
      "\n",
      "*    0     0               0    1.072934e+09 1.0729e+09  0.00%     -   69s\n",
      "\n",
      "Explored 1 nodes (83821 simplex iterations) in 69.57 seconds (38.19 work units)\n",
      "Thread count was 32 (of 128 available processors)\n",
      "\n",
      "Solution count 1: 1.07293e+09 \n",
      "\n",
      "Optimal solution found (tolerance 1.00e-04)\n",
      "Best objective 1.072933750463e+09, best bound 1.072933750463e+09, gap 0.0000%\n"
     ]
    }
   ],
   "source": [
    "# Create NYGrid object\n",
    "nygrid_sim_1 = ng_grid.NYGrid(grid_prop=grid_prop,\n",
    "                              start_datetime=start_datetime_1,\n",
    "                              end_datetime=end_datetime_1,\n",
    "                              verbose=verbose)\n",
    "\n",
    "# Set load and generation time series data\n",
    "nygrid_sim_1.set_load_sch(grid_profile['load_profile'])\n",
    "nygrid_sim_1.set_gen_mw_sch(grid_profile['gen_profile'])\n",
    "nygrid_sim_1.set_gen_max_sch(grid_profile['genmax_profile'])\n",
    "nygrid_sim_1.set_gen_min_sch(grid_profile['genmin_profile'])\n",
    "nygrid_sim_1.set_gen_ramp_sch(grid_profile['genramp30_profile'])\n",
    "nygrid_sim_1.set_gen_cost_sch(grid_profile['gencost0_profile'],\n",
    "                              grid_profile['gencost1_profile'])\n",
    "nygrid_sim_1.set_gen_cost_startup_sch(grid_profile['gencost_startup_profile'])\n",
    "nygrid_sim_1.set_gen_cost_shutdown_sch(grid_profile['gencost_shutdown_profile'])\n",
    "\n",
    "if 'genmax_profile_vre' in grid_profile:\n",
    "    nygrid_sim_1.set_vre_max_sch(grid_profile['genmax_profile_vre'])\n",
    "\n",
    "# Relax branch flow limits\n",
    "nygrid_sim_1.relax_external_branch_lim()\n",
    "\n",
    "# Set initial conditions for the next iteration\n",
    "end_datetime_day1 = start_datetime_1 + timedelta(hours=-1)\n",
    "\n",
    "# Set generator initial condition\n",
    "last_gen = results_0['PG'].loc[end_datetime_day1].to_numpy().squeeze()\n",
    "nygrid_sim_1.set_gen_init_data(gen_init=last_gen)\n",
    "\n",
    "# Set generator initial unit commitment condition\n",
    "last_gen_commit = results_0['genCommit'].loc[end_datetime_day1].to_numpy().squeeze()\n",
    "nygrid_sim_1.set_gen_init_cmt_data(gen_init_cmt=last_gen_commit)\n",
    "\n",
    "# Set ESR initial condition for the next iteration\n",
    "last_soc = results_0['esrSOC'].loc[end_datetime_day1].to_numpy().squeeze()\n",
    "nygrid_sim_1.set_esr_init_data(esr_init=last_soc)\n",
    "\n",
    "# Set options\n",
    "options = {\n",
    "    'UsePTDF': True,\n",
    "    'solver': 'gurobi',\n",
    "    'PenaltyForLoadShed': 20_000,\n",
    "    # 'PenaltyForBranchMwViolation': 10_000,\n",
    "    # 'PenaltyForInterfaceMWViolation': 10_000\n",
    "}\n",
    "\n",
    "nygrid_sim_1.set_options(options)\n",
    "\n",
    "# Solve DC OPF\n",
    "nygrid_sim_1.solve_dc_opf()\n",
    "\n",
    "# Get results\n",
    "results_1 = nygrid_sim_1.get_results_dc_opf()"
   ]
  },
  {
   "cell_type": "code",
   "execution_count": null,
   "metadata": {
    "ExecuteTime": {
     "end_time": "2024-01-31T03:44:36.064976Z",
     "start_time": "2024-01-31T03:44:36.038880Z"
    },
    "collapsed": false
   },
   "outputs": [
    {
     "name": "stdout",
     "output_type": "stream",
     "text": [
      "s_ramp_up 9.825473767932635e-13\n",
      "s_ramp_down 1.5154544286133387e-12\n",
      "s_over_gen 0.0\n",
      "s_load_shed 0.0\n",
      "s_if_max 1424582.3920144965\n",
      "s_if_min 384.8048528884677\n",
      "s_br_max 0.0\n",
      "s_br_min 0.0\n",
      "s_esr_pcrg 0.0\n",
      "s_esr_pdis 0.0\n",
      "s_esr_soc_min 0.0\n",
      "s_esr_soc_max 0.0\n",
      "s_esr_soc_overt 0.0\n",
      "s_esr_soc_undert 7581.0\n"
     ]
    }
   ],
   "source": [
    "print(\"s_ramp_up\", results_1['s_ramp_up'].sum())\n",
    "print(\"s_ramp_down\", results_1['s_ramp_down'].sum())\n",
    "print(\"s_over_gen\", results_1['s_over_gen'].sum())\n",
    "print(\"s_load_shed\", results_1['s_load_shed'].sum())\n",
    "print(\"s_if_max\", results_1['s_if_max'].sum())\n",
    "print(\"s_if_min\", results_1['s_if_min'].sum())\n",
    "print(\"s_br_max\", results_1['s_br_max'].sum())\n",
    "print(\"s_br_min\", results_1['s_br_min'].sum())\n",
    "print(\"s_esr_pcrg\", results_1['s_esr_pcrg'].sum())\n",
    "print(\"s_esr_pdis\", results_1['s_esr_pdis'].sum())\n",
    "print(\"s_esr_soc_min\", results_1['s_esr_soc_min'].sum())\n",
    "print(\"s_esr_soc_max\", results_1['s_esr_soc_max'].sum())\n",
    "print(\"s_esr_soc_overt\", results_1['s_esr_soc_overt'].sum())\n",
    "print(\"s_esr_soc_undert\", results_1['s_esr_soc_undert'].sum())"
   ]
  },
  {
   "cell_type": "markdown",
   "metadata": {},
   "source": [
    "## Process the results"
   ]
  },
  {
   "cell_type": "markdown",
   "metadata": {},
   "source": [
    "### Costs"
   ]
  },
  {
   "cell_type": "code",
   "execution_count": null,
   "metadata": {},
   "outputs": [
    {
     "name": "stdout",
     "output_type": "stream",
     "text": [
      "Total cost: 13690063239.39\n",
      "Total penalty: 601819786.91\n",
      "Total cost and penalty: 14291883026.30\n",
      "Gen cost: 13690068226.59\n",
      "Gen no load cost: 716714900.99\n",
      "Gen startup cost: 0.00\n",
      "Gen shutdown cost: 0.00\n",
      "ESR cost: -4987.20\n",
      "Over generation penalty: 0.00\n",
      "Load shed penalty: 394606136.60\n",
      "Ramp up penalty: 0.00\n",
      "Ramp down penalty: 0.00\n",
      "Interface max penalty: 191464154.26\n",
      "Interface min penalty: 15711591.05\n",
      "Branch max penalty: 0.00\n",
      "Branch min penalty: 0.00\n",
      "ESR Charging power penalty: 0.00\n",
      "ESR Discharging power penalty: 0.00\n",
      "ESR SOC max penalty: 0.00\n",
      "ESR SOC min penalty: 0.00\n",
      "ESR SOC over target penalty: 0.00\n",
      "ESR SOC under target penalty: 37905.00\n"
     ]
    }
   ],
   "source": [
    "print(f'Total cost: {results_0[\"total_cost\"].sum():.2f}')\n",
    "print(f'Total penalty: {results_0[\"total_penalty\"].sum():.2f}')\n",
    "print(f'Total cost and penalty: {results_0[\"total_cost_penalty\"].sum():.2f}')\n",
    "\n",
    "print(f'Gen cost: {results_0[\"gen_cost\"].sum():.2f}')\n",
    "print(f'Gen no load cost: {results_0[\"gen_cost_noload\"].sum():.2f}')\n",
    "print(f'Gen startup cost: {results_0[\"gen_cost_startup\"].sum():.2f}')\n",
    "print(f'Gen shutdown cost: {results_0[\"gen_cost_shutdown\"].sum():.2f}')\n",
    "print(f'ESR cost: {results_0[\"esr_cost\"].sum():.2f}')\n",
    "\n",
    "print(f'Over generation penalty: {results_0[\"over_gen_penalty\"].sum():.2f}')\n",
    "print(f'Load shed penalty: {results_0[\"load_shed_penalty\"].sum():.2f}')\n",
    "print(f'Ramp up penalty: {results_0[\"ramp_up_penalty\"].sum():.2f}')\n",
    "print(f'Ramp down penalty: {results_0[\"ramp_down_penalty\"].sum():.2f}')\n",
    "print(f'Interface max penalty: {results_0[\"if_max_penalty\"].sum():.2f}')\n",
    "print(f'Interface min penalty: {results_0[\"if_min_penalty\"].sum():.2f}')\n",
    "print(f'Branch max penalty: {results_0[\"br_max_penalty\"].sum():.2f}')\n",
    "print(f'Branch min penalty: {results_0[\"br_min_penalty\"].sum():.2f}')\n",
    "\n",
    "print(f'ESR Charging power penalty: {results_0[\"esr_pcrg_penalty\"].sum():.2f}')\n",
    "print(f'ESR Discharging power penalty: {results_0[\"esr_pdis_penalty\"].sum():.2f}')\n",
    "print(f'ESR SOC max penalty: {results_0[\"esr_soc_max_penalty\"].sum():.2f}')\n",
    "print(f'ESR SOC min penalty: {results_0[\"esr_soc_min_penalty\"].sum():.2f}')\n",
    "print(f'ESR SOC over target penalty: {results_0[\"esr_soc_overt_penalty\"].sum():.2f}')\n",
    "print(f'ESR SOC under target penalty: {results_0[\"esr_soc_undert_penalty\"].sum():.2f}')\n"
   ]
  },
  {
   "cell_type": "code",
   "execution_count": null,
   "metadata": {},
   "outputs": [
    {
     "name": "stdout",
     "output_type": "stream",
     "text": [
      "Total cost: 993320724.64\n",
      "Total penalty: 14287576.97\n",
      "Total cost and penalty: 1007608301.61\n",
      "Gen cost: 993321112.45\n",
      "Gen no load cost: 65229930.13\n",
      "Gen startup cost: 95518.72\n",
      "Gen shutdown cost: 0.00\n",
      "ESR cost: -387.81\n",
      "Over generation penalty: 0.00\n",
      "Load shed penalty: 0.00\n",
      "Ramp up penalty: 0.00\n",
      "Ramp down penalty: 0.00\n",
      "Interface max penalty: 14245823.92\n",
      "Interface min penalty: 3848.05\n",
      "Branch max penalty: 0.00\n",
      "Branch min penalty: 0.00\n",
      "ESR Charging power penalty: 0.00\n",
      "ESR Discharging power penalty: 0.00\n",
      "ESR SOC max penalty: 0.00\n",
      "ESR SOC min penalty: 0.00\n",
      "ESR SOC over target penalty: 0.00\n",
      "ESR SOC under target penalty: 37905.00\n"
     ]
    }
   ],
   "source": [
    "print(f'Total cost: {results_1[\"total_cost\"].sum():.2f}')\n",
    "print(f'Total penalty: {results_1[\"total_penalty\"].sum():.2f}')\n",
    "print(f'Total cost and penalty: {results_1[\"total_cost_penalty\"].sum():.2f}')\n",
    "\n",
    "print(f'Gen cost: {results_1[\"gen_cost\"].sum():.2f}')\n",
    "print(f'Gen no load cost: {results_1[\"gen_cost_noload\"].sum():.2f}')\n",
    "print(f'Gen startup cost: {results_1[\"gen_cost_startup\"].sum():.2f}')\n",
    "print(f'Gen shutdown cost: {results_1[\"gen_cost_shutdown\"].sum():.2f}')\n",
    "print(f'ESR cost: {results_1[\"esr_cost\"].sum():.2f}')\n",
    "\n",
    "print(f'Over generation penalty: {results_1[\"over_gen_penalty\"].sum():.2f}')\n",
    "print(f'Load shed penalty: {results_1[\"load_shed_penalty\"].sum():.2f}')\n",
    "print(f'Ramp up penalty: {results_1[\"ramp_up_penalty\"].sum():.2f}')\n",
    "print(f'Ramp down penalty: {results_1[\"ramp_down_penalty\"].sum():.2f}')\n",
    "print(f'Interface max penalty: {results_1[\"if_max_penalty\"].sum():.2f}')\n",
    "print(f'Interface min penalty: {results_1[\"if_min_penalty\"].sum():.2f}')\n",
    "print(f'Branch max penalty: {results_1[\"br_max_penalty\"].sum():.2f}')\n",
    "print(f'Branch min penalty: {results_1[\"br_min_penalty\"].sum():.2f}')\n",
    "\n",
    "print(f'ESR Charging power penalty: {results_1[\"esr_pcrg_penalty\"].sum():.2f}')\n",
    "print(f'ESR Discharging power penalty: {results_1[\"esr_pdis_penalty\"].sum():.2f}')\n",
    "print(f'ESR SOC max penalty: {results_1[\"esr_soc_max_penalty\"].sum():.2f}')\n",
    "print(f'ESR SOC min penalty: {results_1[\"esr_soc_min_penalty\"].sum():.2f}')\n",
    "print(f'ESR SOC over target penalty: {results_1[\"esr_soc_overt_penalty\"].sum():.2f}')\n",
    "print(f'ESR SOC under target penalty: {results_1[\"esr_soc_undert_penalty\"].sum():.2f}')\n"
   ]
  },
  {
   "cell_type": "markdown",
   "metadata": {},
   "source": [
    "### LMP"
   ]
  },
  {
   "cell_type": "code",
   "execution_count": null,
   "metadata": {},
   "outputs": [],
   "source": [
    "# # Create a dict where key is busIdx and value is zoneID\n",
    "# bus_zone_alloc = nygrid_sim_0.grid_prop['bus_prop'].set_index(\n",
    "#     'BUS_I').to_dict()['BUS_ZONE']\n",
    "# bus_names = list(bus_zone_alloc.keys())\n",
    "# bus_names_str = [f'Bus{i}' for i in bus_names]"
   ]
  },
  {
   "cell_type": "code",
   "execution_count": null,
   "metadata": {},
   "outputs": [],
   "source": [
    "# lmp_0 = results_0['LMP']\n",
    "# lmp_0.columns = bus_names\n",
    "\n",
    "# # Aggregate LMPs by zone\n",
    "# lmp_0_zone = lmp_0.T.groupby(bus_zone_alloc).mean().T\n",
    "\n",
    "# lmp_1 = results_1['LMP']\n",
    "# lmp_1.columns = bus_names\n",
    "\n",
    "# # Aggregate LMPs by zone\n",
    "# lmp_1_zone = lmp_1.T.groupby(bus_zone_alloc).mean().T"
   ]
  },
  {
   "cell_type": "code",
   "execution_count": null,
   "metadata": {},
   "outputs": [],
   "source": [
    "# fig, axs = plt.subplots(7, 2, figsize=(12, 12), \n",
    "#                         sharex='all', sharey='all',\n",
    "#                         layout='constrained')\n",
    "# # Plot LMPs w/o ESR\n",
    "# for i, ax in enumerate(axs.flat):\n",
    "#     lmp_0_zone.iloc[:, i].plot(ax=ax, label='Day 1 w/o IC', alpha=0.5)\n",
    "#     lmp_1_zone.iloc[:, i].plot(ax=ax, label='Day 2 w/ IC', alpha=0.5)\n",
    "#     ax.set_title(lmp_1_zone.columns[i])\n",
    "#     ax.legend()\n",
    "# fig.suptitle('LMP')"
   ]
  },
  {
   "cell_type": "markdown",
   "metadata": {},
   "source": [
    "### ESR"
   ]
  },
  {
   "cell_type": "code",
   "execution_count": null,
   "metadata": {},
   "outputs": [
    {
     "name": "stdout",
     "output_type": "stream",
     "text": [
      "crg_max: 18.5, dis_max: 18.5, crg_eff: 0.85, dis_eff: 0.85, soc_init: 37, soc_max: 74\n"
     ]
    }
   ],
   "source": [
    "ii = 7\n",
    "crg_max = grid_prop['esr_prop']['ESR_CRG_MAX'].iloc[ii]\n",
    "dis_max = grid_prop['esr_prop']['ESR_DIS_MAX'].iloc[ii]\n",
    "crg_eff = grid_prop['esr_prop']['ESR_CRG_EFF'].iloc[ii]\n",
    "dis_eff = grid_prop['esr_prop']['ESR_DIS_EFF'].iloc[ii]\n",
    "soc_init = grid_prop['esr_prop']['ESR_SOC_INI'].iloc[ii]\n",
    "soc_max = grid_prop['esr_prop']['ESR_SOC_MAX'].iloc[ii]\n",
    "\n",
    "print(f'crg_max: {crg_max}, dis_max: {dis_max}, crg_eff: {crg_eff}, dis_eff: {dis_eff}, soc_init: {soc_init}, soc_max: {soc_max}')\n"
   ]
  },
  {
   "cell_type": "code",
   "execution_count": null,
   "metadata": {},
   "outputs": [
    {
     "data": {
      "image/png": "[encoded data removed]",
      "text/plain": [
       "<Figure size 1000x600 with 3 Axes>"
      ]
     },
     "metadata": {},
     "output_type": "display_data"
    }
   ],
   "source": [
    "fig, axs = plt.subplots(3, 1, figsize=(10, 6),\n",
    "                       sharex=True, layout='constrained')\n",
    "\n",
    "results_0['esrPCrg'].iloc[:, ii].plot(ax=axs[0], label='Day 1 w/o IC', alpha=0.5)\n",
    "results_0['esrPDis'].iloc[:, ii].plot(ax=axs[1], label='Day 1 w/o IC', alpha=0.5)\n",
    "results_0['esrSOC'].iloc[:, ii].plot(ax=axs[2], label='Day 1 w/o IC', alpha=0.5)\n",
    "\n",
    "# results_1['esrPCrg'].iloc[:, ii].plot(ax=axs[0], label='Day 2 w/ IC', alpha=0.5)\n",
    "# results_1['esrPDis'].iloc[:, ii].plot(ax=axs[1], label='Day 2 w/ IC', alpha=0.5)\n",
    "# results_1['esrSOC'].iloc[:, ii].plot(ax=axs[2], label='Day 2 w/ IC', alpha=0.5)\n",
    "\n",
    "titles = ['Charge Power', 'Discharge Power', 'State of Charge']\n",
    "for i, ax in enumerate(axs):\n",
    "    ax.set_title(titles[i])"
   ]
  },
  {
   "cell_type": "markdown",
   "metadata": {},
   "source": [
    "### Thermal generation"
   ]
  },
  {
   "cell_type": "code",
   "execution_count": null,
   "metadata": {
    "ExecuteTime": {
     "end_time": "2024-01-31T03:45:07.892430600Z",
     "start_time": "2024-01-31T03:45:07.840895Z"
    }
   },
   "outputs": [
    {
     "data": {
      "text/html": [
       "<div>\n",
       "<style scoped>\n",
       "    .dataframe tbody tr th:only-of-type {\n",
       "        vertical-align: middle;\n",
       "    }\n",
       "\n",
       "    .dataframe tbody tr th {\n",
       "        vertical-align: top;\n",
       "    }\n",
       "\n",
       "    .dataframe thead th {\n",
       "        text-align: right;\n",
       "    }\n",
       "</style>\n",
       "<table border=\"1\" class=\"dataframe\">\n",
       "  <thead>\n",
       "    <tr style=\"text-align: right;\">\n",
       "      <th></th>\n",
       "      <th>NYISOName</th>\n",
       "      <th>PTID</th>\n",
       "      <th>Zone</th>\n",
       "      <th>UnitType</th>\n",
       "      <th>FuelType</th>\n",
       "      <th>Latitude</th>\n",
       "      <th>Longitude</th>\n",
       "      <th>maxPower</th>\n",
       "      <th>minPower</th>\n",
       "      <th>maxRampAgc</th>\n",
       "      <th>...</th>\n",
       "      <th>maxRamp60</th>\n",
       "      <th>HeatRateLM_1</th>\n",
       "      <th>HeatRateLM_0</th>\n",
       "      <th>HeatRateLM_R2</th>\n",
       "      <th>HeatRateQM_2</th>\n",
       "      <th>HeatRateQM_1</th>\n",
       "      <th>HeatRateQM_0</th>\n",
       "      <th>HeatRateQM_R2</th>\n",
       "      <th>useQM</th>\n",
       "      <th>start-time</th>\n",
       "    </tr>\n",
       "  </thead>\n",
       "  <tbody>\n",
       "    <tr>\n",
       "      <th>0</th>\n",
       "      <td>59 St.  GT 1</td>\n",
       "      <td>24138</td>\n",
       "      <td>J</td>\n",
       "      <td>Combustion Turbine</td>\n",
       "      <td>Kerosene</td>\n",
       "      <td>40.772385</td>\n",
       "      <td>-73.993028</td>\n",
       "      <td>17.1</td>\n",
       "      <td>0.0</td>\n",
       "      <td>1.710000</td>\n",
       "      <td>...</td>\n",
       "      <td>17.1</td>\n",
       "      <td>13.315000</td>\n",
       "      <td>0.000000</td>\n",
       "      <td>0.000000</td>\n",
       "      <td>0.000000</td>\n",
       "      <td>0.000000</td>\n",
       "      <td>0.000000</td>\n",
       "      <td>0.000000</td>\n",
       "      <td>0</td>\n",
       "      <td>10m</td>\n",
       "    </tr>\n",
       "    <tr>\n",
       "      <th>1</th>\n",
       "      <td>74 St.  GT 1</td>\n",
       "      <td>24260</td>\n",
       "      <td>J</td>\n",
       "      <td>Combustion Turbine</td>\n",
       "      <td>Kerosene</td>\n",
       "      <td>40.768421</td>\n",
       "      <td>-73.951731</td>\n",
       "      <td>18.5</td>\n",
       "      <td>0.0</td>\n",
       "      <td>1.850000</td>\n",
       "      <td>...</td>\n",
       "      <td>18.5</td>\n",
       "      <td>13.315000</td>\n",
       "      <td>0.000000</td>\n",
       "      <td>0.000000</td>\n",
       "      <td>0.000000</td>\n",
       "      <td>0.000000</td>\n",
       "      <td>0.000000</td>\n",
       "      <td>0.000000</td>\n",
       "      <td>0</td>\n",
       "      <td>10m</td>\n",
       "    </tr>\n",
       "    <tr>\n",
       "      <th>2</th>\n",
       "      <td>74 St.  GT 2</td>\n",
       "      <td>24261</td>\n",
       "      <td>J</td>\n",
       "      <td>Combustion Turbine</td>\n",
       "      <td>Kerosene</td>\n",
       "      <td>40.768421</td>\n",
       "      <td>-73.951731</td>\n",
       "      <td>18.5</td>\n",
       "      <td>0.0</td>\n",
       "      <td>1.850000</td>\n",
       "      <td>...</td>\n",
       "      <td>18.5</td>\n",
       "      <td>13.315000</td>\n",
       "      <td>0.000000</td>\n",
       "      <td>0.000000</td>\n",
       "      <td>0.000000</td>\n",
       "      <td>0.000000</td>\n",
       "      <td>0.000000</td>\n",
       "      <td>0.000000</td>\n",
       "      <td>0</td>\n",
       "      <td>10m</td>\n",
       "    </tr>\n",
       "    <tr>\n",
       "      <th>3</th>\n",
       "      <td>Allegany</td>\n",
       "      <td>23514</td>\n",
       "      <td>B</td>\n",
       "      <td>Combined Cycle</td>\n",
       "      <td>Natural Gas</td>\n",
       "      <td>42.508300</td>\n",
       "      <td>-78.066100</td>\n",
       "      <td>66.0</td>\n",
       "      <td>11.0</td>\n",
       "      <td>6.600000</td>\n",
       "      <td>...</td>\n",
       "      <td>66.0</td>\n",
       "      <td>8.218122</td>\n",
       "      <td>-14.577671</td>\n",
       "      <td>0.862443</td>\n",
       "      <td>-0.094773</td>\n",
       "      <td>15.209040</td>\n",
       "      <td>-125.857658</td>\n",
       "      <td>0.891407</td>\n",
       "      <td>1</td>\n",
       "      <td>10m</td>\n",
       "    </tr>\n",
       "    <tr>\n",
       "      <th>4</th>\n",
       "      <td>Allied Frozen Storage</td>\n",
       "      <td>23774</td>\n",
       "      <td>A</td>\n",
       "      <td>Internal Combustion</td>\n",
       "      <td>Natural Gas</td>\n",
       "      <td>42.842029</td>\n",
       "      <td>-78.722673</td>\n",
       "      <td>0.1</td>\n",
       "      <td>0.0</td>\n",
       "      <td>0.010000</td>\n",
       "      <td>...</td>\n",
       "      <td>0.1</td>\n",
       "      <td>8.899000</td>\n",
       "      <td>0.000000</td>\n",
       "      <td>0.000000</td>\n",
       "      <td>0.000000</td>\n",
       "      <td>0.000000</td>\n",
       "      <td>0.000000</td>\n",
       "      <td>0.000000</td>\n",
       "      <td>0</td>\n",
       "      <td>10m</td>\n",
       "    </tr>\n",
       "    <tr>\n",
       "      <th>...</th>\n",
       "      <td>...</td>\n",
       "      <td>...</td>\n",
       "      <td>...</td>\n",
       "      <td>...</td>\n",
       "      <td>...</td>\n",
       "      <td>...</td>\n",
       "      <td>...</td>\n",
       "      <td>...</td>\n",
       "      <td>...</td>\n",
       "      <td>...</td>\n",
       "      <td>...</td>\n",
       "      <td>...</td>\n",
       "      <td>...</td>\n",
       "      <td>...</td>\n",
       "      <td>...</td>\n",
       "      <td>...</td>\n",
       "      <td>...</td>\n",
       "      <td>...</td>\n",
       "      <td>...</td>\n",
       "      <td>...</td>\n",
       "      <td>...</td>\n",
       "    </tr>\n",
       "    <tr>\n",
       "      <th>222</th>\n",
       "      <td>Vernon Blvd 3</td>\n",
       "      <td>24163</td>\n",
       "      <td>J</td>\n",
       "      <td>Combustion Turbine</td>\n",
       "      <td>Natural Gas</td>\n",
       "      <td>40.753900</td>\n",
       "      <td>-73.950600</td>\n",
       "      <td>42.0</td>\n",
       "      <td>15.0</td>\n",
       "      <td>0.558333</td>\n",
       "      <td>...</td>\n",
       "      <td>33.5</td>\n",
       "      <td>17.272897</td>\n",
       "      <td>-319.572736</td>\n",
       "      <td>0.893510</td>\n",
       "      <td>0.524043</td>\n",
       "      <td>-14.979198</td>\n",
       "      <td>132.238854</td>\n",
       "      <td>0.935802</td>\n",
       "      <td>1</td>\n",
       "      <td>over</td>\n",
       "    </tr>\n",
       "    <tr>\n",
       "      <th>223</th>\n",
       "      <td>Wading River 1</td>\n",
       "      <td>23522</td>\n",
       "      <td>K</td>\n",
       "      <td>Combustion Turbine</td>\n",
       "      <td>Fuel Oil 2</td>\n",
       "      <td>40.956900</td>\n",
       "      <td>-72.877400</td>\n",
       "      <td>102.0</td>\n",
       "      <td>9.0</td>\n",
       "      <td>1.258333</td>\n",
       "      <td>...</td>\n",
       "      <td>75.5</td>\n",
       "      <td>12.779330</td>\n",
       "      <td>-5.232355</td>\n",
       "      <td>0.960069</td>\n",
       "      <td>-0.051615</td>\n",
       "      <td>18.026301</td>\n",
       "      <td>-96.225639</td>\n",
       "      <td>0.967170</td>\n",
       "      <td>1</td>\n",
       "      <td>over</td>\n",
       "    </tr>\n",
       "    <tr>\n",
       "      <th>224</th>\n",
       "      <td>Wading River 2</td>\n",
       "      <td>23547</td>\n",
       "      <td>K</td>\n",
       "      <td>Combustion Turbine</td>\n",
       "      <td>Fuel Oil 2</td>\n",
       "      <td>40.956900</td>\n",
       "      <td>-72.877400</td>\n",
       "      <td>94.0</td>\n",
       "      <td>7.8</td>\n",
       "      <td>1.350000</td>\n",
       "      <td>...</td>\n",
       "      <td>81.0</td>\n",
       "      <td>13.381103</td>\n",
       "      <td>-32.778267</td>\n",
       "      <td>0.981323</td>\n",
       "      <td>-0.027035</td>\n",
       "      <td>15.957351</td>\n",
       "      <td>-73.206752</td>\n",
       "      <td>0.982889</td>\n",
       "      <td>1</td>\n",
       "      <td>over</td>\n",
       "    </tr>\n",
       "    <tr>\n",
       "      <th>225</th>\n",
       "      <td>Wading River 3</td>\n",
       "      <td>23601</td>\n",
       "      <td>K</td>\n",
       "      <td>Combustion Turbine</td>\n",
       "      <td>Fuel Oil 2</td>\n",
       "      <td>40.956900</td>\n",
       "      <td>-72.877400</td>\n",
       "      <td>94.0</td>\n",
       "      <td>4.0</td>\n",
       "      <td>1.333333</td>\n",
       "      <td>...</td>\n",
       "      <td>80.0</td>\n",
       "      <td>12.154083</td>\n",
       "      <td>-11.601042</td>\n",
       "      <td>0.822005</td>\n",
       "      <td>-0.022269</td>\n",
       "      <td>14.190789</td>\n",
       "      <td>-39.250293</td>\n",
       "      <td>0.821057</td>\n",
       "      <td>1</td>\n",
       "      <td>over</td>\n",
       "    </tr>\n",
       "    <tr>\n",
       "      <th>226</th>\n",
       "      <td>West Babylon 4</td>\n",
       "      <td>23714</td>\n",
       "      <td>K</td>\n",
       "      <td>Combustion Turbine</td>\n",
       "      <td>Fuel Oil 2</td>\n",
       "      <td>40.695300</td>\n",
       "      <td>-73.349700</td>\n",
       "      <td>65.0</td>\n",
       "      <td>3.0</td>\n",
       "      <td>0.808333</td>\n",
       "      <td>...</td>\n",
       "      <td>48.5</td>\n",
       "      <td>13.329920</td>\n",
       "      <td>15.831076</td>\n",
       "      <td>0.989745</td>\n",
       "      <td>-0.060122</td>\n",
       "      <td>17.055560</td>\n",
       "      <td>-25.892847</td>\n",
       "      <td>0.993619</td>\n",
       "      <td>1</td>\n",
       "      <td>over</td>\n",
       "    </tr>\n",
       "  </tbody>\n",
       "</table>\n",
       "<p>227 rows × 22 columns</p>\n",
       "</div>"
      ],
      "text/plain": [
       "                 NYISOName   PTID Zone             UnitType     FuelType  \\\n",
       "0             59 St.  GT 1  24138    J   Combustion Turbine     Kerosene   \n",
       "1             74 St.  GT 1  24260    J   Combustion Turbine     Kerosene   \n",
       "2             74 St.  GT 2  24261    J   Combustion Turbine     Kerosene   \n",
       "3                 Allegany  23514    B       Combined Cycle  Natural Gas   \n",
       "4    Allied Frozen Storage  23774    A  Internal Combustion  Natural Gas   \n",
       "..                     ...    ...  ...                  ...          ...   \n",
       "222          Vernon Blvd 3  24163    J   Combustion Turbine  Natural Gas   \n",
       "223         Wading River 1  23522    K   Combustion Turbine   Fuel Oil 2   \n",
       "224         Wading River 2  23547    K   Combustion Turbine   Fuel Oil 2   \n",
       "225         Wading River 3  23601    K   Combustion Turbine   Fuel Oil 2   \n",
       "226         West Babylon 4  23714    K   Combustion Turbine   Fuel Oil 2   \n",
       "\n",
       "      Latitude  Longitude  maxPower  minPower  maxRampAgc  ...  maxRamp60  \\\n",
       "0    40.772385 -73.993028      17.1       0.0    1.710000  ...       17.1   \n",
       "1    40.768421 -73.951731      18.5       0.0    1.850000  ...       18.5   \n",
       "2    40.768421 -73.951731      18.5       0.0    1.850000  ...       18.5   \n",
       "3    42.508300 -78.066100      66.0      11.0    6.600000  ...       66.0   \n",
       "4    42.842029 -78.722673       0.1       0.0    0.010000  ...        0.1   \n",
       "..         ...        ...       ...       ...         ...  ...        ...   \n",
       "222  40.753900 -73.950600      42.0      15.0    0.558333  ...       33.5   \n",
       "223  40.956900 -72.877400     102.0       9.0    1.258333  ...       75.5   \n",
       "224  40.956900 -72.877400      94.0       7.8    1.350000  ...       81.0   \n",
       "225  40.956900 -72.877400      94.0       4.0    1.333333  ...       80.0   \n",
       "226  40.695300 -73.349700      65.0       3.0    0.808333  ...       48.5   \n",
       "\n",
       "     HeatRateLM_1  HeatRateLM_0  HeatRateLM_R2  HeatRateQM_2  HeatRateQM_1  \\\n",
       "0       13.315000      0.000000       0.000000      0.000000      0.000000   \n",
       "1       13.315000      0.000000       0.000000      0.000000      0.000000   \n",
       "2       13.315000      0.000000       0.000000      0.000000      0.000000   \n",
       "3        8.218122    -14.577671       0.862443     -0.094773     15.209040   \n",
       "4        8.899000      0.000000       0.000000      0.000000      0.000000   \n",
       "..            ...           ...            ...           ...           ...   \n",
       "222     17.272897   -319.572736       0.893510      0.524043    -14.979198   \n",
       "223     12.779330     -5.232355       0.960069     -0.051615     18.026301   \n",
       "224     13.381103    -32.778267       0.981323     -0.027035     15.957351   \n",
       "225     12.154083    -11.601042       0.822005     -0.022269     14.190789   \n",
       "226     13.329920     15.831076       0.989745     -0.060122     17.055560   \n",
       "\n",
       "     HeatRateQM_0  HeatRateQM_R2  useQM  start-time  \n",
       "0        0.000000       0.000000      0         10m  \n",
       "1        0.000000       0.000000      0         10m  \n",
       "2        0.000000       0.000000      0         10m  \n",
       "3     -125.857658       0.891407      1         10m  \n",
       "4        0.000000       0.000000      0         10m  \n",
       "..            ...            ...    ...         ...  \n",
       "222    132.238854       0.935802      1        over  \n",
       "223    -96.225639       0.967170      1        over  \n",
       "224    -73.206752       0.982889      1        over  \n",
       "225    -39.250293       0.821057      1        over  \n",
       "226    -25.892847       0.993619      1        over  \n",
       "\n",
       "[227 rows x 22 columns]"
      ]
     },
     "execution_count": 16,
     "metadata": {},
     "output_type": "execute_result"
    }
   ],
   "source": [
    "# Read thermal generator info table\n",
    "filename = os.path.join(grid_data_dir, 'genInfo.csv')\n",
    "gen_info = pd.read_csv(filename)\n",
    "num_thermal = gen_info.shape[0]\n",
    "gen_rename = {gen_info.index[i]: gen_info.NYISOName[i]\n",
    "              for i in range(num_thermal)}\n",
    "gen_info"
   ]
  },
  {
   "cell_type": "code",
   "execution_count": null,
   "metadata": {
    "ExecuteTime": {
     "end_time": "2024-01-31T03:45:07.978792300Z",
     "start_time": "2024-01-31T03:45:07.893439900Z"
    }
   },
   "outputs": [],
   "source": [
    "# Format results\n",
    "thermal_pg_0 = (results_0['PG'].iloc[:, :num_thermal]\n",
    "                .rename(columns=gen_rename))\n",
    "\n",
    "# thermal_pg_1 = (results_1['PG'].iloc[:, :num_thermal]\n",
    "#                 .rename(columns=gen_rename))"
   ]
  },
  {
   "cell_type": "code",
   "execution_count": null,
   "metadata": {},
   "outputs": [
    {
     "data": {
      "text/html": [
       "<div>\n",
       "<style scoped>\n",
       "    .dataframe tbody tr th:only-of-type {\n",
       "        vertical-align: middle;\n",
       "    }\n",
       "\n",
       "    .dataframe tbody tr th {\n",
       "        vertical-align: top;\n",
       "    }\n",
       "\n",
       "    .dataframe thead th {\n",
       "        text-align: right;\n",
       "    }\n",
       "</style>\n",
       "<table border=\"1\" class=\"dataframe\">\n",
       "  <thead>\n",
       "    <tr style=\"text-align: right;\">\n",
       "      <th></th>\n",
       "      <th>NYISOName</th>\n",
       "      <th>PTID</th>\n",
       "      <th>Zone</th>\n",
       "      <th>UnitType</th>\n",
       "      <th>FuelType</th>\n",
       "      <th>Latitude</th>\n",
       "      <th>Longitude</th>\n",
       "      <th>maxPower</th>\n",
       "      <th>minPower</th>\n",
       "      <th>maxRampAgc</th>\n",
       "      <th>...</th>\n",
       "      <th>maxRamp60</th>\n",
       "      <th>HeatRateLM_1</th>\n",
       "      <th>HeatRateLM_0</th>\n",
       "      <th>HeatRateLM_R2</th>\n",
       "      <th>HeatRateQM_2</th>\n",
       "      <th>HeatRateQM_1</th>\n",
       "      <th>HeatRateQM_0</th>\n",
       "      <th>HeatRateQM_R2</th>\n",
       "      <th>useQM</th>\n",
       "      <th>start-time</th>\n",
       "    </tr>\n",
       "  </thead>\n",
       "  <tbody>\n",
       "    <tr>\n",
       "      <th>7</th>\n",
       "      <td>Arthur Kill ST 2</td>\n",
       "      <td>23512</td>\n",
       "      <td>J</td>\n",
       "      <td>Steam Turbine</td>\n",
       "      <td>Natural Gas</td>\n",
       "      <td>40.5915</td>\n",
       "      <td>-74.2027</td>\n",
       "      <td>349.0</td>\n",
       "      <td>96.0</td>\n",
       "      <td>34.9</td>\n",
       "      <td>...</td>\n",
       "      <td>349.0</td>\n",
       "      <td>8.666516</td>\n",
       "      <td>252.390433</td>\n",
       "      <td>0.995837</td>\n",
       "      <td>0.000772</td>\n",
       "      <td>8.373115</td>\n",
       "      <td>274.28691</td>\n",
       "      <td>0.99586</td>\n",
       "      <td>1</td>\n",
       "      <td>10m</td>\n",
       "    </tr>\n",
       "  </tbody>\n",
       "</table>\n",
       "<p>1 rows × 22 columns</p>\n",
       "</div>"
      ],
      "text/plain": [
       "          NYISOName   PTID Zone       UnitType     FuelType  Latitude  \\\n",
       "7  Arthur Kill ST 2  23512    J  Steam Turbine  Natural Gas   40.5915   \n",
       "\n",
       "   Longitude  maxPower  minPower  maxRampAgc  ...  maxRamp60  HeatRateLM_1  \\\n",
       "7   -74.2027     349.0      96.0        34.9  ...      349.0      8.666516   \n",
       "\n",
       "   HeatRateLM_0  HeatRateLM_R2  HeatRateQM_2  HeatRateQM_1  HeatRateQM_0  \\\n",
       "7    252.390433       0.995837      0.000772      8.373115     274.28691   \n",
       "\n",
       "   HeatRateQM_R2  useQM  start-time  \n",
       "7        0.99586      1         10m  \n",
       "\n",
       "[1 rows x 22 columns]"
      ]
     },
     "execution_count": 19,
     "metadata": {},
     "output_type": "execute_result"
    }
   ],
   "source": [
    "gen_info[gen_info['PTID'] == 23512]"
   ]
  },
  {
   "cell_type": "code",
   "execution_count": null,
   "metadata": {},
   "outputs": [],
   "source": [
    "def plot_gen(thermal_pg: pd.Series,\n",
    "             gen_hist: pd.Series,\n",
    "             gen_max: pd.Series,\n",
    "             gen_min: pd.Series,\n",
    "             ax: plt.Axes,\n",
    "             title) -> plt.Axes:\n",
    "\n",
    "    ax.plot(thermal_pg.index, thermal_pg,\n",
    "            marker='^', label='OPF',\n",
    "            linewidth=2, alpha=0.7, markersize=5)\n",
    "    ax.plot(thermal_pg.index, gen_hist,\n",
    "            marker='o', label='OPF MATLAB',\n",
    "            linewidth=2, alpha=0.7, markersize=5)\n",
    "    ax.plot(thermal_pg.index, gen_max,\n",
    "            linestyle='--', label='max',\n",
    "            linewidth=2, alpha=0.7, markersize=5)\n",
    "    ax.plot(thermal_pg.index, gen_min,\n",
    "            linestyle='--', label='min',\n",
    "            linewidth=2, alpha=0.7, markersize=5)\n",
    "    ax.legend()\n",
    "    if title:\n",
    "        ax.set_title(title)\n",
    "\n",
    "    return ax"
   ]
  },
  {
   "cell_type": "code",
   "execution_count": null,
   "metadata": {
    "ExecuteTime": {
     "end_time": "2024-01-31T03:45:09.108544900Z",
     "start_time": "2024-01-31T03:45:08.042147200Z"
    }
   },
   "outputs": [
    {
     "data": {
      "text/plain": [
       "NYISOName            Astoria 5\n",
       "PTID                     23518\n",
       "Zone                         J\n",
       "UnitType         Steam Turbine\n",
       "FuelType            Fuel Oil 2\n",
       "Latitude               40.7869\n",
       "Longitude             -73.9122\n",
       "maxPower                 776.0\n",
       "minPower                   2.0\n",
       "maxRampAgc                77.6\n",
       "maxRamp10                776.0\n",
       "maxRamp30                776.0\n",
       "maxRamp60                776.0\n",
       "HeatRateLM_1          4.411727\n",
       "HeatRateLM_0        267.137351\n",
       "HeatRateLM_R2         0.984701\n",
       "HeatRateQM_2         -0.000037\n",
       "HeatRateQM_1          4.439406\n",
       "HeatRateQM_0        263.464135\n",
       "HeatRateQM_R2         0.984698\n",
       "useQM                        1\n",
       "start-time                 10m\n",
       "Name: 11, dtype: object"
      ]
     },
     "metadata": {},
     "output_type": "display_data"
    },
    {
     "data": {
      "image/png": "[encoded data removed]",
      "text/plain": [
       "<Figure size 1200x800 with 2 Axes>"
      ]
     },
     "metadata": {},
     "output_type": "display_data"
    }
   ],
   "source": [
    "ii = 11\n",
    "\n",
    "display(gen_info.iloc[ii, :])\n",
    "\n",
    "fig, axs = plt.subplots(2, 1, figsize=(12, 8), layout=\"constrained\")\n",
    "\n",
    "axs[0] = plot_gen(\n",
    "    thermal_pg_0.iloc[:, ii],\n",
    "    grid_profile[\"gen_profile\"][start_datetime_0:end_datetime_0].iloc[:, ii],\n",
    "    grid_profile[\"genmax_profile\"][start_datetime_0:end_datetime_0].iloc[:, ii],\n",
    "    grid_profile[\"genmin_profile\"][start_datetime_0:end_datetime_0].iloc[:, ii],\n",
    "    ax=axs[0],\n",
    "    title=\"w/o initial condition\",\n",
    ")\n",
    "\n",
    "axs[1].plot(results_0[\"genCommit\"].iloc[:, ii], label=\"Commitment\", marker=\"o\")\n",
    "axs[1].plot(results_0[\"genStartup\"].iloc[:, ii], label=\"Startup\", marker=\"^\")\n",
    "axs[1].plot(results_0[\"genShutdown\"].iloc[:, ii], label=\"Shutdown\", marker=\"v\")\n",
    "axs[1].legend()\n",
    "\n",
    "# axs[2] = plot_gen(\n",
    "#     thermal_pg_1.iloc[:, ii],\n",
    "#     grid_profile[\"gen_profile\"][start_datetime_1:end_datetime_1].iloc[:, ii],\n",
    "#     grid_profile[\"genmax_profile\"][start_datetime_1:end_datetime_1].iloc[:, ii],\n",
    "#     grid_profile[\"genmin_profile\"][start_datetime_1:end_datetime_1].iloc[:, ii],\n",
    "#     ax=axs[2],\n",
    "#     title=\"w/ initial condition\",\n",
    "# )\n",
    "\n",
    "# axs[3].plot(results_1[\"genCommit\"].iloc[:, ii], label=\"Commitment\", marker=\"o\")\n",
    "# axs[3].plot(results_1[\"genStartup\"].iloc[:, ii], label=\"Startup\", marker=\"^\")\n",
    "# axs[3].plot(results_1[\"genShutdown\"].iloc[:, ii], label=\"Shutdown\", marker=\"v\")\n",
    "# axs[3].legend()\n",
    "\n",
    "for ax in axs.flat:\n",
    "    ax.tick_params(axis=\"x\", rotation=30)\n",
    "    ax.grid()\n",
    "\n",
    "fig.suptitle(f\"{gen_info.NYISOName[ii]}\")\n",
    "fig.show()"
   ]
  }
 ],
 "metadata": {
  "interpreter": {
   "hash": "f1e7b9e5b0ccd18e373e44bae5bf3ffa8873ffa9b0a195a69c8a44ccfc15a04d"
  },
  "kernelspec": {
   "display_name": "NYgrid-python",
   "language": "python",
   "name": "python3"
  },
  "language_info": {
   "codemirror_mode": {
    "name": "ipython",
    "version": 3
   },
   "file_extension": ".py",
   "mimetype": "text/x-python",
   "name": "python",
   "nbconvert_exporter": "python",
   "pygments_lexer": "ipython3",
   "version": "3.8.18"
  }
 },
 "nbformat": 4,
 "nbformat_minor": 2
}
