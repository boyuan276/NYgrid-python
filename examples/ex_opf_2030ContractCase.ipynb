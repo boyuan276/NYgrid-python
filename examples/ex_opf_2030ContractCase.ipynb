{
 "cells": [
  {
   "cell_type": "markdown",
   "metadata": {},
   "source": [
    "# 2030 Contract Case"
   ]
  },
  {
   "cell_type": "code",
   "execution_count": null,
   "metadata": {
    "ExecuteTime": {
     "end_time": "2024-01-31T15:25:15.525568600Z",
     "start_time": "2024-01-31T15:25:08.330964100Z"
    }
   },
   "outputs": [],
   "source": [
    "import os\n",
    "\n",
    "import numpy as np\n",
    "import pandas as pd\n",
    "import matplotlib.pyplot as plt\n",
    "from datetime import datetime, timedelta\n",
    "\n",
    "import nygrid.nygrid as ng_grid\n",
    "import nygrid.run_nygrid as ng_run\n",
    "import nygrid.plots as ng_plots\n",
    "import nygrid.postprocessing as ng_post"
   ]
  },
  {
   "cell_type": "code",
   "execution_count": null,
   "metadata": {
    "ExecuteTime": {
     "end_time": "2024-01-31T15:25:15.537593900Z",
     "start_time": "2024-01-31T15:25:15.528567500Z"
    }
   },
   "outputs": [],
   "source": [
    "# Set up directories\n",
    "cwd = os.getcwd()\n",
    "if 'examples' in cwd:\n",
    "    parent_dir = os.path.dirname(cwd)\n",
    "    data_dir = os.path.join(parent_dir, 'data')\n",
    "else:\n",
    "    data_dir = os.path.join(cwd, 'data')\n",
    "\n",
    "grid_data_dir = os.path.join(data_dir, 'grid', '2030ContractCase')\n",
    "if not os.path.exists(grid_data_dir):\n",
    "    raise FileNotFoundError('Grid data directory not found.')\n",
    "print('Grid data directory: {}'.format(grid_data_dir))\n",
    "\n",
    "fig_dir = os.path.join(os.path.dirname(data_dir), 'figures')\n",
    "print('Figure directory: {}'.format(fig_dir))\n",
    "\n",
    "results_dir = os.path.join(os.path.dirname(data_dir), 'results')\n",
    "print('Results directory: {}'.format(results_dir))\n",
    "\n",
    "thermal_data_dir = os.path.join(data_dir, 'thermal')\n",
    "if not os.path.exists(thermal_data_dir):\n",
    "    raise FileNotFoundError('Thermal data directory not found.')"
   ]
  },
  {
   "cell_type": "markdown",
   "metadata": {},
   "source": [
    "## Read grid data"
   ]
  },
  {
   "cell_type": "markdown",
   "metadata": {
    "collapsed": false
   },
   "source": [
    "### Read generator profiles"
   ]
  },
  {
   "cell_type": "code",
   "execution_count": null,
   "metadata": {
    "ExecuteTime": {
     "end_time": "2024-01-31T15:26:25.946305400Z",
     "start_time": "2024-01-31T15:26:24.097092100Z"
    }
   },
   "outputs": [],
   "source": [
    "start_date = datetime(2018, 1, 1, 0, 0, 0)\n",
    "end_date = datetime(2019, 1, 1, 0, 0, 0)\n",
    "timestamp_list = pd.date_range(start_date, end_date, freq='1D')\n",
    "verbose = True\n",
    "\n",
    "ext_cost_factor = 0.0\n",
    "fo_cost_factor = 0.5\n",
    "\n",
    "# Simulation time settings\n",
    "valid_days = 7\n",
    "lookahead_days = 1\n",
    "\n",
    "valid_hours = 24 * valid_days\n",
    "lookahead_hours = 24 * lookahead_days\n",
    "\n",
    "options = {\n",
    "    'UsePTDF': True,\n",
    "    'solver': 'gurobi',\n",
    "    'PenaltyForLoadShed': 10_000,\n",
    "    'PenaltyForBranchMwViolation': 5_000,\n",
    "    'PenaltyForInterfaceMWViolation': 5_000\n",
    "}\n",
    "\n",
    "solver_options = {\n",
    "    'NodefileStart': 0.5,\n",
    "    'NodefileDir': results_dir,\n",
    "    'MIPGap': 1e-3\n",
    "}"
   ]
  },
  {
   "cell_type": "code",
   "execution_count": null,
   "metadata": {},
   "outputs": [],
   "source": [
    "# Read grid property file\n",
    "grid_prop = ng_run.read_grid_prop(grid_data_dir,\n",
    "                                  if_lims_prop_file='if_lims_prop_2030ContractCase.csv',\n",
    "                                  esr_prop_file='esr_prop_2030ContractCase.csv',\n",
    "                                  dcline_prop_file='dcline_prop_2030ContractCase.csv')\n",
    "\n",
    "# Read load and generation profiles\n",
    "grid_profile = ng_run.read_grid_profile(grid_data_dir, year=2030)"
   ]
  },
  {
   "cell_type": "code",
   "execution_count": null,
   "metadata": {},
   "outputs": [],
   "source": [
    "# Decrease external generation cost by 50%\n",
    "change_index = grid_prop[\"gen_prop\"][\"GEN_ZONE\"].isin(\n",
    "    ['PJM','IESO', 'NE']).to_numpy()\n",
    "\n",
    "gencost1_profile_new = grid_profile['gencost1_profile'].copy()\n",
    "gencost1_profile_new.loc[:, change_index] = \\\n",
    "    gencost1_profile_new.loc[:, change_index] * ext_cost_factor\n",
    "grid_profile['gencost1_profile'] = gencost1_profile_new"
   ]
  },
  {
   "cell_type": "code",
   "execution_count": null,
   "metadata": {},
   "outputs": [],
   "source": [
    "# Increase FO2, KER and BIT generation costs\n",
    "change_index = grid_prop[\"gen_fuel\"][\"GEN_FUEL\"].isin(\n",
    "    [\n",
    "        # \"CC_NG\", \n",
    "        # \"CT_NG\", \n",
    "        \"CT_FO2\", \n",
    "        \"CT_KER\", \n",
    "        # \"ST_NG\", \n",
    "        \"ST_FO6\", \n",
    "        # \"ST_BIT\"\n",
    "        ]).to_numpy()\n",
    "\n",
    "gencost0_profile_new = grid_profile['gencost0_profile'].copy()\n",
    "gencost0_profile_new.loc[:, change_index] = gencost0_profile_new.loc[:, change_index] * fo_cost_factor\n",
    "grid_profile['gencost0_profile'] = gencost0_profile_new\n",
    "\n",
    "gencost1_profile_new = grid_profile['gencost1_profile'].copy()\n",
    "gencost1_profile_new.loc[:, change_index] = gencost1_profile_new.loc[:, change_index] * fo_cost_factor\n",
    "grid_profile['gencost1_profile'] = gencost1_profile_new\n",
    "\n",
    "gencost_startup_profile_new = grid_profile['gencost_startup_profile'].copy()\n",
    "gencost_startup_profile_new.loc[:, change_index] = gencost_startup_profile_new.loc[:, change_index] * fo_cost_factor\n",
    "grid_profile['gencost_startup_profile'] = gencost_startup_profile_new"
   ]
  },
  {
   "cell_type": "code",
   "execution_count": null,
   "metadata": {},
   "outputs": [],
   "source": [
    "gen_fuel = grid_prop['gen_fuel'].copy()\n",
    "gen_fuel_dict = gen_fuel.set_index('GEN_NAME')['GEN_FUEL'].to_dict()\n",
    "\n",
    "gencost0_profile_new = grid_profile['gencost0_profile'].copy()\n",
    "gencost0_by_fuel = gencost0_profile_new.groupby(gen_fuel_dict, axis=1).mean()\n",
    "\n",
    "gencost1_profile_new = grid_profile['gencost1_profile'].copy()\n",
    "gencost1_by_fuel = gencost1_profile_new.groupby(gen_fuel_dict, axis=1).mean()\n",
    "\n",
    "gencost_startup_profile_new = grid_profile['gencost_startup_profile'].copy()\n",
    "gencost_startup_by_fuel = gencost_startup_profile_new.groupby(gen_fuel_dict, axis=1).mean()\n",
    "\n",
    "fig, ax = plt.subplots()\n",
    "gencost0_by_fuel.plot(ax=ax,\n",
    "                      color=plt.cm.tab20.colors, \n",
    "                      title='Generation no-load cost by fuel type')\n",
    "ax.legend(loc='center left', bbox_to_anchor=(1, 0.5))\n",
    "\n",
    "fig, ax = plt.subplots()\n",
    "gencost1_by_fuel.plot(ax=ax,\n",
    "                      color=plt.cm.tab20.colors, \n",
    "                      title='Generation linear cost by fuel type')\n",
    "ax.legend(loc='center left', bbox_to_anchor=(1, 0.5))\n",
    "\n",
    "fig, ax = plt.subplots()\n",
    "gencost_startup_by_fuel.plot(ax=ax,\n",
    "                      color=plt.cm.tab20.colors, \n",
    "                      title='Generation startup cost by fuel type')\n",
    "ax.legend(loc='center left', bbox_to_anchor=(1, 0.5))"
   ]
  },
  {
   "cell_type": "markdown",
   "metadata": {},
   "source": [
    "## Multi-period OPF"
   ]
  },
  {
   "cell_type": "markdown",
   "metadata": {},
   "source": [
    "### Jan. 1-8, 2018"
   ]
  },
  {
   "cell_type": "code",
   "execution_count": null,
   "metadata": {
    "ExecuteTime": {
     "end_time": "2024-01-31T03:42:57.701124300Z",
     "start_time": "2024-01-31T03:42:57.660769400Z"
    }
   },
   "outputs": [],
   "source": [
    "# Only run for one day\n",
    "d = 0\n",
    "start_datetime_w0 = timestamp_list[d]\n",
    "end_datetime_w0 = start_datetime_w0 + timedelta(hours=valid_hours + lookahead_hours)\n",
    "print(f'Start time: {start_datetime_w0}')\n",
    "print(f'End time: {end_datetime_w0}')"
   ]
  },
  {
   "cell_type": "code",
   "execution_count": null,
   "metadata": {
    "ExecuteTime": {
     "end_time": "2024-01-31T03:43:29.351795500Z",
     "start_time": "2024-01-31T03:42:57.762001600Z"
    },
    "collapsed": false
   },
   "outputs": [],
   "source": [
    "# Create NYGrid object\n",
    "nygrid_sim_w0 = ng_grid.NYGrid(grid_prop=grid_prop,\n",
    "                               start_datetime=start_datetime_w0,\n",
    "                               end_datetime=end_datetime_w0,\n",
    "                               verbose=verbose)\n",
    "\n",
    "# Set load and generation time series data\n",
    "nygrid_sim_w0.set_load_sch(grid_profile['load_profile'])\n",
    "# nygrid_sim_0.set_gen_mw_sch(grid_profile['gen_profile'])\n",
    "nygrid_sim_w0.set_gen_max_sch(grid_profile['genmax_profile'])\n",
    "nygrid_sim_w0.set_gen_min_sch(grid_profile['genmin_profile'])\n",
    "# nygrid_sim_0.set_gen_ramp_sch(grid_profile['genramp30_profile'])\n",
    "nygrid_sim_w0.set_gen_cost_sch(grid_profile['gencost0_profile'],\n",
    "                               grid_profile['gencost1_profile'])\n",
    "nygrid_sim_w0.set_gen_cost_startup_sch(grid_profile['gencost_startup_profile'])\n",
    "# nygrid_sim_0.set_gen_cost_shutdown_sch(grid_profile['gencost_shutdown_profile'])\n",
    "\n",
    "if 'genmax_profile_vre' in grid_profile:\n",
    "    nygrid_sim_w0.set_vre_max_sch(grid_profile['genmax_profile_vre'])\n",
    "else:\n",
    "    print('No VRE generation data.')\n",
    "\n",
    "# Relax branch flow limits\n",
    "nygrid_sim_w0.relax_external_branch_lim()\n",
    "\n",
    "# Set generator initial condition\n",
    "init_gen = np.zeros(nygrid_sim_w0.NG)\n",
    "nygrid_sim_w0.set_gen_init_data(gen_init=init_gen)\n",
    "\n",
    "# Set generator initial unit commitment condition\n",
    "init_gen_commit = np.zeros(sum(grid_prop['gen_prop']['CMT_KEY'] == 1))\n",
    "nygrid_sim_w0.set_gen_init_cmt_data(gen_init_cmt=init_gen_commit)\n",
    "\n",
    "# Set options\n",
    "nygrid_sim_w0.set_options(options)\n",
    "\n",
    "# Solve DC OPF\n",
    "nygrid_sim_w0.solve_dc_opf(solver_options=solver_options)\n",
    "\n",
    "# Get results\n",
    "results_w0 = nygrid_sim_w0.get_results_dc_opf()"
   ]
  },
  {
   "cell_type": "code",
   "execution_count": null,
   "metadata": {
    "ExecuteTime": {
     "end_time": "2024-01-31T03:43:29.368383800Z",
     "start_time": "2024-01-31T03:43:29.354792200Z"
    },
    "collapsed": false
   },
   "outputs": [],
   "source": [
    "print(\"s_ramp_up\", results_w0['s_ramp_up'].sum())\n",
    "print(\"s_ramp_down\", results_w0['s_ramp_down'].sum())\n",
    "print(\"s_over_gen\", results_w0['s_over_gen'].sum())\n",
    "print(\"s_load_shed\", results_w0['s_load_shed'].sum())\n",
    "print(\"s_if_max\", results_w0['s_if_max'].sum())\n",
    "print(\"s_if_min\", results_w0['s_if_min'].sum())\n",
    "print(\"s_br_max\", results_w0['s_br_max'].sum())\n",
    "print(\"s_br_min\", results_w0['s_br_min'].sum())\n",
    "print(\"s_esr_pcrg\", results_w0['s_esr_pcrg'].sum())\n",
    "print(\"s_esr_pdis\", results_w0['s_esr_pdis'].sum())\n",
    "print(\"s_esr_soc_min\", results_w0['s_esr_soc_min'].sum())\n",
    "print(\"s_esr_soc_max\", results_w0['s_esr_soc_max'].sum())\n",
    "print(\"s_esr_soc_overt\", results_w0['s_esr_soc_overt'].sum())\n",
    "print(\"s_esr_soc_undert\", results_w0['s_esr_soc_undert'].sum())\n",
    "print(\"s_min_up_time\", results_w0['s_min_up_time'].sum())\n",
    "print(\"s_min_down_time\", results_w0['s_min_down_time'].sum())"
   ]
  },
  {
   "cell_type": "code",
   "execution_count": null,
   "metadata": {},
   "outputs": [],
   "source": [
    "# import pickle\n",
    "# # Save simulation nygrid_results to pickle\n",
    "# filename = f'nygrid_sim_2018_jan_1-8.pkl'\n",
    "# with open(os.path.join(results_dir, filename), 'wb') as f:\n",
    "#     pickle.dump(results_w0, f)"
   ]
  },
  {
   "cell_type": "code",
   "execution_count": null,
   "metadata": {},
   "outputs": [],
   "source": [
    "# Only run for one day\n",
    "d = d + valid_days\n",
    "start_datetime_w1 = timestamp_list[d]\n",
    "end_datetime_w1 = start_datetime_w1 + timedelta(hours=valid_hours + lookahead_hours)\n",
    "print(f'Start time: {start_datetime_w1}')\n",
    "print(f'End time: {end_datetime_w1}')"
   ]
  },
  {
   "cell_type": "code",
   "execution_count": null,
   "metadata": {},
   "outputs": [],
   "source": [
    "# Create NYGrid object\n",
    "nygrid_sim_w1 = ng_grid.NYGrid(grid_prop=grid_prop,\n",
    "                            start_datetime=start_datetime_w1,\n",
    "                            end_datetime=end_datetime_w1,\n",
    "                            verbose=verbose)\n",
    "\n",
    "# Set load and generation time series data\n",
    "nygrid_sim_w1.set_load_sch(grid_profile['load_profile'])\n",
    "# nygrid_sim_0.set_gen_mw_sch(grid_profile['gen_profile'])\n",
    "nygrid_sim_w1.set_gen_max_sch(grid_profile['genmax_profile'])\n",
    "nygrid_sim_w1.set_gen_min_sch(grid_profile['genmin_profile'])\n",
    "# nygrid_sim_0.set_gen_ramp_sch(grid_profile['genramp30_profile'])\n",
    "nygrid_sim_w1.set_gen_cost_sch(grid_profile['gencost0_profile'],\n",
    "                            grid_profile['gencost1_profile'])\n",
    "nygrid_sim_w1.set_gen_cost_startup_sch(grid_profile['gencost_startup_profile'])\n",
    "# nygrid_sim_0.set_gen_cost_shutdown_sch(grid_profile['gencost_shutdown_profile'])\n",
    "\n",
    "if 'genmax_profile_vre' in grid_profile:\n",
    "    nygrid_sim_w1.set_vre_max_sch(grid_profile['genmax_profile_vre'])\n",
    "else:\n",
    "    print('No VRE generation data.')\n",
    "\n",
    "# Relax branch flow limits\n",
    "nygrid_sim_w1.relax_external_branch_lim()\n",
    "\n",
    "# Set initial conditions for the next iteration\n",
    "hour_before_start = start_datetime_w1 + timedelta(hours=-1)\n",
    "\n",
    "# Set generator initial condition\n",
    "init_gen = results_w0['PG'].loc[hour_before_start].to_numpy().squeeze()\n",
    "nygrid_sim_w1.set_gen_init_data(gen_init=init_gen)\n",
    "\n",
    "# Set generator initial unit commitment condition\n",
    "init_gen_commit = results_w0['genCommit'].loc[hour_before_start].to_numpy().squeeze()\n",
    "nygrid_sim_w1.set_gen_init_cmt_data(gen_init_cmt=init_gen_commit)\n",
    "\n",
    "# Set ESR initial condition for the next iteration\n",
    "init_soc = results_w0['esrSOC'].loc[hour_before_start].to_numpy().squeeze()\n",
    "nygrid_sim_w1.set_esr_init_data(esr_init=init_soc)\n",
    "\n",
    "# Calculate hours since last startup and shutdown\n",
    "hour_since_last_startup = np.zeros(nygrid_sim_w0.NG_avail, dtype=int)\n",
    "hour_since_last_shutdown = np.zeros(nygrid_sim_w0.NG_avail, dtype=int)\n",
    "\n",
    "for ii in range(nygrid_sim_w0.NG_avail):\n",
    "    startup_record = results_w0['genStartup'][:hour_before_start][ii]\n",
    "    if startup_record.sum() > 0:\n",
    "        last_startup_hour = startup_record[startup_record > 0].index[-1]\n",
    "        hour_since_last_startup[ii] = int((hour_before_start - last_startup_hour).total_seconds()/ 3600)\n",
    "    else:\n",
    "        hour_since_last_startup[ii] = 999\n",
    "    \n",
    "    shutdown_record = results_w0['genShutdown'][:hour_before_start][ii]\n",
    "    if shutdown_record.sum() > 0:\n",
    "        last_shutdown_hour = shutdown_record[shutdown_record > 0].index[-1]\n",
    "        hour_since_last_shutdown[ii] = int((hour_before_start - last_shutdown_hour).total_seconds()/3600)\n",
    "    else:\n",
    "        hour_since_last_shutdown[ii] = 999\n",
    "\n",
    "nygrid_sim_w1.set_gen_last_startup_data(hour_since_last_startup)\n",
    "nygrid_sim_w1.set_gen_last_shutdown_data(hour_since_last_shutdown)\n",
    "\n",
    "# Set options\n",
    "nygrid_sim_w1.set_options(options)\n",
    "\n",
    "# Solve DC OPF\n",
    "nygrid_sim_w1.solve_dc_opf(solver_options)\n",
    "\n",
    "# Get results\n",
    "results_w1 = nygrid_sim_w1.get_results_dc_opf()"
   ]
  },
  {
   "cell_type": "code",
   "execution_count": null,
   "metadata": {},
   "outputs": [],
   "source": [
    "print(\"s_ramp_up\", results_w1['s_ramp_up'].sum())\n",
    "print(\"s_ramp_down\", results_w1['s_ramp_down'].sum())\n",
    "print(\"s_over_gen\", results_w1['s_over_gen'].sum())\n",
    "print(\"s_load_shed\", results_w1['s_load_shed'].sum())\n",
    "print(\"s_if_max\", results_w1['s_if_max'].sum())\n",
    "print(\"s_if_min\", results_w1['s_if_min'].sum())\n",
    "print(\"s_br_max\", results_w1['s_br_max'].sum())\n",
    "print(\"s_br_min\", results_w1['s_br_min'].sum())\n",
    "print(\"s_esr_pcrg\", results_w1['s_esr_pcrg'].sum())\n",
    "print(\"s_esr_pdis\", results_w1['s_esr_pdis'].sum())\n",
    "print(\"s_esr_soc_min\", results_w1['s_esr_soc_min'].sum())\n",
    "print(\"s_esr_soc_max\", results_w1['s_esr_soc_max'].sum())\n",
    "print(\"s_esr_soc_overt\", results_w1['s_esr_soc_overt'].sum())\n",
    "print(\"s_esr_soc_undert\", results_w1['s_esr_soc_undert'].sum())\n",
    "print(\"s_min_up_time\", results_w1['s_min_up_time'].sum())\n",
    "print(\"s_min_down_time\", results_w1['s_min_down_time'].sum())"
   ]
  },
  {
   "cell_type": "markdown",
   "metadata": {},
   "source": [
    "### Jul. 2-9, 2018"
   ]
  },
  {
   "cell_type": "code",
   "execution_count": null,
   "metadata": {},
   "outputs": [],
   "source": [
    "# Only run for one day\n",
    "d = 182\n",
    "start_datetime_s0 = timestamp_list[d]\n",
    "end_datetime_s0 = start_datetime_s0 + timedelta(hours=valid_hours + lookahead_hours)\n",
    "print(f'Start time: {start_datetime_s0}')\n",
    "print(f'End time: {end_datetime_s0}')"
   ]
  },
  {
   "cell_type": "code",
   "execution_count": null,
   "metadata": {},
   "outputs": [],
   "source": [
    "# Create NYGrid object\n",
    "nygrid_sim_s0 = ng_grid.NYGrid(grid_prop=grid_prop,\n",
    "                            start_datetime=start_datetime_s0,\n",
    "                            end_datetime=end_datetime_s0,\n",
    "                            verbose=verbose)\n",
    "\n",
    "# Set load and generation time series data\n",
    "nygrid_sim_s0.set_load_sch(grid_profile['load_profile'])\n",
    "# nygrid_sim_0.set_gen_mw_sch(grid_profile['gen_profile'])\n",
    "nygrid_sim_s0.set_gen_max_sch(grid_profile['genmax_profile'])\n",
    "nygrid_sim_s0.set_gen_min_sch(grid_profile['genmin_profile'])\n",
    "# nygrid_sim_0.set_gen_ramp_sch(grid_profile['genramp30_profile'])\n",
    "nygrid_sim_s0.set_gen_cost_sch(grid_profile['gencost0_profile'],\n",
    "                            grid_profile['gencost1_profile'])\n",
    "nygrid_sim_s0.set_gen_cost_startup_sch(grid_profile['gencost_startup_profile'])\n",
    "# nygrid_sim_0.set_gen_cost_shutdown_sch(grid_profile['gencost_shutdown_profile'])\n",
    "\n",
    "if 'genmax_profile_vre' in grid_profile:\n",
    "    nygrid_sim_s0.set_vre_max_sch(grid_profile['genmax_profile_vre'])\n",
    "else:\n",
    "    print('No VRE generation data.')\n",
    "\n",
    "# Relax branch flow limits\n",
    "nygrid_sim_s0.relax_external_branch_lim()\n",
    "\n",
    "# Set generator initial condition\n",
    "init_gen = np.zeros(nygrid_sim_s0.NG)\n",
    "nygrid_sim_s0.set_gen_init_data(gen_init=init_gen)\n",
    "\n",
    "# Set generator initial unit commitment condition\n",
    "init_gen_commit = np.zeros(nygrid_sim_s0.NG_avail)\n",
    "nygrid_sim_s0.set_gen_init_cmt_data(gen_init_cmt=init_gen_commit)\n",
    "\n",
    "# Set options\n",
    "nygrid_sim_s0.set_options(options)\n",
    "\n",
    "# Solve DC OPF\n",
    "nygrid_sim_s0.solve_dc_opf(solver_options)\n",
    "\n",
    "# Get results\n",
    "results_s0 = nygrid_sim_s0.get_results_dc_opf()"
   ]
  },
  {
   "cell_type": "code",
   "execution_count": null,
   "metadata": {},
   "outputs": [],
   "source": [
    "print(\"s_ramp_up\", results_s0['s_ramp_up'].sum())\n",
    "print(\"s_ramp_down\", results_s0['s_ramp_down'].sum())\n",
    "print(\"s_over_gen\", results_s0['s_over_gen'].sum())\n",
    "print(\"s_load_shed\", results_s0['s_load_shed'].sum())\n",
    "print(\"s_if_max\", results_s0['s_if_max'].sum())\n",
    "print(\"s_if_min\", results_s0['s_if_min'].sum())\n",
    "print(\"s_br_max\", results_s0['s_br_max'].sum())\n",
    "print(\"s_br_min\", results_s0['s_br_min'].sum())\n",
    "print(\"s_esr_pcrg\", results_s0['s_esr_pcrg'].sum())\n",
    "print(\"s_esr_pdis\", results_s0['s_esr_pdis'].sum())\n",
    "print(\"s_esr_soc_min\", results_s0['s_esr_soc_min'].sum())\n",
    "print(\"s_esr_soc_max\", results_s0['s_esr_soc_max'].sum())\n",
    "print(\"s_esr_soc_overt\", results_s0['s_esr_soc_overt'].sum())\n",
    "print(\"s_esr_soc_undert\", results_s0['s_esr_soc_undert'].sum())\n",
    "print(\"s_min_up_time\", results_s0['s_min_up_time'].sum())\n",
    "print(\"s_min_down_time\", results_s0['s_min_down_time'].sum())"
   ]
  },
  {
   "cell_type": "code",
   "execution_count": null,
   "metadata": {},
   "outputs": [],
   "source": [
    "# import pickle\n",
    "# # Save simulation nygrid_results to pickle\n",
    "# filename = f'nygrid_sim_2018_jul_2-9.pkl'\n",
    "# with open(os.path.join(results_dir, filename), 'wb') as f:\n",
    "#     pickle.dump(results_0, f)"
   ]
  },
  {
   "cell_type": "code",
   "execution_count": null,
   "metadata": {},
   "outputs": [],
   "source": [
    "# Only run for one day\n",
    "d = d + valid_days\n",
    "start_datetime_s1= timestamp_list[d]\n",
    "end_datetime_s1 = start_datetime_s1 + timedelta(hours=valid_hours + lookahead_hours)\n",
    "print(f'Start time: {start_datetime_s1}')\n",
    "print(f'End time: {end_datetime_s1}')"
   ]
  },
  {
   "cell_type": "code",
   "execution_count": null,
   "metadata": {},
   "outputs": [],
   "source": [
    "# Create NYGrid object\n",
    "nygrid_sim_s1 = ng_grid.NYGrid(grid_prop=grid_prop,\n",
    "                            start_datetime=start_datetime_s1,\n",
    "                            end_datetime=end_datetime_s1,\n",
    "                            verbose=verbose)\n",
    "\n",
    "# Set load and generation time series data\n",
    "nygrid_sim_s1.set_load_sch(grid_profile['load_profile'])\n",
    "# nygrid_sim_0.set_gen_mw_sch(grid_profile['gen_profile'])\n",
    "nygrid_sim_s1.set_gen_max_sch(grid_profile['genmax_profile'])\n",
    "nygrid_sim_s1.set_gen_min_sch(grid_profile['genmin_profile'])\n",
    "# nygrid_sim_0.set_gen_ramp_sch(grid_profile['genramp30_profile'])\n",
    "nygrid_sim_s1.set_gen_cost_sch(grid_profile['gencost0_profile'],\n",
    "                            grid_profile['gencost1_profile'])\n",
    "nygrid_sim_s1.set_gen_cost_startup_sch(grid_profile['gencost_startup_profile'])\n",
    "# nygrid_sim_0.set_gen_cost_shutdown_sch(grid_profile['gencost_shutdown_profile'])\n",
    "\n",
    "if 'genmax_profile_vre' in grid_profile:\n",
    "    nygrid_sim_s1.set_vre_max_sch(grid_profile['genmax_profile_vre'])\n",
    "else:\n",
    "    print('No VRE generation data.')\n",
    "\n",
    "# Relax branch flow limits\n",
    "nygrid_sim_s1.relax_external_branch_lim()\n",
    "\n",
    "# Set initial conditions for the next iteration\n",
    "hour_before_start = start_datetime_s1 + timedelta(hours=-1)\n",
    "\n",
    "# Set generator initial condition\n",
    "init_gen = results_s0['PG'].loc[hour_before_start].to_numpy().squeeze()\n",
    "nygrid_sim_s1.set_gen_init_data(gen_init=init_gen)\n",
    "\n",
    "# Set generator initial unit commitment condition\n",
    "init_gen_commit = results_s0['genCommit'].loc[hour_before_start].to_numpy().squeeze()\n",
    "nygrid_sim_s1.set_gen_init_cmt_data(gen_init_cmt=init_gen_commit)\n",
    "\n",
    "# Set ESR initial condition for the next iteration\n",
    "init_soc = results_s0['esrSOC'].loc[hour_before_start].to_numpy().squeeze()\n",
    "nygrid_sim_s1.set_esr_init_data(esr_init=init_soc)\n",
    "\n",
    "# Calculate hours since last startup and shutdown\n",
    "for ii in range(nygrid_sim_s0.NG_avail):\n",
    "    startup_record = results_s0['genStartup'][:hour_before_start][ii]\n",
    "    if startup_record.sum() > 0:\n",
    "        last_startup_hour = startup_record[startup_record > 0].index[-1]\n",
    "        hour_since_last_startup[ii] = int((hour_before_start - last_startup_hour).total_seconds()/ 3600)\n",
    "    else:\n",
    "        hour_since_last_startup[ii] = 999\n",
    "    \n",
    "    shutdown_record = results_s0['genShutdown'][:hour_before_start][ii]\n",
    "    if shutdown_record.sum() > 0:\n",
    "        last_shutdown_hour = shutdown_record[shutdown_record > 0].index[-1]\n",
    "        hour_since_last_shutdown[ii] = int((hour_before_start - last_shutdown_hour).total_seconds()/3600)\n",
    "    else:\n",
    "        hour_since_last_shutdown[ii] = 999\n",
    "\n",
    "nygrid_sim_s1.set_gen_last_startup_data(hour_since_last_startup)\n",
    "nygrid_sim_s1.set_gen_last_shutdown_data(hour_since_last_shutdown)\n",
    "\n",
    "# Set options\n",
    "nygrid_sim_s1.set_options(options)\n",
    "\n",
    "# Solve DC OPF\n",
    "nygrid_sim_s1.solve_dc_opf(solver_options)\n",
    "\n",
    "# Get results\n",
    "results_s1 = nygrid_sim_s1.get_results_dc_opf()"
   ]
  },
  {
   "cell_type": "code",
   "execution_count": null,
   "metadata": {},
   "outputs": [],
   "source": [
    "print(\"s_ramp_up\", results_s1['s_ramp_up'].sum())\n",
    "print(\"s_ramp_down\", results_s1['s_ramp_down'].sum())\n",
    "print(\"s_over_gen\", results_s1['s_over_gen'].sum())\n",
    "print(\"s_load_shed\", results_s1['s_load_shed'].sum())\n",
    "print(\"s_if_max\", results_s1['s_if_max'].sum())\n",
    "print(\"s_if_min\", results_s1['s_if_min'].sum())\n",
    "print(\"s_br_max\", results_s1['s_br_max'].sum())\n",
    "print(\"s_br_min\", results_s1['s_br_min'].sum())\n",
    "print(\"s_esr_pcrg\", results_s1['s_esr_pcrg'].sum())\n",
    "print(\"s_esr_pdis\", results_s1['s_esr_pdis'].sum())\n",
    "print(\"s_esr_soc_min\", results_s1['s_esr_soc_min'].sum())\n",
    "print(\"s_esr_soc_max\", results_s1['s_esr_soc_max'].sum())\n",
    "print(\"s_esr_soc_overt\", results_s1['s_esr_soc_overt'].sum())\n",
    "print(\"s_esr_soc_undert\", results_s1['s_esr_soc_undert'].sum())\n",
    "print(\"s_min_up_time\", results_s1['s_min_up_time'].sum())\n",
    "print(\"s_min_down_time\", results_s1['s_min_down_time'].sum())"
   ]
  },
  {
   "cell_type": "markdown",
   "metadata": {},
   "source": [
    "## Process the results"
   ]
  },
  {
   "cell_type": "markdown",
   "metadata": {},
   "source": [
    "### Read CEMS data"
   ]
  },
  {
   "cell_type": "code",
   "execution_count": null,
   "metadata": {},
   "outputs": [],
   "source": [
    "gen_combiner = pd.read_excel(os.path.join(thermal_data_dir, '2018_nyca_thermal.xlsx'),\n",
    "                             sheet_name='matched_with_id_filtered')\n",
    "gen_combiner = gen_combiner.rename(columns={\n",
    "    '   Station        Unit': 'NYISO_Name',\n",
    "})\n",
    "\n",
    "# Map unit type GT, JE to CT\n",
    "gen_combiner['Unit Type'] = gen_combiner['Unit Type'].replace(\n",
    "    {'GT': 'CT', 'JE': 'CT'})\n",
    "gen_combiner['Fuel Type Secondary'] = gen_combiner['Fuel Type Secondary'].astype(\n",
    "    str).replace({'nan': ''})\n",
    "\n",
    "gen_combiner['GEN_NAME'] = gen_combiner['NYISO_Name'] + gen_combiner['ID']\n",
    "gen_combiner"
   ]
  },
  {
   "cell_type": "code",
   "execution_count": null,
   "metadata": {},
   "outputs": [],
   "source": [
    "cems_data_dir = os.path.join(thermal_data_dir, 'cems_2018')\n",
    "df_list = list()\n",
    "for mo in range(1, 13):\n",
    "    df = pd.read_csv(os.path.join(cems_data_dir, f'2018ny{str(mo).zfill(2)}.csv'),\n",
    "                     low_memory=False)\n",
    "    df_list.append(df)\n",
    "\n",
    "# Concatenate all the dataframes\n",
    "cems_df = pd.concat(df_list, axis=0, ignore_index=True)\n",
    "\n",
    "# Rename columns\n",
    "cems_df = cems_df.rename(columns={\n",
    "    'ORISPL_CODE': 'Plant_ID',\n",
    "    'UNITID': 'Unit_ID',\n",
    "})\n",
    "\n",
    "# Add time columns from OP_DATE and OP_HOUR\n",
    "cems_df['Time'] = pd.to_datetime(\n",
    "    cems_df['OP_DATE']) + pd.to_timedelta(cems_df['OP_HOUR'], unit='h')\n",
    "# cems_df['Month'] = cems_df['Time'].dt.month\n",
    "\n",
    "# Drop columns that are not needed\n",
    "cems_df = cems_df.drop(columns=['STATE', 'FAC_ID', 'UNIT_ID', 'OP_DATE', 'OP_HOUR',\n",
    "                                'SO2_MASS_MEASURE_FLG', 'SO2_RATE_MEASURE_FLG',\n",
    "                                'NOX_MASS_MEASURE_FLG', 'NOX_RATE_MEASURE_FLG',\n",
    "                                'CO2_MASS_MEASURE_FLG', 'CO2_RATE_MEASURE_FLG',\n",
    "                                'SLOAD (1000lb/hr)'])"
   ]
  },
  {
   "cell_type": "code",
   "execution_count": null,
   "metadata": {},
   "outputs": [],
   "source": [
    "cems_gload = dict()\n",
    "cems_heat_input = dict()\n",
    "\n",
    "for ii in range(gen_combiner.shape[0]):\n",
    "\n",
    "    gen_info = gen_combiner.iloc[ii]\n",
    "\n",
    "    unit_df = cems_df[(cems_df['Plant_ID'] == gen_info['CAMD_Plant_ID'])\n",
    "                        & (cems_df['Unit_ID'] == gen_info['CAMD_Unit_ID'])]\n",
    "    unit_df = unit_df.set_index('Time').sort_index()\n",
    "    \n",
    "    cems_gload[gen_info['GEN_NAME']] = unit_df['GLOAD (MW)']\n",
    "    # cems_heat_input[gen_info['GEN_NAME']] = unit_df['HEAT_INPUT (mmBtu)']\n",
    "\n",
    "# Create a dataframe from the dictionary\n",
    "cems_gload_df = pd.DataFrame(cems_gload)\n",
    "# cems_heat_input_df = pd.DataFrame(cems_heat_input)\n",
    "\n",
    "# Subset the data to the time range of the simulation\n",
    "cems_gload_df_w0 = cems_gload_df.loc[start_datetime_w0:end_datetime_w0]\n",
    "cems_gload_df_w1 = cems_gload_df.loc[start_datetime_w1:end_datetime_w1]\n",
    "cems_gload_df_s0 = cems_gload_df.loc[start_datetime_s0:end_datetime_s0]\n",
    "# cems_gload_df_s1 = cems_gload_df.loc[start_datetime_s1:end_datetime_s1]"
   ]
  },
  {
   "cell_type": "code",
   "execution_count": null,
   "metadata": {},
   "outputs": [],
   "source": [
    "gen_fuel = gen_combiner[['GEN_NAME','Unit Type', 'Fuel Type Primary']].copy()\n",
    "gen_fuel['GEN_FUEL'] = gen_fuel['Unit Type'] + '_' + gen_fuel['Fuel Type Primary']\n",
    "gen_fuel_dict = gen_fuel.set_index('GEN_NAME')['GEN_FUEL'].to_dict()\n",
    "\n",
    "# GlOAD grouped by unit type and fuel type\n",
    "cems_gload_summary_w0 = cems_gload_df_w0.groupby(gen_fuel_dict, axis=1).sum()\n",
    "cems_gload_summary_w1 = cems_gload_df_w1.groupby(gen_fuel_dict, axis=1).sum()\n",
    "cems_gload_summary_s0 = cems_gload_df_s0.groupby(gen_fuel_dict, axis=1).sum()\n",
    "# cems_gload_summary_s1 = cems_gload_df_s1.groupby(gen_fuel_dict, axis=1).sum()"
   ]
  },
  {
   "cell_type": "markdown",
   "metadata": {},
   "source": [
    "### Power dispatch"
   ]
  },
  {
   "cell_type": "code",
   "execution_count": null,
   "metadata": {},
   "outputs": [],
   "source": [
    "# Power dispatch of generators by fuel type\n",
    "# Including ESR, DC line, and VRE\n",
    "pg_by_fuel_dict_w0 = ng_post.get_pg_by_fuel(results_w0, nygrid_sim_w0,\n",
    "                                              valid_hours=nygrid_sim_w0.NT)\n",
    "\n",
    "# Drop NJ generators\n",
    "cols_drop_cc_ng = [col for col in pg_by_fuel_dict_w0['CC_NG'].columns if '50006' in col]\n",
    "pg_by_fuel_dict_w0['CC_NG'] = pg_by_fuel_dict_w0['CC_NG'].drop(columns=cols_drop_cc_ng)\n",
    "\n",
    "cols_drop_ct_ng = [col for col in pg_by_fuel_dict_w0['CT_NG'].columns if '56964' in col]\n",
    "pg_by_fuel_dict_w0['CT_NG'] = pg_by_fuel_dict_w0['CT_NG'].drop(columns=cols_drop_ct_ng)\n",
    "\n",
    "# 2018 Baseline\n",
    "pg_by_fuel_sum_w0 = dict()\n",
    "for fuel_type, pg_by_fuel in pg_by_fuel_dict_w0.items():\n",
    "    pg_by_fuel_sum_w0[fuel_type] = pg_by_fuel.sum(axis=1)\n",
    "\n",
    "# Convert to DataFrame\n",
    "pg_by_fuel_sum_w0 = pd.DataFrame(pg_by_fuel_sum_w0,\n",
    "                                   index=pg_by_fuel_dict_w0['CC_NG'].index)\n"
   ]
  },
  {
   "cell_type": "code",
   "execution_count": null,
   "metadata": {},
   "outputs": [],
   "source": [
    "# Power dispatch of generators by fuel type\n",
    "# Including ESR, DC line, and VRE\n",
    "pg_by_fuel_dict_w1 = ng_post.get_pg_by_fuel(results_w1, nygrid_sim_w1,\n",
    "                                              valid_hours=nygrid_sim_w1.NT)\n",
    "\n",
    "# Drop NJ generators\n",
    "cols_drop_cc_ng = [col for col in pg_by_fuel_dict_w1['CC_NG'].columns if '50006' in col]\n",
    "pg_by_fuel_dict_w1['CC_NG'] = pg_by_fuel_dict_w1['CC_NG'].drop(columns=cols_drop_cc_ng)\n",
    "\n",
    "cols_drop_ct_ng = [col for col in pg_by_fuel_dict_w1['CT_NG'].columns if '56964' in col]\n",
    "pg_by_fuel_dict_w1['CT_NG'] = pg_by_fuel_dict_w1['CT_NG'].drop(columns=cols_drop_ct_ng)\n",
    "\n",
    "# 2018 Baseline\n",
    "pg_by_fuel_sum_w1 = dict()\n",
    "for fuel_type, pg_by_fuel in pg_by_fuel_dict_w1.items():\n",
    "    pg_by_fuel_sum_w1[fuel_type] = pg_by_fuel.sum(axis=1)\n",
    "\n",
    "# Convert to DataFrame\n",
    "pg_by_fuel_sum_w1 = pd.DataFrame(pg_by_fuel_sum_w1,\n",
    "                                   index=pg_by_fuel_dict_w1['CC_NG'].index)\n"
   ]
  },
  {
   "cell_type": "code",
   "execution_count": null,
   "metadata": {},
   "outputs": [],
   "source": [
    "# Power dispatch of generators by fuel type\n",
    "# Including ESR, DC line, and VRE\n",
    "pg_by_fuel_dict_s0 = ng_post.get_pg_by_fuel(results_s0, nygrid_sim_s0,\n",
    "                                           valid_hours=nygrid_sim_s0.NT)\n",
    "\n",
    "# Drop NJ generators\n",
    "cols_drop_cc_ng = [col for col in pg_by_fuel_dict_s0['CC_NG'].columns if '50006' in col]\n",
    "pg_by_fuel_dict_s0['CC_NG'] = pg_by_fuel_dict_s0['CC_NG'].drop(columns=cols_drop_cc_ng)\n",
    "\n",
    "cols_drop_ct_ng = [col for col in pg_by_fuel_dict_s0['CT_NG'].columns if '56964' in col]\n",
    "pg_by_fuel_dict_s0['CT_NG'] = pg_by_fuel_dict_s0['CT_NG'].drop(columns=cols_drop_ct_ng)\n",
    "\n",
    "# 2018 Baseline\n",
    "pg_by_fuel_sum_s0 = dict()\n",
    "for fuel_type, pg_by_fuel in pg_by_fuel_dict_s0.items():\n",
    "    pg_by_fuel_sum_s0[fuel_type] = pg_by_fuel.sum(axis=1)\n",
    "\n",
    "# Convert to DataFrame\n",
    "pg_by_fuel_sum_s0 = pd.DataFrame(pg_by_fuel_sum_s0,\n",
    "                                   index=pg_by_fuel_dict_s0['CC_NG'].index)"
   ]
  },
  {
   "cell_type": "code",
   "execution_count": null,
   "metadata": {},
   "outputs": [],
   "source": [
    "# Power dispatch of generators by fuel type\n",
    "# Including ESR, DC line, and VRE\n",
    "pg_by_fuel_dict_s1 = ng_post.get_pg_by_fuel(results_s1, nygrid_sim_s1,\n",
    "                                           valid_hours=nygrid_sim_s0.NT)\n",
    "\n",
    "# Drop NJ generators\n",
    "cols_drop_cc_ng = [col for col in pg_by_fuel_dict_s1['CC_NG'].columns if '50006' in col]\n",
    "pg_by_fuel_dict_s1['CC_NG'] = pg_by_fuel_dict_s1['CC_NG'].drop(columns=cols_drop_cc_ng)\n",
    "\n",
    "cols_drop_ct_ng = [col for col in pg_by_fuel_dict_s1['CT_NG'].columns if '56964' in col]\n",
    "pg_by_fuel_dict_s1['CT_NG'] = pg_by_fuel_dict_s1['CT_NG'].drop(columns=cols_drop_ct_ng)\n",
    "\n",
    "# 2018 Baseline\n",
    "pg_by_fuel_sum_s1 = dict()\n",
    "for fuel_type, pg_by_fuel in pg_by_fuel_dict_s1.items():\n",
    "    pg_by_fuel_sum_s1[fuel_type] = pg_by_fuel.sum(axis=1)\n",
    "\n",
    "# Convert to DataFrame\n",
    "pg_by_fuel_sum_s1 = pd.DataFrame(pg_by_fuel_sum_s1,\n",
    "                                   index=pg_by_fuel_dict_s1['CC_NG'].index)"
   ]
  },
  {
   "cell_type": "code",
   "execution_count": null,
   "metadata": {},
   "outputs": [],
   "source": [
    "# External bus load profile\n",
    "bus_prop = nygrid_sim_w0.grid_prop['bus_prop']\n",
    "bus_zone_dict = bus_prop.set_index('BUS_I')['BUS_ZONE'].to_dict()\n",
    "\n",
    "load_profile_by_zone_2018 = grid_profile['load_profile'].groupby(bus_zone_dict, axis=1).sum()\n",
    "\n",
    "load_profile_external = load_profile_by_zone_2018[['NE','PJM','IESO']]\n",
    "load_profile_external_sum = load_profile_external.sum(axis=1)\n",
    "\n",
    "load_profile_external_sum_w0 = load_profile_external_sum.loc[start_datetime_w0:end_datetime_w0]\n",
    "load_profile_external_sum_w1 = load_profile_external_sum.loc[start_datetime_w1:end_datetime_w1]\n",
    "load_profile_external_sum_s0 = load_profile_external_sum.loc[start_datetime_s0:end_datetime_s0]\n",
    "# load_profile_external_sum_s1 = load_profile_external_sum.loc[start_datetime_s1:end_datetime_s1]\n",
    "\n",
    "net_import_w0 = pg_by_fuel_sum_w0['Import_Import'] - load_profile_external_sum_w0\n",
    "net_import_w1 = pg_by_fuel_sum_w1['Import_Import'] - load_profile_external_sum_w1\n",
    "net_import_s0 = pg_by_fuel_sum_s0['Import_Import'] - load_profile_external_sum_s0\n",
    "# net_import_s1 = pg_by_fuel_sum_s1['Import_Import'] - load_profile_external_sum_s1"
   ]
  },
  {
   "cell_type": "code",
   "execution_count": null,
   "metadata": {},
   "outputs": [],
   "source": [
    "fig, axs = plt.subplots(4, 2, figsize=(12, 8), sharex=True,\n",
    "                        layout='constrained')\n",
    "\n",
    "for i, fuel_type in enumerate(cems_gload_summary_w0.columns):\n",
    "    if fuel_type == 'ST_BIT':\n",
    "        continue\n",
    "    ax = axs.flatten()[i]\n",
    "    cems_gload_summary_w0[fuel_type].plot(ax=ax, alpha=0.5, color='red',\n",
    "                                          label='CEMS d1', marker='.')\n",
    "    cems_gload_summary_w1[fuel_type].plot(ax=ax, alpha=0.5, color='tab:red',\n",
    "                                          label='CEMS d2', marker='.')\n",
    "    pg_by_fuel_sum_w0[fuel_type].plot(ax=ax, alpha=0.5, color='blue',\n",
    "                                      label='NYGrid d1', marker='.')\n",
    "    pg_by_fuel_sum_w1[fuel_type].plot(ax=ax, alpha=0.5, color='tab:blue',\n",
    "                                      label='NYGrid d2', marker='.')\n",
    "\n",
    "    ax.set_title(fuel_type)\n",
    "    ax.legend(loc='upper right')\n",
    "    ax.grid(True, which='both', linestyle='--', linewidth=0.5)\n",
    "\n",
    "ax = axs.flatten()[-1]\n",
    "net_import_w0.plot(ax=ax, alpha=0.5, color='blue',\n",
    "                   label='NYGrid', marker='.')\n",
    "net_import_w1.plot(ax=ax, alpha=0.5, color='tab:blue',\n",
    "                   label='NYGrid', marker='.')\n",
    "ax.set_title('Net Import')\n",
    "ax.legend(loc='upper right')\n",
    "\n",
    "fig.supxlabel('Time')\n",
    "fig.supylabel('Power (MW)')\n",
    "fig.suptitle('Total generation by fuel type (Winter)')\n",
    "plt.show()"
   ]
  },
  {
   "cell_type": "code",
   "execution_count": null,
   "metadata": {},
   "outputs": [],
   "source": [
    "fig, axs = plt.subplots(4, 2, figsize=(12, 8), sharex=True,\n",
    "                        layout='constrained')\n",
    "\n",
    "for i, fuel_type in enumerate(cems_gload_summary_s0.columns):\n",
    "    if fuel_type == 'ST_BIT':\n",
    "        continue\n",
    "    ax = axs.flatten()[i]\n",
    "    cems_gload_summary_s0[fuel_type].plot(ax=ax, alpha=0.5, color='red',\n",
    "                                          label='CEMS d1', marker='.')\n",
    "    # cems_gload_summary_s1[fuel_type].plot(ax=ax, alpha=0.5, color='tab:red',\n",
    "    #                                       label='CEMS d2', marker='.')\n",
    "    pg_by_fuel_sum_s0[fuel_type].plot(ax=ax, alpha=0.5, color='blue',\n",
    "                                      label='NYGrid d1', marker='.')\n",
    "    # pg_by_fuel_sum_s1[fuel_type].plot(ax=ax, alpha=0.5, color='tab:blue',\n",
    "    #                                   label='NYGrid d2', marker='.')\n",
    "\n",
    "    ax.set_title(fuel_type)\n",
    "    ax.legend(loc='upper right')\n",
    "    ax.grid(True, which='both', linestyle='--', linewidth=0.5)\n",
    "\n",
    "ax = axs.flatten()[-1]\n",
    "net_import_s0.plot(ax=ax, alpha=0.5, color='blue',\n",
    "                   label='NYGrid', marker='.')\n",
    "# net_import_s1.plot(ax=ax, alpha=0.5, color='tab:blue',\n",
    "#                    label='NYGrid', marker='.')\n",
    "ax.set_title('Net Import')\n",
    "ax.legend(loc='upper right')\n",
    "\n",
    "fig.supxlabel('Time')\n",
    "fig.supylabel('Power (MW)')\n",
    "fig.suptitle('Total generation by fuel type (Summer)')\n",
    "plt.show()"
   ]
  },
  {
   "cell_type": "code",
   "execution_count": null,
   "metadata": {},
   "outputs": [],
   "source": [
    "pg_by_fuel_sum_w0.plot(subplots=True, layout=(8, 2), figsize=(12, 8), sharex=True)"
   ]
  },
  {
   "cell_type": "code",
   "execution_count": null,
   "metadata": {},
   "outputs": [],
   "source": [
    "pg_by_fuel_sum_s0.plot(subplots=True, layout=(8, 2), figsize=(12, 8), sharex=True)"
   ]
  },
  {
   "cell_type": "markdown",
   "metadata": {},
   "source": [
    "### Unit commitment"
   ]
  },
  {
   "cell_type": "code",
   "execution_count": null,
   "metadata": {},
   "outputs": [],
   "source": [
    "n_thermal = nygrid_sim_w0.NG - nygrid_sim_w0.NESR - nygrid_sim_w0.NDCL*2\n",
    "gen_pg = results_w0['PG'].iloc[:, :n_thermal]\n",
    "gen_commit = results_w0['genCommit'].iloc[:, :n_thermal]\n",
    "gen_startup = results_w0['genStartup'].iloc[:, :n_thermal]\n",
    "gen_shutdown = results_w0['genShutdown'].iloc[:, :n_thermal]\n"
   ]
  },
  {
   "cell_type": "code",
   "execution_count": null,
   "metadata": {},
   "outputs": [],
   "source": [
    "fig, axs = plt.subplots(4, 1, figsize=(8, 6), sharex=True, layout='constrained')\n",
    "axs[0].plot(gen_commit, label='gen_commit')\n",
    "axs[1].plot(gen_startup, label='gen_startup')\n",
    "axs[2].plot(gen_shutdown, label='gen_shutdown')\n",
    "axs[3].plot(gen_pg, label='gen_pg')\n",
    "axs[0].set_ylabel('gen_commit')\n",
    "axs[1].set_ylabel('gen_startup')\n",
    "axs[2].set_ylabel('gen_shutdown')\n",
    "axs[3].set_ylabel('gen_pg')\n",
    "for ax in axs[:-1]:\n",
    "    ax.set_ylim(-0.1, 1.1)\n",
    "    ax.grid(linestyle='--', linewidth=0.5)\n",
    "plt.show()"
   ]
  },
  {
   "cell_type": "code",
   "execution_count": null,
   "metadata": {},
   "outputs": [],
   "source": [
    "ii = 100\n",
    "\n",
    "fig, axs = plt.subplots(4, 1, figsize=(8, 6), sharex=True, layout='constrained')\n",
    "axs[0].plot(gen_commit[ii], marker='.', label='gen_commit')\n",
    "axs[1].plot(gen_startup[ii], marker='.', label='gen_startup')\n",
    "axs[2].plot(gen_shutdown[ii], marker='.', label='gen_shutdown')\n",
    "axs[3].plot(gen_pg[ii], marker='.', label='gen_pg')\n",
    "axs[0].set_ylabel('gen_commit')\n",
    "axs[1].set_ylabel('gen_startup')\n",
    "axs[2].set_ylabel('gen_shutdown')\n",
    "axs[3].set_ylabel('gen_pg')\n",
    "for ax in axs[:-1]:\n",
    "    ax.set_ylim(-0.1, 1.1)\n",
    "    ax.grid(linestyle='--', linewidth=0.5)\n",
    "plt.show()"
   ]
  },
  {
   "cell_type": "code",
   "execution_count": null,
   "metadata": {},
   "outputs": [],
   "source": [
    "grid_prop['gen_prop'][['GEN_NAME', 'UNIT_TYPE', 'FUEL_TYPE', 'PMAX', 'MIN_UP_TIME', 'MIN_DOWN_TIME']].iloc[ii, :]"
   ]
  },
  {
   "cell_type": "markdown",
   "metadata": {},
   "source": [
    "### Costs"
   ]
  },
  {
   "cell_type": "code",
   "execution_count": null,
   "metadata": {},
   "outputs": [],
   "source": [
    "print(f'Total cost: {results_w0[\"total_cost\"].sum():.2f}')\n",
    "print(f'Total penalty: {results_w0[\"total_penalty\"].sum():.2f}')\n",
    "print(f'Total cost and penalty: {results_w0[\"total_cost_penalty\"].sum():.2f}')\n",
    "print(f'Penalty percentage: {results_w0[\"total_penalty\"].sum()/results_w0[\"total_cost\"].sum()*100:.2f}%')\n",
    "\n",
    "print(f'Gen cost: {results_w0[\"gen_cost\"].sum():.2f}')\n",
    "print(f'Gen no load cost: {results_w0[\"gen_cost_noload\"].sum():.2f}')\n",
    "print(f'Gen startup cost: {results_w0[\"gen_cost_startup\"].sum():.2f}')\n",
    "print(f'Gen shutdown cost: {results_w0[\"gen_cost_shutdown\"].sum():.2f}')\n",
    "print(f'ESR cost: {results_w0[\"esr_cost\"].sum():.2f}')\n",
    "\n",
    "print(f'Over generation penalty: {results_w0[\"over_gen_penalty\"].sum():.2f}')\n",
    "print(f'Load shed penalty: {results_w0[\"load_shed_penalty\"].sum():.2f}')\n",
    "print(f'Ramp up penalty: {results_w0[\"ramp_up_penalty\"].sum():.2f}')\n",
    "print(f'Ramp down penalty: {results_w0[\"ramp_down_penalty\"].sum():.2f}')\n",
    "print(f'Interface max penalty: {results_w0[\"if_max_penalty\"].sum():.2f}')\n",
    "print(f'Interface min penalty: {results_w0[\"if_min_penalty\"].sum():.2f}')\n",
    "print(f'Branch max penalty: {results_w0[\"br_max_penalty\"].sum():.2f}')\n",
    "print(f'Branch min penalty: {results_w0[\"br_min_penalty\"].sum():.2f}')\n",
    "\n",
    "print(f'ESR Charging power penalty: {results_w0[\"esr_pcrg_penalty\"].sum():.2f}')\n",
    "print(f'ESR Discharging power penalty: {results_w0[\"esr_pdis_penalty\"].sum():.2f}')\n",
    "print(f'ESR SOC max penalty: {results_w0[\"esr_soc_max_penalty\"].sum():.2f}')\n",
    "print(f'ESR SOC min penalty: {results_w0[\"esr_soc_min_penalty\"].sum():.2f}')\n",
    "print(f'ESR SOC over target penalty: {results_w0[\"esr_soc_overt_penalty\"].sum():.2f}')\n",
    "print(f'ESR SOC under target penalty: {results_w0[\"esr_soc_undert_penalty\"].sum():.2f}')\n"
   ]
  },
  {
   "cell_type": "markdown",
   "metadata": {},
   "source": [
    "### ESR"
   ]
  },
  {
   "cell_type": "code",
   "execution_count": null,
   "metadata": {},
   "outputs": [],
   "source": [
    "# ii = 7\n",
    "# crg_max = grid_prop['esr_prop']['ESR_CRG_MAX'].iloc[ii]\n",
    "# dis_max = grid_prop['esr_prop']['ESR_DIS_MAX'].iloc[ii]\n",
    "# crg_eff = grid_prop['esr_prop']['ESR_CRG_EFF'].iloc[ii]\n",
    "# dis_eff = grid_prop['esr_prop']['ESR_DIS_EFF'].iloc[ii]\n",
    "# soc_init = grid_prop['esr_prop']['ESR_SOC_INI'].iloc[ii]\n",
    "# soc_max = grid_prop['esr_prop']['ESR_SOC_MAX'].iloc[ii]\n",
    "\n",
    "# print(f'crg_max: {crg_max}, dis_max: {dis_max}, crg_eff: {crg_eff}, dis_eff: {dis_eff}, soc_init: {soc_init}, soc_max: {soc_max}')\n"
   ]
  },
  {
   "cell_type": "code",
   "execution_count": null,
   "metadata": {},
   "outputs": [],
   "source": [
    "# fig, axs = plt.subplots(3, 1, figsize=(10, 6),\n",
    "#                        sharex=True, layout='constrained')\n",
    "\n",
    "# results_0['esrPCrg'].iloc[:, ii].plot(ax=axs[0], label='Day 1 w/o IC', alpha=0.5)\n",
    "# results_0['esrPDis'].iloc[:, ii].plot(ax=axs[1], label='Day 1 w/o IC', alpha=0.5)\n",
    "# results_0['esrSOC'].iloc[:, ii].plot(ax=axs[2], label='Day 1 w/o IC', alpha=0.5)\n",
    "\n",
    "# # results_1['esrPCrg'].iloc[:, ii].plot(ax=axs[0], label='Day 2 w/ IC', alpha=0.5)\n",
    "# # results_1['esrPDis'].iloc[:, ii].plot(ax=axs[1], label='Day 2 w/ IC', alpha=0.5)\n",
    "# # results_1['esrSOC'].iloc[:, ii].plot(ax=axs[2], label='Day 2 w/ IC', alpha=0.5)\n",
    "\n",
    "# titles = ['Charge Power', 'Discharge Power', 'State of Charge']\n",
    "# for i, ax in enumerate(axs):\n",
    "#     ax.set_title(titles[i])"
   ]
  }
 ],
 "metadata": {
  "interpreter": {
   "hash": "f1e7b9e5b0ccd18e373e44bae5bf3ffa8873ffa9b0a195a69c8a44ccfc15a04d"
  },
  "kernelspec": {
   "display_name": "NYgrid-python",
   "language": "python",
   "name": "python3"
  },
  "language_info": {
   "codemirror_mode": {
    "name": "ipython",
    "version": 3
   },
   "file_extension": ".py",
   "mimetype": "text/x-python",
   "name": "python",
   "nbconvert_exporter": "python",
   "pygments_lexer": "ipython3",
   "version": "3.8.18"
  }
 },
 "nbformat": 4,
 "nbformat_minor": 2
}
