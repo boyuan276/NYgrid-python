{
 "cells": [
  {
   "cell_type": "markdown",
   "metadata": {},
   "source": [
    "## 2024NewParams: Generator parameters and profiles\n",
    "\n",
    "This notebook writes (9):\n",
    "\n",
    "* gen_prop.csv\n",
    "* genfuel_prop.csv\n",
    "* gencost_prop.csv\n",
    "* thermal_params.csv\n",
    "* genmax_profile_{year}.csv\n",
    "* genmin_profile_{year}.csv\n",
    "* gencost0_profile_{year}.csv\n",
    "* gencost1_profile_{year}.csv\n",
    "* gencost_startup_profile_{year}.csv\n",
    "\n",
    "The following files need to be created separately (7):\n",
    "\n",
    "* bus_prop.csv\n",
    "* branch_prop.csv\n",
    "* dcline_prop.csv\n",
    "* esr_prop.csv\n",
    "* if_lims_prop.csv\n",
    "* if_map_prop.csv\n",
    "* load_profile_{year}.csv"
   ]
  },
  {
   "cell_type": "code",
   "execution_count": 1,
   "metadata": {},
   "outputs": [],
   "source": [
    "import os\n",
    "import numpy as np\n",
    "import pandas as pd\n",
    "import matplotlib.pyplot as plt\n",
    "import seaborn as sns\n",
    "from datetime import datetime, timedelta\n",
    "\n",
    "import nygrid.gen_params as gp"
   ]
  },
  {
   "cell_type": "code",
   "execution_count": 2,
   "metadata": {},
   "outputs": [
    {
     "name": "stdout",
     "output_type": "stream",
     "text": [
      "Grid data directory: /mnt/Bo_HDD/NYgrid-python/data/grid\n",
      "Thermal data directory: /mnt/Bo_HDD/NYgrid-python/data/thermal\n",
      "Solar data directory: /mnt/Bo_HDD/NYgrid-python/data/renewable/solar\n",
      "Onshore wind data directory: /mnt/Bo_HDD/NYgrid-python/data/renewable/onshore_wind\n",
      "Offshore wind data directory: /mnt/Bo_HDD/NYgrid-python/data/renewable/offshore_wind\n",
      "NYISO data directory: /mnt/Bo_HDD/NYgrid-python/data/from_nyiso\n"
     ]
    }
   ],
   "source": [
    "# Set up directories\n",
    "cwd = os.getcwd()\n",
    "if 'examples' in cwd:\n",
    "    parent_dir = os.path.dirname(cwd)\n",
    "    data_dir = os.path.join(parent_dir, 'data')\n",
    "else:\n",
    "    data_dir = os.path.join(cwd, 'data')\n",
    "\n",
    "grid_data_dir = os.path.join(data_dir, 'grid')\n",
    "if not os.path.exists(grid_data_dir):\n",
    "    raise FileNotFoundError('Grid data directory not found.')\n",
    "\n",
    "thermal_data_dir = os.path.join(data_dir, 'thermal')\n",
    "if not os.path.exists(thermal_data_dir):\n",
    "    raise FileNotFoundError('Thermal data directory not found.')\n",
    "\n",
    "print('Grid data directory: {}'.format(grid_data_dir))\n",
    "print('Thermal data directory: {}'.format(thermal_data_dir))\n",
    "\n",
    "solar_data_dir = os.path.join(data_dir, 'renewable', 'solar')\n",
    "print('Solar data directory: {}'.format(solar_data_dir))\n",
    "\n",
    "onshore_wind_data_dir = os.path.join(data_dir, 'renewable', 'onshore_wind')\n",
    "print('Onshore wind data directory: {}'.format(onshore_wind_data_dir))\n",
    "\n",
    "offshore_wind_data_dir = os.path.join(data_dir, 'renewable', 'offshore_wind')\n",
    "print('Offshore wind data directory: {}'.format(offshore_wind_data_dir))\n",
    "\n",
    "nyiso_data_dir = os.path.join(data_dir, 'from_nyiso')\n",
    "print('NYISO data directory: {}'.format(nyiso_data_dir))"
   ]
  },
  {
   "cell_type": "markdown",
   "metadata": {},
   "source": [
    "# Read generator parameters"
   ]
  },
  {
   "cell_type": "code",
   "execution_count": 3,
   "metadata": {},
   "outputs": [],
   "source": [
    "# Read processed generator parameters\n",
    "thermal_params_df = pd.read_excel(os.path.join(\n",
    "    thermal_data_dir, 'gen_params_2018.xlsx'), index_col=0)\n",
    "thermal_params_df_2 = pd.read_excel(os.path.join(\n",
    "    thermal_data_dir, 'gen_params_2024.xlsx'), index_col=0)\n",
    "thermal_params_df = pd.concat([thermal_params_df, thermal_params_df_2], axis=0)"
   ]
  },
  {
   "cell_type": "code",
   "execution_count": 4,
   "metadata": {},
   "outputs": [],
   "source": [
    "# 2024 NYCA: 218 thermal generators\n",
    "gen_combiner_2024 = pd.read_excel(os.path.join(thermal_data_dir, '2024_nyca_thermal.xlsx'),\n",
    "                                  sheet_name='matched_with_id_filtered')\n",
    "gen_combiner_2024 = gen_combiner_2024.rename(columns={\n",
    "    '   Station        Unit': 'NYISO_Name'})\n",
    "\n",
    "# Map unit type GT, JE to CT\n",
    "gen_combiner_2024['Unit Type'] = gen_combiner_2024['Unit Type'].replace(\n",
    "    {'GT': 'CT', 'JE': 'CT'})\n",
    "gen_combiner_2024['Fuel Type Secondary'] = gen_combiner_2024['Fuel Type Secondary'].astype(\n",
    "    str).replace({'nan': ''})\n",
    "gen_combiner_2024 = gen_combiner_2024.set_index('ID')\n",
    "gen_combiner_2024 = gen_combiner_2024.sort_values(\n",
    "    by=['CAMD_Plant_ID', 'CAMD_Unit_ID'])\n",
    "\n",
    "thermal_params_2024 = thermal_params_df.loc[gen_combiner_2024.index]\n",
    "thermal_params_2024 = thermal_params_2024.join(\n",
    "    gen_combiner_2024[['Zone', 'gen_bus']])\n",
    "thermal_params_2024 = thermal_params_2024[[\n",
    "    'NYISO_Name', 'PTID', 'Unit_Type', 'Fuel_Type_Primary',\n",
    "    'Fuel_Type_Secondary', 'CAMD_Plant_ID', 'CAMD_Unit_ID',\n",
    "    'raise_rr_ratio', 'lower_rr_ratio',\n",
    "    'max_gen', 'eco_min', 'eco_min_ratio',\n",
    "    'heat_1', 'heat_0', 'gen_bus', 'Zone'\n",
    "]]\n",
    "\n",
    "# Calculate ramp rates\n",
    "thermal_params_2024['max_ramp_ratio'] = thermal_params_2024[[\n",
    "    'raise_rr_ratio', 'lower_rr_ratio']].max(axis=1)\n",
    "thermal_params_2024['max_ramp_hourly'] = thermal_params_2024['max_ramp_ratio'] * \\\n",
    "    thermal_params_2024['max_gen']\n",
    "\n",
    "# Sort by CAMD plant and unit ID\n",
    "thermal_params_2024 = thermal_params_2024.sort_values(\n",
    "    by=['CAMD_Plant_ID', 'CAMD_Unit_ID'])\n",
    "thermal_params_2024 = thermal_params_2024.reset_index()"
   ]
  },
  {
   "cell_type": "markdown",
   "metadata": {},
   "source": [
    "# Format generator properties"
   ]
  },
  {
   "cell_type": "markdown",
   "metadata": {},
   "source": [
    "## 1. Thermal generators (CC, CT, ST)"
   ]
  },
  {
   "cell_type": "code",
   "execution_count": 5,
   "metadata": {},
   "outputs": [],
   "source": [
    "# 2024 NYCA: 218 thermal generators\n",
    "thermal_prop_2024 = gp.format_gen_prop_thermal(thermal_params_2024)"
   ]
  },
  {
   "cell_type": "markdown",
   "metadata": {},
   "source": [
    "## 2. Nuclear"
   ]
  },
  {
   "cell_type": "code",
   "execution_count": 6,
   "metadata": {},
   "outputs": [],
   "source": [
    "# Read nuclear generator parameters\n",
    "nuclear_params_2024 = pd.read_excel(os.path.join(thermal_data_dir, '2024_nyca_nonthermal.xlsx'),\n",
    "                                    sheet_name='Nuclear')\n",
    "nuclear_params_2024['Unit Type'] = nuclear_params_2024['Unit Type'].replace(\n",
    "    {'NP': 'NU', 'NB': 'NU'})\n",
    "nuclear_params_2024['max_ramp_hourly'] = 0.2 * \\\n",
    "    nuclear_params_2024['Capacity (MW)']\n",
    "\n",
    "# 2024 NYCA: 4 nuclear generators\n",
    "nuclear_prop_2024 = gp.format_gen_prop_non_thermal(nuclear_params_2024)"
   ]
  },
  {
   "cell_type": "markdown",
   "metadata": {},
   "source": [
    "## 3. Hydro"
   ]
  },
  {
   "cell_type": "code",
   "execution_count": 7,
   "metadata": {},
   "outputs": [],
   "source": [
    "# Read hydro generator parameters\n",
    "hydro_params_2024 = pd.read_excel(os.path.join(thermal_data_dir, '2024_nyca_nonthermal.xlsx'),\n",
    "                                  sheet_name='Hydro')\n",
    "hydro_params_2024['max_ramp_hourly'] = hydro_params_2024['Capacity (MW)']\n",
    "\n",
    "# 2024 NYCA: 10 hydro generators\n",
    "hydro_prop_2024 = gp.format_gen_prop_non_thermal(hydro_params_2024)"
   ]
  },
  {
   "cell_type": "markdown",
   "metadata": {},
   "source": [
    "## 4. Import"
   ]
  },
  {
   "cell_type": "code",
   "execution_count": 8,
   "metadata": {},
   "outputs": [],
   "source": [
    "# Read import generator parameters\n",
    "import_params_2024 = pd.read_excel(os.path.join(thermal_data_dir, '2024_nyca_nonthermal.xlsx'),\n",
    "                                   sheet_name='Import')\n",
    "import_params_2024['max_ramp_hourly'] = import_params_2024['Capacity (MW)']\n",
    "\n",
    "# 2024 NYCA: 15 import generators\n",
    "import_prop_2024 = gp.format_gen_prop_non_thermal(import_params_2024)"
   ]
  },
  {
   "cell_type": "markdown",
   "metadata": {},
   "source": [
    "## 5. Wind"
   ]
  },
  {
   "cell_type": "code",
   "execution_count": 9,
   "metadata": {},
   "outputs": [],
   "source": [
    "# Read wind generator parameters\n",
    "wind_params_2024 = pd.read_excel(os.path.join(thermal_data_dir, '2024_nyca_nonthermal.xlsx'),\n",
    "                                 sheet_name='Wind')\n",
    "wind_params_2024['max_ramp_hourly'] = wind_params_2024['Capacity (MW)']\n",
    "\n",
    "# 2024 NYCA: 31 wind generators\n",
    "wind_prop_2024 = gp.format_gen_prop_non_thermal(wind_params_2024)"
   ]
  },
  {
   "cell_type": "markdown",
   "metadata": {},
   "source": [
    "## 6. Utility PV"
   ]
  },
  {
   "cell_type": "code",
   "execution_count": 10,
   "metadata": {},
   "outputs": [],
   "source": [
    "# Read utility-scale PV generator parameters\n",
    "upv_params_2024 = pd.read_excel(os.path.join(thermal_data_dir, '2024_nyca_nonthermal.xlsx'),\n",
    "                                sheet_name='UPV')\n",
    "upv_params_2024['max_ramp_hourly'] = upv_params_2024['Capacity (MW)']\n",
    "\n",
    "# 2024 NYCA: 12 UPV generators\n",
    "upv_prop_2024 = gp.format_gen_prop_non_thermal(upv_params_2024)"
   ]
  },
  {
   "cell_type": "markdown",
   "metadata": {},
   "source": [
    "## 7. Other renewables"
   ]
  },
  {
   "cell_type": "code",
   "execution_count": 11,
   "metadata": {},
   "outputs": [],
   "source": [
    "# Read other renewable generator parameters\n",
    "others_params_2024 = pd.read_excel(os.path.join(thermal_data_dir, '2024_nyca_nonthermal.xlsx'),\n",
    "                                   sheet_name='Others')\n",
    "others_params_2024['max_ramp_hourly'] = others_params_2024['Capacity (MW)']\n",
    "\n",
    "# 2024 NYCA: 18 other renewable generators\n",
    "others_prop_2024 = gp.format_gen_prop_non_thermal(others_params_2024)"
   ]
  },
  {
   "cell_type": "markdown",
   "metadata": {},
   "source": [
    "## 8. Combine generator properties"
   ]
  },
  {
   "cell_type": "code",
   "execution_count": 12,
   "metadata": {},
   "outputs": [],
   "source": [
    "# 2024 NYCA: 321 generators\n",
    "gen_prop_2024 = pd.concat([thermal_prop_2024,\n",
    "                           nuclear_prop_2024,\n",
    "                           hydro_prop_2024,\n",
    "                           import_prop_2024,\n",
    "                           wind_prop_2024,\n",
    "                           upv_prop_2024,\n",
    "                           others_prop_2024], axis=0)"
   ]
  },
  {
   "cell_type": "markdown",
   "metadata": {},
   "source": [
    "# Format generator profiles"
   ]
  },
  {
   "cell_type": "markdown",
   "metadata": {},
   "source": [
    "## 1. genmax profile"
   ]
  },
  {
   "cell_type": "markdown",
   "metadata": {},
   "source": [
    "### A. Land-based wind"
   ]
  },
  {
   "cell_type": "code",
   "execution_count": 13,
   "metadata": {},
   "outputs": [],
   "source": [
    "# Land-based wind generation profile at turbine level\n",
    "onshore_wind_gen = pd.read_csv(os.path.join(onshore_wind_data_dir, f'current_wind_gen_1hr.csv'),\n",
    "                               parse_dates=['Time'], index_col='Time').asfreq('H')\n",
    "onshore_wind_gen.columns = onshore_wind_gen.columns.astype(int)"
   ]
  },
  {
   "cell_type": "code",
   "execution_count": 14,
   "metadata": {},
   "outputs": [],
   "source": [
    "# Read wind turbine information\n",
    "uswtdb_ny_2024 = pd.read_excel(os.path.join(\n",
    "    onshore_wind_data_dir, 'uswtdb_2024_ny.xlsx'))\n",
    "\n",
    "# Create a dict of NYISO name and USWTDB name\n",
    "wind_names_2024 = dict(zip(wind_params_2024['Notes'],\n",
    "                           wind_params_2024['Name']))"
   ]
  },
  {
   "cell_type": "code",
   "execution_count": 15,
   "metadata": {},
   "outputs": [],
   "source": [
    "# 2024 NYCA: 31 wind generators\n",
    "wind_farm_ts_dict = dict()\n",
    "for name in wind_names_2024:\n",
    "    wind_farm_df = uswtdb_ny_2024[uswtdb_ny_2024['p_name'] == name]\n",
    "    wind_farm_idx = list(wind_farm_df.index)\n",
    "    wind_farm_ts = onshore_wind_gen.loc[:, wind_farm_idx].sum(axis=1)\n",
    "    wind_farm_ts_dict[name] = wind_farm_ts\n",
    "wind_genmax_profile_2024 = pd.DataFrame(wind_farm_ts_dict)\n",
    "\n",
    "# Remove timezone info\n",
    "wind_genmax_profile_2024.index = wind_genmax_profile_2024.index.tz_localize(\n",
    "    None)\n",
    "\n",
    "# Convert kW to MW\n",
    "wind_genmax_profile_2024 = wind_genmax_profile_2024 / 1000\n",
    "\n",
    "# Rename wind farms\n",
    "wind_genmax_profile_2024 = wind_genmax_profile_2024.rename(\n",
    "    columns=wind_names_2024)"
   ]
  },
  {
   "cell_type": "markdown",
   "metadata": {},
   "source": [
    "### B. Utility PV"
   ]
  },
  {
   "cell_type": "code",
   "execution_count": 16,
   "metadata": {},
   "outputs": [],
   "source": [
    "# Utility PV generation profile\n",
    "# Fixed tilt: 4 sites\n",
    "upv_gen_ft = pd.read_csv(os.path.join(solar_data_dir, 'upv_params_2024_ft_solar_gen_1hr_MW.csv'),\n",
    "                         parse_dates=['Time'], index_col='Time').asfreq('H')\n",
    "# Single-axis tracking: 8 sites\n",
    "upv_gen_sat = pd.read_csv(os.path.join(solar_data_dir, 'upv_params_2024_sat_solar_gen_1hr_MW.csv'),\n",
    "                          parse_dates=['Time'], index_col='Time').asfreq('H')\n"
   ]
  },
  {
   "cell_type": "code",
   "execution_count": 17,
   "metadata": {},
   "outputs": [],
   "source": [
    "# 2024 NYCA: 12 UPV generators\n",
    "upv_genmax_profile_2024 = pd.concat([upv_gen_ft, upv_gen_sat], axis=1)\n",
    "\n",
    "# Reorder columns\n",
    "upv_genmax_profile_2024 = upv_genmax_profile_2024[upv_params_2024['Name']]\n",
    "\n",
    "# Remove timezone info\n",
    "upv_genmax_profile_2024.index = upv_genmax_profile_2024.index.tz_localize(None)"
   ]
  },
  {
   "cell_type": "markdown",
   "metadata": {},
   "source": [
    "### C. Import"
   ]
  },
  {
   "cell_type": "code",
   "execution_count": 18,
   "metadata": {},
   "outputs": [],
   "source": [
    "# Read NYISO historical interface flow data\n",
    "interflow_2018 = pd.read_csv(os.path.join(nyiso_data_dir, 'interflowHourly_2018.csv'),\n",
    "                             parse_dates=['TimeStamp'])\n",
    "interflow_2018 = interflow_2018.pivot(\n",
    "    index='TimeStamp', columns='InterfaceName', values='FlowMWH')\n",
    "\n",
    "# Internal interface flow\n",
    "if_internal_2018 = interflow_2018[['CENTRAL EAST - VC', 'DYSINGER EAST', 'MOSES SOUTH',\n",
    "                                  'SPR/DUN-SOUTH', 'TOTAL EAST', 'UPNY CONED', 'WEST CENTRAL']]\n",
    "\n",
    "# External interface flow\n",
    "if_external_2018 = interflow_2018[['SCH - HQ - NY', 'SCH - HQ_CEDARS', 'SCH - HQ_IMPORT_EXPORT',\n",
    "                                  'SCH - NE - NY', 'SCH - NPX_1385', 'SCH - NPX_CSC',\n",
    "                                   'SCH - OH - NY', 'SCH - PJ - NY', 'SCH - PJM_HTP',\n",
    "                                   'SCH - PJM_NEPTUNE', 'SCH - PJM_VFT']]"
   ]
  },
  {
   "cell_type": "code",
   "execution_count": 19,
   "metadata": {},
   "outputs": [],
   "source": [
    "# Assume that 2024 import generators have the same capacity as 2018\n",
    "# 2018 NYCA: 15 import generators\n",
    "import_genmax_profile_2024 = pd.DataFrame(index=if_external_2018.index)\n",
    "\n",
    "# NE\n",
    "import_genmax_profile_2024['Import_NE_CSC'] = if_external_2018['SCH - NPX_CSC']\n",
    "import_genmax_profile_2024['Import_NE_NNC'] = if_external_2018['SCH - NPX_1385']\n",
    "import_genmax_profile_2024['Import_NE_ZF'] = if_external_2018['SCH - NE - NY'] * 0.5\n",
    "import_genmax_profile_2024['Import_NE_ZG'] = if_external_2018['SCH - NE - NY'] * 0.5\n",
    "\n",
    "# IESO\n",
    "import_genmax_profile_2024['Import_IESO_ZD'] = if_external_2018['SCH - OH - NY'] * 0.16\n",
    "import_genmax_profile_2024['Import_IESO_ZA1'] = if_external_2018['SCH - OH - NY'] * 0.42\n",
    "import_genmax_profile_2024['Import_IESO_ZA2'] = if_external_2018['SCH - OH - NY'] * 0.42\n",
    "\n",
    "# PJM\n",
    "import_genmax_profile_2024['Import_PJM_ZA'] = if_external_2018['SCH - PJ - NY'] * 0.175\n",
    "import_genmax_profile_2024['Import_PJM_ZC'] = if_external_2018['SCH - PJ - NY'] * 0.285\n",
    "import_genmax_profile_2024['Import_PJM_ZG'] = if_external_2018['SCH - PJ - NY'] * 0.54\n",
    "import_genmax_profile_2024['Import_PJM_NEPTUNE'] = if_external_2018['SCH - PJM_NEPTUNE']\n",
    "import_genmax_profile_2024['Import_PJM_HTP'] = if_external_2018['SCH - PJM_HTP']\n",
    "import_genmax_profile_2024['Import_PJM_VFT'] = if_external_2018['SCH - PJM_VFT']\n",
    "\n",
    "# HQ\n",
    "import_genmax_profile_2024['Import_HQ_CEDARS'] = if_external_2018['SCH - HQ_CEDARS']\n",
    "import_genmax_profile_2024['Import_HQ_NY'] = if_external_2018['SCH - HQ - NY']"
   ]
  },
  {
   "cell_type": "code",
   "execution_count": 20,
   "metadata": {},
   "outputs": [],
   "source": [
    "for name in import_params_2024['Name']:\n",
    "    p_max = import_params_2024.loc[import_params_2024['Name']\n",
    "                                   == name, 'Capacity (MW)'].values[0]\n",
    "    p_min = import_params_2024.loc[import_params_2024['Name']\n",
    "                                   == name, 'min_gen'].values[0]\n",
    "    import_genmax_profile_2024[name] = import_genmax_profile_2024[name].clip(\n",
    "        p_min, p_max)"
   ]
  },
  {
   "cell_type": "code",
   "execution_count": 21,
   "metadata": {},
   "outputs": [],
   "source": [
    "# 2024 NYCA: 16 import generators\n",
    "import_genmax_profile_2024 = import_genmax_profile_2024.copy()"
   ]
  },
  {
   "cell_type": "markdown",
   "metadata": {},
   "source": [
    "### D. Other renewables"
   ]
  },
  {
   "cell_type": "code",
   "execution_count": 22,
   "metadata": {},
   "outputs": [],
   "source": [
    "# 2024 NYCA: 18 other renewable generators\n",
    "# Assume that 2024 other renewable generators have the same capacity as 2018\n",
    "others_genmax_profile_2024 = pd.read_excel(os.path.join(thermal_data_dir, '2018_profiles.xlsx'),\n",
    "                                           sheet_name='Others_GenMax')\n",
    "others_genmax_profile_2024 = others_genmax_profile_2024.set_index('TimeStamp')"
   ]
  },
  {
   "cell_type": "markdown",
   "metadata": {},
   "source": [
    "### E. Combine genmax profiles"
   ]
  },
  {
   "cell_type": "code",
   "execution_count": 23,
   "metadata": {},
   "outputs": [],
   "source": [
    "start_date = datetime(2018, 1, 1, 0, 0, 0)\n",
    "end_date = datetime(2018, 12, 31, 23, 0, 0)\n",
    "timestamp_list = pd.date_range(start_date, end_date, freq='1H')"
   ]
  },
  {
   "cell_type": "code",
   "execution_count": 24,
   "metadata": {},
   "outputs": [],
   "source": [
    "thermal_genmax_profile_2024 = pd.DataFrame(\n",
    "    np.tile(thermal_prop_2024['PMAX'].values, (8760, 1)),\n",
    "    index=timestamp_list,\n",
    "    columns=thermal_prop_2024['GEN_NAME'].values)"
   ]
  },
  {
   "cell_type": "code",
   "execution_count": 25,
   "metadata": {},
   "outputs": [],
   "source": [
    "nuclear_genmax_profile_2024 = pd.DataFrame(\n",
    "    np.tile(nuclear_prop_2024['PMAX'].values, (8760, 1)),\n",
    "    index=timestamp_list,\n",
    "    columns=nuclear_prop_2024['GEN_NAME'].values)"
   ]
  },
  {
   "cell_type": "code",
   "execution_count": 26,
   "metadata": {},
   "outputs": [],
   "source": [
    "hydro_genmax_profile_2024 = pd.DataFrame(\n",
    "    np.tile(hydro_prop_2024['PMAX'].values, (8760, 1)),\n",
    "    index=timestamp_list,\n",
    "    columns=hydro_prop_2024['GEN_NAME'].values)"
   ]
  },
  {
   "cell_type": "code",
   "execution_count": 27,
   "metadata": {},
   "outputs": [],
   "source": [
    "genmax_profile_2024 = pd.concat([thermal_genmax_profile_2024,\n",
    "                                 nuclear_genmax_profile_2024,\n",
    "                                 hydro_genmax_profile_2024,\n",
    "                                 import_genmax_profile_2024,\n",
    "                                 wind_genmax_profile_2024,\n",
    "                                 upv_genmax_profile_2024,\n",
    "                                 others_genmax_profile_2024,\n",
    "                                 ], axis=1)"
   ]
  },
  {
   "cell_type": "markdown",
   "metadata": {},
   "source": [
    "## 2. gen min profile"
   ]
  },
  {
   "cell_type": "code",
   "execution_count": 28,
   "metadata": {},
   "outputs": [],
   "source": [
    "thermal_genmin_profile_2024 = pd.DataFrame(\n",
    "    np.tile(thermal_prop_2024['PMIN'].values, (8760, 1)),\n",
    "    index=timestamp_list,\n",
    "    columns=thermal_prop_2024['GEN_NAME'].values)"
   ]
  },
  {
   "cell_type": "code",
   "execution_count": 29,
   "metadata": {},
   "outputs": [],
   "source": [
    "nuclear_genmin_profile_2024 = pd.DataFrame(\n",
    "    np.tile(nuclear_prop_2024['PMIN'].values, (8760, 1)),\n",
    "    index=timestamp_list,\n",
    "    columns=nuclear_prop_2024['GEN_NAME'].values)"
   ]
  },
  {
   "cell_type": "code",
   "execution_count": 30,
   "metadata": {},
   "outputs": [],
   "source": [
    "hydro_genmin_profile_2024 = pd.DataFrame(\n",
    "    np.tile(hydro_prop_2024['PMIN'].values, (8760, 1)),\n",
    "    index=timestamp_list,\n",
    "    columns=hydro_prop_2024['GEN_NAME'].values)"
   ]
  },
  {
   "cell_type": "code",
   "execution_count": 31,
   "metadata": {},
   "outputs": [],
   "source": [
    "import_genmin_profile_2024 = import_genmax_profile_2024.copy()\n",
    "\n",
    "for name in import_params_2024['Name']:\n",
    "    import_genmin_profile_2024[name] = np.where(import_genmin_profile_2024[name] < 0,\n",
    "                                                import_genmin_profile_2024[name],\n",
    "                                                0)"
   ]
  },
  {
   "cell_type": "code",
   "execution_count": 32,
   "metadata": {},
   "outputs": [],
   "source": [
    "wind_genmin_profile_2024 = pd.DataFrame(\n",
    "    np.tile(wind_prop_2024['PMIN'].values, (8760, 1)),\n",
    "    index=timestamp_list,\n",
    "    columns=wind_prop_2024['GEN_NAME'].values)"
   ]
  },
  {
   "cell_type": "code",
   "execution_count": 33,
   "metadata": {},
   "outputs": [],
   "source": [
    "upv_genmin_profile_2024 = pd.DataFrame(\n",
    "    np.tile(upv_prop_2024['PMIN'].values, (8760, 1)),\n",
    "    index=timestamp_list,\n",
    "    columns=upv_prop_2024['GEN_NAME'].values)"
   ]
  },
  {
   "cell_type": "code",
   "execution_count": 34,
   "metadata": {},
   "outputs": [],
   "source": [
    "others_genmin_profile_2024 = pd.DataFrame(\n",
    "    np.tile(others_prop_2024['PMIN'].values, (8760, 1)),\n",
    "    index=timestamp_list,\n",
    "    columns=others_prop_2024['GEN_NAME'].values)"
   ]
  },
  {
   "cell_type": "code",
   "execution_count": 35,
   "metadata": {},
   "outputs": [],
   "source": [
    "genmin_profile_2024 = pd.concat([thermal_genmin_profile_2024,\n",
    "                                 nuclear_genmin_profile_2024,\n",
    "                                 hydro_genmin_profile_2024,\n",
    "                                 import_genmin_profile_2024,\n",
    "                                 wind_genmin_profile_2024,\n",
    "                                 upv_genmin_profile_2024,\n",
    "                                 others_genmin_profile_2024,\n",
    "                                 ], axis=1)"
   ]
  },
  {
   "cell_type": "markdown",
   "metadata": {},
   "source": [
    "## 3. gen cost profile"
   ]
  },
  {
   "cell_type": "markdown",
   "metadata": {},
   "source": [
    "### A. Thermal"
   ]
  },
  {
   "cell_type": "code",
   "execution_count": 36,
   "metadata": {},
   "outputs": [],
   "source": [
    "# Read weekly fuel price profiles in 2018\n",
    "fuel_price_profile_2018 = pd.read_csv(os.path.join(nyiso_data_dir, 'fuelPriceWeekly_2018.csv'),\n",
    "                                      parse_dates=['TimeStamp'])\n",
    "fuel_price_profile_2018 = fuel_price_profile_2018.set_index('TimeStamp')"
   ]
  },
  {
   "cell_type": "code",
   "execution_count": 37,
   "metadata": {},
   "outputs": [
    {
     "data": {
      "image/png": "[encoded data removed]",
      "text/plain": [
       "<Figure size 640x480 with 1 Axes>"
      ]
     },
     "metadata": {},
     "output_type": "display_data"
    }
   ],
   "source": [
    "# Interpolate fuel price to hourly resolution\n",
    "fuel_price_profile_2018 = fuel_price_profile_2018.reindex(\n",
    "    timestamp_list, method='ffill')\n",
    "\n",
    "fuel_price_profile_2018.plot()\n",
    "plt.show()"
   ]
  },
  {
   "cell_type": "code",
   "execution_count": 38,
   "metadata": {},
   "outputs": [],
   "source": [
    "# Assume that 2024 thermal generators have the same fuel price as 2018\n",
    "fuel_price_profile_2024 = fuel_price_profile_2018.copy()"
   ]
  },
  {
   "cell_type": "code",
   "execution_count": null,
   "metadata": {},
   "outputs": [
    {
     "data": {
      "text/html": [
       "<div>\n",
       "<style scoped>\n",
       "    .dataframe tbody tr th:only-of-type {\n",
       "        vertical-align: middle;\n",
       "    }\n",
       "\n",
       "    .dataframe tbody tr th {\n",
       "        vertical-align: top;\n",
       "    }\n",
       "\n",
       "    .dataframe thead th {\n",
       "        text-align: right;\n",
       "    }\n",
       "</style>\n",
       "<table border=\"1\" class=\"dataframe\">\n",
       "  <thead>\n",
       "    <tr style=\"text-align: right;\">\n",
       "      <th></th>\n",
       "      <th>NYISO_Name</th>\n",
       "      <th>eco_min_heat_input</th>\n",
       "    </tr>\n",
       "  </thead>\n",
       "  <tbody>\n",
       "    <tr>\n",
       "      <th>0</th>\n",
       "      <td>Danskammer 1</td>\n",
       "      <td>383.569563</td>\n",
       "    </tr>\n",
       "    <tr>\n",
       "      <th>1</th>\n",
       "      <td>Danskammer 2</td>\n",
       "      <td>242.024971</td>\n",
       "    </tr>\n",
       "    <tr>\n",
       "      <th>2</th>\n",
       "      <td>Danskammer 3</td>\n",
       "      <td>855.688525</td>\n",
       "    </tr>\n",
       "    <tr>\n",
       "      <th>3</th>\n",
       "      <td>Danskammer 4</td>\n",
       "      <td>618.678968</td>\n",
       "    </tr>\n",
       "    <tr>\n",
       "      <th>4</th>\n",
       "      <td>Arthur Kill ST 2</td>\n",
       "      <td>1056.039364</td>\n",
       "    </tr>\n",
       "    <tr>\n",
       "      <th>...</th>\n",
       "      <td>...</td>\n",
       "      <td>...</td>\n",
       "    </tr>\n",
       "    <tr>\n",
       "      <th>213</th>\n",
       "      <td>Bayonne EC  CTG8</td>\n",
       "      <td>283.527187</td>\n",
       "    </tr>\n",
       "    <tr>\n",
       "      <th>214</th>\n",
       "      <td>Bayonne EC  CTG9</td>\n",
       "      <td>298.457123</td>\n",
       "    </tr>\n",
       "    <tr>\n",
       "      <th>215</th>\n",
       "      <td>Cricket Valley CC1</td>\n",
       "      <td>1351.883034</td>\n",
       "    </tr>\n",
       "    <tr>\n",
       "      <th>216</th>\n",
       "      <td>Cricket Valley CC2</td>\n",
       "      <td>1340.540167</td>\n",
       "    </tr>\n",
       "    <tr>\n",
       "      <th>217</th>\n",
       "      <td>Cricket Valley CC3</td>\n",
       "      <td>1351.567005</td>\n",
       "    </tr>\n",
       "  </tbody>\n",
       "</table>\n",
       "<p>218 rows × 2 columns</p>\n",
       "</div>"
      ],
      "text/plain": [
       "             NYISO_Name  eco_min_heat_input\n",
       "0          Danskammer 1          383.569563\n",
       "1          Danskammer 2          242.024971\n",
       "2          Danskammer 3          855.688525\n",
       "3          Danskammer 4          618.678968\n",
       "4      Arthur Kill ST 2         1056.039364\n",
       "..                  ...                 ...\n",
       "213    Bayonne EC  CTG8          283.527187\n",
       "214    Bayonne EC  CTG9          298.457123\n",
       "215  Cricket Valley CC1         1351.883034\n",
       "216  Cricket Valley CC2         1340.540167\n",
       "217  Cricket Valley CC3         1351.567005\n",
       "\n",
       "[218 rows x 2 columns]"
      ]
     },
     "execution_count": 39,
     "metadata": {},
     "output_type": "execute_result"
    }
   ],
   "source": [
    "# Calculate startup fuel requirements\n",
    "thermal_params_2024['eco_min_heat_input'] = thermal_params_2024['heat_0'] + \\\n",
    "    thermal_params_2024['heat_1'] * thermal_params_2024['eco_min']\n",
    "thermal_params_2024[['NYISO_Name', 'eco_min_heat_input']]"
   ]
  },
  {
   "cell_type": "code",
   "execution_count": 40,
   "metadata": {},
   "outputs": [],
   "source": [
    "# 2024\n",
    "thermal_cost_0_2024 = np.zeros((len(timestamp_list), len(thermal_params_2024)))\n",
    "thermal_cost_1_2024 = np.zeros((len(timestamp_list), len(thermal_params_2024)))\n",
    "thermal_cost_startup_2024 = np.zeros(\n",
    "    (len(timestamp_list), len(thermal_params_2024)))\n",
    "\n",
    "for i, row in thermal_params_2024.iterrows():\n",
    "    zone = row['Zone']\n",
    "    heat_0 = row['heat_0']\n",
    "    heat_1 = row['heat_1']\n",
    "\n",
    "    if row['Zone'] in ['A', 'B', 'C', 'D', 'E']:\n",
    "        if row['Fuel_Type_Primary'] == 'NG':\n",
    "            fuel_price = fuel_price_profile_2024['NG_A2E']\n",
    "        elif row['Fuel_Type_Primary'] in ['FO2', 'KER']:\n",
    "            fuel_price = fuel_price_profile_2024['FO2_UPNY']\n",
    "        elif row['Fuel_Type_Primary'] == 'FO6':\n",
    "            fuel_price = fuel_price_profile_2024['FO6_UPNY']\n",
    "        elif row['Fuel_Type_Primary'] == 'BIT':\n",
    "            fuel_price = fuel_price_profile_2024['coal_NY']\n",
    "        else:\n",
    "            raise ValueError('Fuel type not found.')\n",
    "\n",
    "    elif row['Zone'] in ['F', 'G', 'H', 'I', 'J', 'K']:\n",
    "        if row['Fuel_Type_Primary'] == 'NG':\n",
    "            if row['Zone'] == 'J':\n",
    "                fuel_price = fuel_price_profile_2024['NG_J']\n",
    "            elif row['Zone'] == 'K':\n",
    "                fuel_price = fuel_price_profile_2024['NG_K']\n",
    "            else:\n",
    "                fuel_price = fuel_price_profile_2024['NG_F2I']\n",
    "        elif row['Fuel_Type_Primary'] in ['FO2', 'KER']:\n",
    "            fuel_price = fuel_price_profile_2024['FO2_DSNY']\n",
    "        elif row['Fuel_Type_Primary'] == 'FO6':\n",
    "            fuel_price = fuel_price_profile_2024['FO6_DSNY']\n",
    "        elif row['Fuel_Type_Primary'] == 'BIT':\n",
    "            fuel_price = fuel_price_profile_2024['coal_NY']\n",
    "        else:\n",
    "            raise ValueError('Fuel type not found.')\n",
    "    else:\n",
    "        raise ValueError('Zone not found.')\n",
    "\n",
    "    thermal_cost_0_2024[:, i] = row['heat_0'] * fuel_price\n",
    "    thermal_cost_1_2024[:, i] = row['heat_1'] * fuel_price\n",
    "    thermal_cost_startup_2024[:, i] = row['eco_min_heat_input'] * fuel_price\n",
    "\n",
    "thermal_cost_0_2024 = pd.DataFrame(thermal_cost_0_2024, index=timestamp_list,\n",
    "                                   columns=thermal_prop_2024['GEN_NAME'])\n",
    "thermal_cost_1_2024 = pd.DataFrame(thermal_cost_1_2024, index=timestamp_list,\n",
    "                                   columns=thermal_prop_2024['GEN_NAME'])\n",
    "thermal_cost_startup_2024 = pd.DataFrame(thermal_cost_startup_2024, index=timestamp_list,\n",
    "                                         columns=thermal_prop_2024['GEN_NAME'])"
   ]
  },
  {
   "cell_type": "markdown",
   "metadata": {},
   "source": [
    "### B. Nuclear"
   ]
  },
  {
   "cell_type": "code",
   "execution_count": 41,
   "metadata": {},
   "outputs": [],
   "source": [
    "# 2024\n",
    "nuclear_cost_0_2024 = pd.DataFrame(np.zeros((len(timestamp_list), len(nuclear_params_2024))),\n",
    "                                   index=timestamp_list,\n",
    "                                   columns=nuclear_params_2024['Name'])\n",
    "\n",
    "nuclear_cost_1_2024 = pd.DataFrame(np.ones((len(timestamp_list), len(nuclear_params_2024)))*2,\n",
    "                                   index=timestamp_list,\n",
    "                                   columns=nuclear_params_2024['Name'])\n",
    "\n",
    "nuclear_cost_startup_2024 = pd.DataFrame(np.tile(nuclear_params_2024['Capacity (MW)']*100, (8760, 1)),\n",
    "                                         index=timestamp_list,\n",
    "                                         columns=nuclear_params_2024['Name'])"
   ]
  },
  {
   "cell_type": "markdown",
   "metadata": {},
   "source": [
    "### C. Hydro"
   ]
  },
  {
   "cell_type": "code",
   "execution_count": 42,
   "metadata": {},
   "outputs": [],
   "source": [
    "# 2024\n",
    "hydro_cost_0_2024 = pd.DataFrame(np.zeros((len(timestamp_list), len(hydro_params_2024))),\n",
    "                                 index=timestamp_list,\n",
    "                                 columns=hydro_params_2024['Name'])\n",
    "\n",
    "hydro_cost_1_2024 = pd.DataFrame(np.ones((len(timestamp_list), len(hydro_params_2024)))*1,\n",
    "                                 index=timestamp_list,\n",
    "                                 columns=hydro_params_2024['Name'])\n",
    "\n",
    "hydro_cost_startup_2024 = pd.DataFrame(np.zeros((len(timestamp_list), len(hydro_params_2024))),\n",
    "                                       index=timestamp_list,\n",
    "                                       columns=hydro_params_2024['Name'])"
   ]
  },
  {
   "cell_type": "markdown",
   "metadata": {},
   "source": [
    "### D. Import"
   ]
  },
  {
   "cell_type": "code",
   "execution_count": 43,
   "metadata": {},
   "outputs": [],
   "source": [
    "# Read NYISO historical interface flow data\n",
    "zonal_price_2018 = pd.read_csv(os.path.join(nyiso_data_dir, 'priceHourly_2018.csv'),\n",
    "                               parse_dates=['TimeStamp'])\n",
    "zonal_price_2018 = zonal_price_2018.pivot(\n",
    "    index='TimeStamp', columns='ZoneName', values='LBMP')\n",
    "external_price_2018 = zonal_price_2018[['NPX', 'O H', 'PJM', 'H Q']]\n",
    "external_price_2018 = external_price_2018[external_price_2018.index.year == 2018]"
   ]
  },
  {
   "cell_type": "code",
   "execution_count": 44,
   "metadata": {},
   "outputs": [],
   "source": [
    "# 2018 NYCA: 15 import generators\n",
    "# Assume that 2024 import generators have the same external price as 2018\n",
    "import_cost_1_2024 = pd.DataFrame(index=external_price_2018.index)\n",
    "\n",
    "# NE\n",
    "import_cost_1_2024['Import_NE_CSC'] = external_price_2018['NPX']\n",
    "import_cost_1_2024['Import_NE_NNC'] = external_price_2018['NPX']\n",
    "import_cost_1_2024['Import_NE_ZF'] = external_price_2018['NPX']\n",
    "import_cost_1_2024['Import_NE_ZG'] = external_price_2018['NPX']\n",
    "\n",
    "# IESO\n",
    "import_cost_1_2024['Import_IESO_ZD'] = external_price_2018['O H']\n",
    "import_cost_1_2024['Import_IESO_ZA1'] = external_price_2018['O H']\n",
    "import_cost_1_2024['Import_IESO_ZA2'] = external_price_2018['O H']\n",
    "\n",
    "# PJM\n",
    "import_cost_1_2024['Import_PJM_ZA'] = external_price_2018['PJM']\n",
    "import_cost_1_2024['Import_PJM_ZC'] = external_price_2018['PJM']\n",
    "import_cost_1_2024['Import_PJM_ZG'] = external_price_2018['PJM']\n",
    "import_cost_1_2024['Import_PJM_NEPTUNE'] = external_price_2018['PJM']\n",
    "import_cost_1_2024['Import_PJM_HTP'] = external_price_2018['PJM']\n",
    "import_cost_1_2024['Import_PJM_VFT'] = external_price_2018['PJM']\n",
    "\n",
    "# HQ\n",
    "import_cost_1_2024['Import_HQ_CEDARS'] = external_price_2018['H Q']\n",
    "import_cost_1_2024['Import_HQ_NY'] = external_price_2018['H Q']"
   ]
  },
  {
   "cell_type": "code",
   "execution_count": 45,
   "metadata": {},
   "outputs": [],
   "source": [
    "# 2018\n",
    "import_cost_0_2024 = pd.DataFrame(np.zeros((len(timestamp_list), len(import_params_2024))),\n",
    "                                  index=timestamp_list,\n",
    "                                  columns=import_params_2024['Name'])\n",
    "\n",
    "import_cost_startup_2024 = pd.DataFrame(np.zeros((len(timestamp_list), len(import_params_2024))),\n",
    "                                        index=timestamp_list,\n",
    "                                        columns=import_params_2024['Name'])"
   ]
  },
  {
   "cell_type": "markdown",
   "metadata": {},
   "source": [
    "### E. Others"
   ]
  },
  {
   "cell_type": "code",
   "execution_count": 46,
   "metadata": {},
   "outputs": [],
   "source": [
    "# 2024\n",
    "others_cost_0_2024 = pd.DataFrame(np.zeros((len(timestamp_list), len(others_params_2024))),\n",
    "                                  index=timestamp_list,\n",
    "                                  columns=others_params_2024['Name'])\n",
    "\n",
    "others_cost_1_2024 = pd.DataFrame(np.zeros((len(timestamp_list), len(others_params_2024))),\n",
    "                                  index=timestamp_list,\n",
    "                                  columns=others_params_2024['Name'])\n",
    "\n",
    "others_cost_startup_2024 = pd.DataFrame(np.zeros((len(timestamp_list), len(others_params_2024))),\n",
    "                                        index=timestamp_list,\n",
    "                                        columns=others_params_2024['Name'])"
   ]
  },
  {
   "cell_type": "markdown",
   "metadata": {},
   "source": [
    "### F. Wind"
   ]
  },
  {
   "cell_type": "code",
   "execution_count": 47,
   "metadata": {},
   "outputs": [],
   "source": [
    "# 2024\n",
    "wind_cost_0_2024 = pd.DataFrame(np.zeros((len(timestamp_list), len(wind_params_2024))),\n",
    "                                index=timestamp_list,\n",
    "                                columns=wind_params_2024['Name'])\n",
    "\n",
    "wind_cost_1_2024 = pd.DataFrame(np.zeros((len(timestamp_list), len(wind_params_2024))),\n",
    "                                index=timestamp_list,\n",
    "                                columns=wind_params_2024['Name'])\n",
    "\n",
    "wind_cost_startup_2024 = pd.DataFrame(np.zeros((len(timestamp_list), len(wind_params_2024))),\n",
    "                                      index=timestamp_list,\n",
    "                                      columns=wind_params_2024['Name'])"
   ]
  },
  {
   "cell_type": "markdown",
   "metadata": {},
   "source": [
    "### G. Utility PV"
   ]
  },
  {
   "cell_type": "code",
   "execution_count": 48,
   "metadata": {},
   "outputs": [],
   "source": [
    "# 2024\n",
    "upv_cost_0_2024 = pd.DataFrame(np.zeros((len(timestamp_list), len(upv_params_2024))),\n",
    "                               index=timestamp_list,\n",
    "                               columns=upv_params_2024['Name'])\n",
    "\n",
    "upv_cost_1_2024 = pd.DataFrame(np.zeros((len(timestamp_list), len(upv_params_2024))),\n",
    "                               index=timestamp_list,\n",
    "                               columns=upv_params_2024['Name'])\n",
    "\n",
    "upv_cost_startup_2024 = pd.DataFrame(np.zeros((len(timestamp_list), len(upv_params_2024))),\n",
    "                                     index=timestamp_list,\n",
    "                                     columns=upv_params_2024['Name'])"
   ]
  },
  {
   "cell_type": "markdown",
   "metadata": {},
   "source": [
    "### H. Combine gencost profiles"
   ]
  },
  {
   "cell_type": "code",
   "execution_count": 49,
   "metadata": {},
   "outputs": [],
   "source": [
    "# 2024\n",
    "gen_cost_0_profile_2024 = pd.concat([thermal_cost_0_2024,\n",
    "                                     nuclear_cost_0_2024,\n",
    "                                     hydro_cost_0_2024,\n",
    "                                     import_cost_0_2024,\n",
    "                                     wind_cost_0_2024,\n",
    "                                     upv_cost_0_2024,\n",
    "                                     others_cost_0_2024,\n",
    "                                     ], axis=1)\n",
    "\n",
    "gen_cost_1_profile_2024 = pd.concat([thermal_cost_1_2024,\n",
    "                                     nuclear_cost_1_2024,\n",
    "                                     hydro_cost_1_2024,\n",
    "                                     import_cost_1_2024,\n",
    "                                     wind_cost_1_2024,\n",
    "                                     upv_cost_1_2024,\n",
    "                                     others_cost_1_2024,\n",
    "                                     ], axis=1)\n",
    "\n",
    "gen_cost_startup_profile_2024 = pd.concat([thermal_cost_startup_2024,\n",
    "                                           nuclear_cost_startup_2024,\n",
    "                                           hydro_cost_startup_2024,\n",
    "                                           import_cost_startup_2024,\n",
    "                                           wind_cost_startup_2024,\n",
    "                                           upv_cost_startup_2024,\n",
    "                                           others_cost_startup_2024,\n",
    "                                           ], axis=1)"
   ]
  },
  {
   "cell_type": "code",
   "execution_count": 50,
   "metadata": {},
   "outputs": [],
   "source": [
    "# Gen cost property table\n",
    "gen_cost_prop_2024 = pd.DataFrame(columns=['GEN_NAME', 'MODEL', 'STARTUP',\n",
    "                                           'SHUTDOWN', 'NCOST', 'COST_1', 'COST_0'])\n",
    "gen_cost_prop_2024['GEN_NAME'] = gen_cost_0_profile_2024.columns\n",
    "gen_cost_prop_2024['MODEL'] = 2  # Linear cost model\n",
    "gen_cost_prop_2024['STARTUP'] = gen_cost_startup_profile_2024.mean(\n",
    "    axis=0).values\n",
    "gen_cost_prop_2024['SHUTDOWN'] = 0\n",
    "gen_cost_prop_2024['NCOST'] = 2\n",
    "gen_cost_prop_2024['COST_1'] = gen_cost_1_profile_2024.mean(axis=0).values\n",
    "gen_cost_prop_2024['COST_0'] = gen_cost_0_profile_2024.mean(axis=0).values"
   ]
  },
  {
   "cell_type": "code",
   "execution_count": 51,
   "metadata": {},
   "outputs": [
    {
     "data": {
      "text/html": [
       "<div>\n",
       "<style scoped>\n",
       "    .dataframe tbody tr th:only-of-type {\n",
       "        vertical-align: middle;\n",
       "    }\n",
       "\n",
       "    .dataframe tbody tr th {\n",
       "        vertical-align: top;\n",
       "    }\n",
       "\n",
       "    .dataframe thead th {\n",
       "        text-align: right;\n",
       "    }\n",
       "</style>\n",
       "<table border=\"1\" class=\"dataframe\">\n",
       "  <thead>\n",
       "    <tr style=\"text-align: right;\">\n",
       "      <th></th>\n",
       "      <th>GEN_NAME</th>\n",
       "      <th>GEN_FUEL</th>\n",
       "    </tr>\n",
       "  </thead>\n",
       "  <tbody>\n",
       "    <tr>\n",
       "      <th>0</th>\n",
       "      <td>Danskammer 1(2480,1)</td>\n",
       "      <td>ST_NG</td>\n",
       "    </tr>\n",
       "    <tr>\n",
       "      <th>1</th>\n",
       "      <td>Danskammer 2(2480,2)</td>\n",
       "      <td>ST_NG</td>\n",
       "    </tr>\n",
       "    <tr>\n",
       "      <th>2</th>\n",
       "      <td>Danskammer 3(2480,3)</td>\n",
       "      <td>ST_NG</td>\n",
       "    </tr>\n",
       "    <tr>\n",
       "      <th>3</th>\n",
       "      <td>Danskammer 4(2480,4)</td>\n",
       "      <td>ST_NG</td>\n",
       "    </tr>\n",
       "    <tr>\n",
       "      <th>4</th>\n",
       "      <td>Arthur Kill ST 2(2490,20)</td>\n",
       "      <td>ST_NG</td>\n",
       "    </tr>\n",
       "    <tr>\n",
       "      <th>...</th>\n",
       "      <td>...</td>\n",
       "      <td>...</td>\n",
       "    </tr>\n",
       "    <tr>\n",
       "      <th>13</th>\n",
       "      <td>Other_F_4</td>\n",
       "      <td>Other_Other</td>\n",
       "    </tr>\n",
       "    <tr>\n",
       "      <th>14</th>\n",
       "      <td>Other_G_1</td>\n",
       "      <td>Other_Other</td>\n",
       "    </tr>\n",
       "    <tr>\n",
       "      <th>15</th>\n",
       "      <td>Other_H_1</td>\n",
       "      <td>Other_Other</td>\n",
       "    </tr>\n",
       "    <tr>\n",
       "      <th>16</th>\n",
       "      <td>Other_K_1</td>\n",
       "      <td>Other_Other</td>\n",
       "    </tr>\n",
       "    <tr>\n",
       "      <th>17</th>\n",
       "      <td>Other_K_2</td>\n",
       "      <td>Other_Other</td>\n",
       "    </tr>\n",
       "  </tbody>\n",
       "</table>\n",
       "<p>308 rows × 2 columns</p>\n",
       "</div>"
      ],
      "text/plain": [
       "                     GEN_NAME     GEN_FUEL\n",
       "0        Danskammer 1(2480,1)        ST_NG\n",
       "1        Danskammer 2(2480,2)        ST_NG\n",
       "2        Danskammer 3(2480,3)        ST_NG\n",
       "3        Danskammer 4(2480,4)        ST_NG\n",
       "4   Arthur Kill ST 2(2490,20)        ST_NG\n",
       "..                        ...          ...\n",
       "13                  Other_F_4  Other_Other\n",
       "14                  Other_G_1  Other_Other\n",
       "15                  Other_H_1  Other_Other\n",
       "16                  Other_K_1  Other_Other\n",
       "17                  Other_K_2  Other_Other\n",
       "\n",
       "[308 rows x 2 columns]"
      ]
     },
     "execution_count": 51,
     "metadata": {},
     "output_type": "execute_result"
    }
   ],
   "source": [
    "# Gen fuel property table\n",
    "genfuel_prop_2024 = gen_prop_2024[[\n",
    "    'GEN_NAME', 'UNIT_TYPE', 'FUEL_TYPE']].copy()\n",
    "genfuel_prop_2024['GEN_FUEL'] = genfuel_prop_2024.apply(\n",
    "    lambda x: x['UNIT_TYPE'] + '_' + x['FUEL_TYPE'], axis=1)\n",
    "genfuel_prop_2024 = genfuel_prop_2024.drop(columns=['UNIT_TYPE', 'FUEL_TYPE'])\n",
    "genfuel_prop_2024"
   ]
  },
  {
   "cell_type": "markdown",
   "metadata": {},
   "source": [
    "# Outputs"
   ]
  },
  {
   "cell_type": "code",
   "execution_count": 52,
   "metadata": {},
   "outputs": [],
   "source": [
    "# Make sure the columns are in the same order\n",
    "gen_order_2024 = gen_prop_2024['GEN_NAME']\n",
    "genmax_profile_2024 = genmax_profile_2024[gen_order_2024]\n",
    "genmin_profile_2024 = genmin_profile_2024[gen_order_2024]\n",
    "gen_cost_0_profile_2024 = gen_cost_0_profile_2024[gen_order_2024]\n",
    "gen_cost_1_profile_2024 = gen_cost_1_profile_2024[gen_order_2024]\n",
    "gen_cost_startup_profile_2024 = gen_cost_startup_profile_2024[gen_order_2024]\n",
    "\n",
    "genmax_profile_2024.index.name = 'TimeStamp'\n",
    "genmin_profile_2024.index.name = 'TimeStamp'\n",
    "gen_cost_0_profile_2024.index.name = 'TimeStamp'\n",
    "gen_cost_1_profile_2024.index.name = 'TimeStamp'\n",
    "gen_cost_startup_profile_2024.index.name = 'TimeStamp'"
   ]
  },
  {
   "cell_type": "code",
   "execution_count": 53,
   "metadata": {},
   "outputs": [],
   "source": [
    "# Write to CSV\n",
    "output_dir_2024 = os.path.join(grid_data_dir, '2024NewParams')\n",
    "os.makedirs(output_dir_2024, exist_ok=True)\n",
    "\n",
    "# Properties\n",
    "gen_prop_2024.to_csv(os.path.join(\n",
    "    output_dir_2024, 'gen_prop.csv'), index=False)\n",
    "genfuel_prop_2024.to_csv(os.path.join(\n",
    "    output_dir_2024, 'genfuel_prop.csv'), index=False)\n",
    "gen_cost_prop_2024.to_csv(os.path.join(\n",
    "    output_dir_2024, 'gencost_prop.csv'), index=False)\n",
    "thermal_params_2024.to_csv(os.path.join(\n",
    "    output_dir_2024, 'thermal_params.csv'), index=False)\n",
    "\n",
    "# Profiles\n",
    "genmax_profile_2024.to_csv(os.path.join(\n",
    "    output_dir_2024, 'genmax_profile_2024.csv'))\n",
    "genmin_profile_2024.to_csv(os.path.join(\n",
    "    output_dir_2024, 'genmin_profile_2024.csv'))\n",
    "gen_cost_0_profile_2024.to_csv(os.path.join(\n",
    "    output_dir_2024, 'gencost0_profile_2024.csv'))\n",
    "gen_cost_1_profile_2024.to_csv(os.path.join(\n",
    "    output_dir_2024, 'gencost1_profile_2024.csv'))\n",
    "gen_cost_startup_profile_2024.to_csv(os.path.join(\n",
    "    output_dir_2024, 'gencost_startup_profile_2024.csv'))"
   ]
  }
 ],
 "metadata": {
  "kernelspec": {
   "display_name": "NYgrid-python",
   "language": "python",
   "name": "python3"
  },
  "language_info": {
   "codemirror_mode": {
    "name": "ipython",
    "version": 3
   },
   "file_extension": ".py",
   "mimetype": "text/x-python",
   "name": "python",
   "nbconvert_exporter": "python",
   "pygments_lexer": "ipython3",
   "version": "3.8.18"
  }
 },
 "nbformat": 4,
 "nbformat_minor": 2
}
