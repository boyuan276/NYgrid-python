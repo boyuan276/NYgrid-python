{
 "cells": [
  {
   "cell_type": "markdown",
   "metadata": {},
   "source": [
    "## 2030StateScenario_AvgRenew: Generator parameters and profiles\n",
    "\n",
    "Renewable generation profiles are zonal average profiles instead of site-wise profiles.\n",
    "\n",
    "This notebook writes (9):\n",
    "\n",
    "* gen_prop.csv\n",
    "* genfuel_prop.csv\n",
    "* gencost_prop.csv\n",
    "* thermal_params.csv\n",
    "* genmax_profile_{year}.csv\n",
    "* genmin_profile_{year}.csv\n",
    "* gencost0_profile_{year}.csv\n",
    "* gencost1_profile_{year}.csv\n",
    "* gencost_startup_profile_{year}.csv\n",
    "\n",
    "The following files need to be created separately (7):\n",
    "\n",
    "* bus_prop.csv\n",
    "* branch_prop.csv\n",
    "* dcline_prop.csv\n",
    "* esr_prop.csv\n",
    "* if_lims_prop.csv\n",
    "* if_map_prop.csv\n",
    "* load_profile_{year}.csv"
   ]
  },
  {
   "cell_type": "code",
   "execution_count": 131,
   "metadata": {},
   "outputs": [],
   "source": [
    "import os\n",
    "import numpy as np\n",
    "import pandas as pd\n",
    "import matplotlib.pyplot as plt\n",
    "import seaborn as sns\n",
    "from datetime import datetime, timedelta\n",
    "\n",
    "import nygrid.gen_params as gp"
   ]
  },
  {
   "cell_type": "code",
   "execution_count": 132,
   "metadata": {},
   "outputs": [
    {
     "name": "stdout",
     "output_type": "stream",
     "text": [
      "Grid data directory: /mnt/Bo_HDD/NYgrid-python/data/grid\n",
      "Thermal data directory: /mnt/Bo_HDD/NYgrid-python/data/thermal\n",
      "Solar data directory: /mnt/Bo_HDD/NYgrid-python/data/renewable/solar\n",
      "Onshore wind data directory: /mnt/Bo_HDD/NYgrid-python/data/renewable/onshore_wind\n",
      "Offshore wind data directory: /mnt/Bo_HDD/NYgrid-python/data/renewable/offshore_wind\n",
      "Load data directory: /mnt/Bo_HDD/NYgrid-python/data/load\n",
      "NYISO data directory: /mnt/Bo_HDD/NYgrid-python/data/from_nyiso\n"
     ]
    }
   ],
   "source": [
    "# Set up directories\n",
    "cwd = os.getcwd()\n",
    "if 'examples' in cwd:\n",
    "    parent_dir = os.path.dirname(cwd)\n",
    "    data_dir = os.path.join(parent_dir, 'data')\n",
    "else:\n",
    "    data_dir = os.path.join(cwd, 'data')\n",
    "\n",
    "grid_data_dir = os.path.join(data_dir, 'grid')\n",
    "if not os.path.exists(grid_data_dir):\n",
    "    raise FileNotFoundError('Grid data directory not found.')\n",
    "\n",
    "thermal_data_dir = os.path.join(data_dir, 'thermal')\n",
    "if not os.path.exists(thermal_data_dir):\n",
    "    raise FileNotFoundError('Thermal data directory not found.')\n",
    "\n",
    "print('Grid data directory: {}'.format(grid_data_dir))\n",
    "print('Thermal data directory: {}'.format(thermal_data_dir))\n",
    "\n",
    "solar_data_dir = os.path.join(data_dir, 'renewable', 'solar')\n",
    "print('Solar data directory: {}'.format(solar_data_dir))\n",
    "\n",
    "onshore_wind_data_dir = os.path.join(data_dir, 'renewable', 'onshore_wind')\n",
    "print('Onshore wind data directory: {}'.format(onshore_wind_data_dir))\n",
    "\n",
    "offshore_wind_data_dir = os.path.join(data_dir, 'renewable', 'offshore_wind')\n",
    "print('Offshore wind data directory: {}'.format(offshore_wind_data_dir))\n",
    "\n",
    "load_data_dir = os.path.join(data_dir, 'load')\n",
    "print('Load data directory: {}'.format(load_data_dir))\n",
    "\n",
    "nyiso_data_dir = os.path.join(data_dir, 'from_nyiso')\n",
    "print('NYISO data directory: {}'.format(nyiso_data_dir))"
   ]
  },
  {
   "cell_type": "markdown",
   "metadata": {},
   "source": [
    "# Read generator parameters"
   ]
  },
  {
   "cell_type": "code",
   "execution_count": 133,
   "metadata": {},
   "outputs": [],
   "source": [
    "# Read processed generator parameters\n",
    "thermal_params_df = pd.read_excel(os.path.join(\n",
    "    thermal_data_dir, 'gen_params_2018.xlsx'), index_col=0)\n",
    "thermal_params_df_2 = pd.read_excel(os.path.join(\n",
    "    thermal_data_dir, 'gen_params_2024.xlsx'), index_col=0)\n",
    "thermal_params_df = pd.concat([thermal_params_df, thermal_params_df_2], axis=0)"
   ]
  },
  {
   "cell_type": "code",
   "execution_count": 134,
   "metadata": {},
   "outputs": [],
   "source": [
    "# 2024 NYCA: 218 thermal generators\n",
    "gen_combiner_2024 = pd.read_excel(os.path.join(thermal_data_dir, '2024_nyca_thermal.xlsx'),\n",
    "                                  sheet_name='matched_with_id_filtered')\n",
    "gen_combiner_2024 = gen_combiner_2024.rename(columns={\n",
    "    '   Station        Unit': 'NYISO_Name'})\n",
    "\n",
    "# Map unit type GT, JE to CT\n",
    "gen_combiner_2024['Unit Type'] = gen_combiner_2024['Unit Type'].replace(\n",
    "    {'GT': 'CT', 'JE': 'CT'})\n",
    "gen_combiner_2024['Fuel Type Secondary'] = gen_combiner_2024['Fuel Type Secondary'].astype(\n",
    "    str).replace({'nan': ''})\n",
    "gen_combiner_2024 = gen_combiner_2024.set_index('ID')\n",
    "gen_combiner_2024 = gen_combiner_2024.sort_values(\n",
    "    by=['CAMD_Plant_ID', 'CAMD_Unit_ID'])\n",
    "\n",
    "thermal_params_2024 = thermal_params_df.loc[gen_combiner_2024.index]\n",
    "thermal_params_2024 = thermal_params_2024.join(\n",
    "    gen_combiner_2024[['Zone', 'gen_bus']])\n",
    "thermal_params_2024 = thermal_params_2024[[\n",
    "    'NYISO_Name', 'PTID', 'Unit_Type', 'Fuel_Type_Primary',\n",
    "    'Fuel_Type_Secondary', 'CAMD_Plant_ID', 'CAMD_Unit_ID',\n",
    "    'raise_rr_ratio', 'lower_rr_ratio',\n",
    "    'max_gen', 'eco_min', 'eco_min_ratio',\n",
    "    'heat_1', 'heat_0', 'gen_bus', 'Zone'\n",
    "]]\n",
    "\n",
    "# Calculate ramp rates\n",
    "thermal_params_2024['max_ramp_ratio'] = thermal_params_2024[[\n",
    "    'raise_rr_ratio', 'lower_rr_ratio']].max(axis=1)\n",
    "thermal_params_2024['max_ramp_hourly'] = thermal_params_2024['max_ramp_ratio'] * \\\n",
    "    thermal_params_2024['max_gen']\n",
    "\n",
    "# Sort by CAMD plant and unit ID\n",
    "thermal_params_2024 = thermal_params_2024.sort_values(\n",
    "    by=['CAMD_Plant_ID', 'CAMD_Unit_ID'])\n",
    "thermal_params_2024 = thermal_params_2024.reset_index()"
   ]
  },
  {
   "cell_type": "markdown",
   "metadata": {},
   "source": [
    "# Format generator properties"
   ]
  },
  {
   "cell_type": "markdown",
   "metadata": {},
   "source": [
    "## 1. Thermal generators (CC, CT, ST)"
   ]
  },
  {
   "cell_type": "code",
   "execution_count": 135,
   "metadata": {},
   "outputs": [],
   "source": [
    "# 11 gas turbines are retired due to Peaker rule\n",
    "retire_peaker_names = [\n",
    "    \"Brentwood\",\n",
    "    \"Gowanus 5\",\n",
    "    \"Gowanus 6\",\n",
    "    \"Harlem River 1\",\n",
    "    \"Harlem River 2\",\n",
    "    \"Hellgate 1\",\n",
    "    \"Hellgate 2\",\n",
    "    \"Kent\",\n",
    "    \"Pouch\",\n",
    "    \"Vernon Blvd 2\",\n",
    "    \"Vernon Blvd 3\",\n",
    "]\n",
    "\n",
    "age_before_1960_names = [\n",
    "    'Jamestown 5',\n",
    "    'East River 6',\n",
    "    'Danskammer 1',\n",
    "    'Greenidge 4 (BTM:NG)',\n",
    "    'Astoria 2',\n",
    "    'Danskammer 2',\n",
    "    'East River 7',\n",
    "    'Barrett ST 01',\n",
    "    'Astoria 3',\n",
    "    'Port Jefferson 3',\n",
    "    'Arthur Kill ST 2',\n",
    "    'Danskammer 3'\n",
    "]\n",
    "\n",
    "age_before_1970_names = [\n",
    "    'Astoria 5',\n",
    "    'Ravenswood ST 01',\n",
    "    'Ravenswood ST 02',\n",
    "    'Barrett ST 02',\n",
    "    'Ravenswood ST 03',\n",
    "    'Port Jefferson GT 01',\n",
    "    'Northport GT',\n",
    "    'Glenwood GT 01',\n",
    "    'Astoria GT 01',\n",
    "    'Northport 1',\n",
    "    'Danskammer 4',\n",
    "    'Northport 2',\n",
    "    'Jamestown 6',\n",
    "    '74 St.  GT 1',\n",
    "    '74 St.  GT 2',\n",
    "    '59 St.  GT 1',\n",
    "    'Arthur Kill ST 3'\n",
    "]\n",
    "\n",
    "# Combine all retired generators\n",
    "retire_names = (\n",
    "    retire_peaker_names \n",
    "    + age_before_1960_names \n",
    "    + age_before_1970_names\n",
    ")\n",
    "\n",
    "# Remove the retired generators\n",
    "thermal_params_2030 = thermal_params_2024[~thermal_params_2024['NYISO_Name'].isin(retire_names)]\n",
    "thermal_params_2030 = thermal_params_2030.reset_index(drop=True)"
   ]
  },
  {
   "cell_type": "code",
   "execution_count": 136,
   "metadata": {},
   "outputs": [],
   "source": [
    "# 2030 NYCA: 181 thermal generators\n",
    "thermal_prop_2030 = gp.format_gen_prop_thermal(thermal_params_2030)"
   ]
  },
  {
   "cell_type": "markdown",
   "metadata": {},
   "source": [
    "## 2. Nuclear"
   ]
  },
  {
   "cell_type": "code",
   "execution_count": 137,
   "metadata": {},
   "outputs": [],
   "source": [
    "# Read nuclear generator parameters\n",
    "nuclear_params_2024 = pd.read_excel(os.path.join(thermal_data_dir, '2024_nyca_nonthermal.xlsx'),\n",
    "                                    sheet_name='Nuclear')\n",
    "nuclear_params_2024['Unit Type'] = nuclear_params_2024['Unit Type'].replace(\n",
    "    {'NP': 'NU', 'NB': 'NU'})\n",
    "nuclear_params_2024['max_ramp_hourly'] = 0.2 * \\\n",
    "    nuclear_params_2024['Capacity (MW)']\n",
    "\n",
    "# 2030 NYCA: 4 nuclear generators\n",
    "# Assume the same parameters for 2030 as 2024\n",
    "nuclear_params_2030 = nuclear_params_2024.copy()\n",
    "nuclear_prop_2030 = gp.format_gen_prop_non_thermal(nuclear_params_2030)"
   ]
  },
  {
   "cell_type": "markdown",
   "metadata": {},
   "source": [
    "## 3. Hydro"
   ]
  },
  {
   "cell_type": "code",
   "execution_count": 138,
   "metadata": {},
   "outputs": [],
   "source": [
    "# Read hydro generator parameters\n",
    "hydro_params_2024 = pd.read_excel(os.path.join(thermal_data_dir, '2024_nyca_nonthermal.xlsx'),\n",
    "                                  sheet_name='Hydro')\n",
    "hydro_params_2024['max_ramp_hourly'] = hydro_params_2024['Capacity (MW)']\n",
    "\n",
    "# 2030 NYCA: 10 hydro generators\n",
    "# Assume the same parameters for 2030 as 2024\n",
    "hydro_params_2030 = hydro_params_2024.copy()\n",
    "hydro_prop_2030 = gp.format_gen_prop_non_thermal(hydro_params_2024)"
   ]
  },
  {
   "cell_type": "markdown",
   "metadata": {},
   "source": [
    "## 4. Import"
   ]
  },
  {
   "cell_type": "code",
   "execution_count": 139,
   "metadata": {},
   "outputs": [
    {
     "name": "stderr",
     "output_type": "stream",
     "text": [
      "/tmp/ipykernel_2000861/1901271979.py:18: FutureWarning: The frame.append method is deprecated and will be removed from pandas in a future version. Use pandas.concat instead.\n",
      "  import_params_2030 = import_params_2024.append(chpe_row, ignore_index=True)\n"
     ]
    }
   ],
   "source": [
    "# Read import generator parameters\n",
    "import_params_2024 = pd.read_excel(os.path.join(thermal_data_dir, '2024_nyca_nonthermal.xlsx'),\n",
    "                                   sheet_name='Import')\n",
    "# For 2030 and onwards, Add CHPE as a generator in NYC\n",
    "chpe_row = {\n",
    "    'Name': 'Import_HQ_CHPE',\n",
    "    'Zone': 'J',\n",
    "    'PTID': 'NaN',\n",
    "    'Capacity (MW)': 1250,\n",
    "    'Unit Type': 'Import',\n",
    "    'Fuel Type Primary': 'Import',\n",
    "    '2023 Net Energy (GWh)': 'NaN',\n",
    "    'Notes': 'NYGRID',\n",
    "    'min_gen': 0,\n",
    "    'gen_bus': 81\n",
    "}\n",
    "chpe_row = pd.Series(chpe_row)\n",
    "import_params_2030 = import_params_2024.append(chpe_row, ignore_index=True)\n",
    "\n",
    "import_params_2030['max_ramp_hourly'] = import_params_2030['Capacity (MW)']"
   ]
  },
  {
   "cell_type": "code",
   "execution_count": 140,
   "metadata": {},
   "outputs": [],
   "source": [
    "# 2030 NYCA: 16 import generators\n",
    "import_prop_2030 = gp.format_gen_prop_non_thermal(import_params_2030)"
   ]
  },
  {
   "cell_type": "markdown",
   "metadata": {},
   "source": [
    "## 5. Wind"
   ]
  },
  {
   "cell_type": "code",
   "execution_count": 141,
   "metadata": {},
   "outputs": [],
   "source": [
    "# Read county to zone allocation\n",
    "county_alloc = pd.read_csv(os.path.join(load_data_dir, 'county_2_bus.csv'))\n",
    "county_2_bus = dict(zip(county_alloc['NAME'], county_alloc['busIdx']))\n",
    "county_2_zone = dict(zip(county_alloc['NAME'], county_alloc['ZoneID']))"
   ]
  },
  {
   "cell_type": "code",
   "execution_count": 142,
   "metadata": {},
   "outputs": [],
   "source": [
    "# Read wind generator parameters\n",
    "wind_params_2024 = pd.read_excel(os.path.join(thermal_data_dir, '2024_nyca_nonthermal.xlsx'),\n",
    "                                 sheet_name='Wind')\n",
    "wind_params_2024['max_ramp_hourly'] = wind_params_2024['Capacity (MW)']"
   ]
  },
  {
   "cell_type": "code",
   "execution_count": 143,
   "metadata": {},
   "outputs": [],
   "source": [
    "# Add wind generators for 2030\n",
    "# 1. Base case\n",
    "# 2. Contract case\n",
    "# 3. State Scenario\n",
    "# 4. Offshore wind\n",
    "\n",
    "wind_farms = [\n",
    "    'lbw_params_outlook_base',\n",
    "    'lbw_params_outlook_contract',\n",
    "    'lbw_params_state_scenario_2030',\n",
    "    'osw_farm_params',\n",
    "]\n",
    "\n",
    "osw_2030 = {\n",
    "    'Empire Offshore Wind , LLC': [2076, 'Kings'],\n",
    "    'Attentive Energy LLC': [1280, 'Kings'],\n",
    "    'Sunrise Wind, LLC': [924, 'Nassau'],\n",
    "    'Beacon Wind LLC': [1230, 'Nassau'],\n",
    "    'Community Offshore Wind, LLC': [1344, 'Nassau'],\n",
    "    'Mid-Atlantic Offshore Wind LLC': [1314, 'Nassau'],\n",
    "}\n",
    "\n",
    "# Process wind farm parameters\n",
    "wind_farm_list = []\n",
    "for group in wind_farms:\n",
    "    wind_farm = pd.read_excel(os.path.join(data_dir, 'renewable', 'wind_projects.xlsx'),\n",
    "                              sheet_name=group)\n",
    "\n",
    "    # Base case: only add High Bridge Wind\n",
    "    if group == 'lbw_params_outlook_base':\n",
    "        wind_farm = wind_farm[wind_farm['Name'] == 'High Bridge Wind']\n",
    "\n",
    "    # Offshore wind\n",
    "    if group == 'osw_farm_params':\n",
    "        wind_farm = wind_farm[wind_farm['Name'].isin(osw_2030.keys())]\n",
    "        wind_farm['p_cap'] = wind_farm['Name'].map(\n",
    "            lambda x: osw_2030[x][0])\n",
    "        wind_farm['p_county'] = wind_farm['Name'].map(lambda x: osw_2030[x][1])\n",
    "        # Remove 'LLC' or ', LLC' from the name\n",
    "        wind_farm['Name'] = wind_farm['Name'].str.replace('LLC', '').replace(\n",
    "            ', ', ' ', regex=True).str.strip()\n",
    "    \n",
    "    # LBW from NYSERDA supply curve\n",
    "    if group == 'lbw_params_state_scenario_2030':\n",
    "        wind_farm['Name'] = 'LBW ' + wind_farm['Name']\n",
    "    \n",
    "    wind_farm_list.append(wind_farm)\n",
    "\n",
    "new_wind_params = pd.concat(wind_farm_list, axis=0)\n",
    "new_wind_params['Zone'] = new_wind_params['p_county'].map(county_2_zone)\n",
    "new_wind_params['PTID'] = 'NaN'\n",
    "new_wind_params['Capacity (MW)'] = new_wind_params['p_cap']\n",
    "new_wind_params['Unit Type'] = 'WT'\n",
    "new_wind_params['Fuel Type Primary'] = 'WND'\n",
    "new_wind_params['2023 Net Energy (GWh)'] = 'NaN'\n",
    "new_wind_params['Notes'] = 'NYGRID'\n",
    "new_wind_params['min_gen'] = 0\n",
    "new_wind_params['gen_bus'] = new_wind_params['p_county'].map(county_2_bus)\n",
    "new_wind_params['max_ramp_hourly'] = new_wind_params['Capacity (MW)']\n",
    "new_wind_params = new_wind_params.drop(columns=['p_cap', 'p_county', 'lat', 'lon'])\n",
    "\n",
    "# Combine with existing wind parameters\n",
    "wind_params_2030 = pd.concat([wind_params_2024, new_wind_params], axis=0)\n",
    "wind_params_2030 = wind_params_2030.reset_index(drop=True)\n",
    "\n",
    "# Drop duplicate\n",
    "wind_params_2030 = wind_params_2030.drop_duplicates(subset=['Name'])"
   ]
  },
  {
   "cell_type": "code",
   "execution_count": 144,
   "metadata": {},
   "outputs": [],
   "source": [
    "# 2024 NYCA: 49 wind generators\n",
    "wind_prop_2030 = gp.format_gen_prop_non_thermal(wind_params_2030)"
   ]
  },
  {
   "cell_type": "markdown",
   "metadata": {},
   "source": [
    "## 6. Utility PV"
   ]
  },
  {
   "cell_type": "code",
   "execution_count": 145,
   "metadata": {},
   "outputs": [],
   "source": [
    "# Add UPV generators for 2030\n",
    "# 1. Base case\n",
    "# 2. Contract case\n",
    "# 3. State Scenario\n",
    "upv_farms = [\n",
    "    'upv_params_2024_ft',\n",
    "    'upv_params_2024_sat',\n",
    "    'upv_params_outlook_base',\n",
    "    'upv_params_outlook_contract',\n",
    "    'upv_params_state_scenario_2030',\n",
    "]\n",
    "\n",
    "# Process solar farm parameters\n",
    "upv_farm_list = []\n",
    "for group in upv_farms:\n",
    "    upv_farm = pd.read_excel(os.path.join(data_dir, 'renewable', 'solar_projects.xlsx'),\n",
    "                              sheet_name=group)\n",
    "    upv_farm = upv_farm[['Name', 'p_cap_ac', 'p_county']]\n",
    "\n",
    "    # Replace 'St Lawrence' with 'St. Lawrence'\n",
    "    upv_farm['p_county'] = upv_farm['p_county'].replace(\n",
    "        {'St Lawrence': 'St. Lawrence'})\n",
    "    \n",
    "    # UPV from NYSERDA supply curve\n",
    "    if group == 'upv_params_state_scenario_2030':\n",
    "        upv_farm['Name'] = 'UPV ' + upv_farm['Name']\n",
    "    \n",
    "    upv_farm_list.append(upv_farm)\n",
    "\n",
    "upv_params_2030 = pd.concat(upv_farm_list, axis=0)\n",
    "upv_params_2030['Zone'] = upv_params_2030['p_county'].map(county_2_zone)\n",
    "upv_params_2030['PTID'] = 'NaN'\n",
    "upv_params_2030['Capacity (MW)'] = upv_params_2030['p_cap_ac']\n",
    "upv_params_2030['Unit Type'] = 'PV'\n",
    "upv_params_2030['Fuel Type Primary'] = 'SUN'\n",
    "upv_params_2030['2023 Net Energy (GWh)'] = 'NaN'\n",
    "upv_params_2030['Notes'] = 'NYGRID'\n",
    "upv_params_2030['min_gen'] = 0\n",
    "upv_params_2030['gen_bus'] = upv_params_2030['p_county'].map(county_2_bus)\n",
    "upv_params_2030['max_ramp_hourly'] = upv_params_2030['Capacity (MW)']\n",
    "upv_params_2030 = upv_params_2030.drop(columns=['p_cap_ac'])\n",
    "\n",
    "# Combine with existing upv parameters\n",
    "upv_params_2030 = upv_params_2030.reset_index(drop=True)\n",
    "\n",
    "# Drop duplicate solar farms\n",
    "upv_params_2030 = upv_params_2030.drop_duplicates(subset='Name')\n",
    "\n",
    "# Fill missing values\n",
    "upv_params_2030.loc[upv_params_2030['Name'] == 'Q1080 UPV RESRFP2022', 'gen_bus'] = 61\n",
    "upv_params_2030.loc[upv_params_2030['Name'] == 'Q1080 UPV RESRFP2022', 'Zone'] = 61"
   ]
  },
  {
   "cell_type": "code",
   "execution_count": 146,
   "metadata": {},
   "outputs": [],
   "source": [
    "# 2024 NYCA: 123 UPV generators\n",
    "upv_prop_2030 = gp.format_gen_prop_non_thermal(upv_params_2030)"
   ]
  },
  {
   "cell_type": "markdown",
   "metadata": {},
   "source": [
    "## 7. Other renewables"
   ]
  },
  {
   "cell_type": "code",
   "execution_count": 147,
   "metadata": {},
   "outputs": [],
   "source": [
    "# Read other renewable generator parameters\n",
    "others_params_2024 = pd.read_excel(os.path.join(thermal_data_dir, '2024_nyca_nonthermal.xlsx'),\n",
    "                                   sheet_name='Others')\n",
    "others_params_2024['max_ramp_hourly'] = others_params_2024['Capacity (MW)']\n",
    "\n",
    "# 2030 NYCA: 18 other renewable generators\n",
    "# Assume the same parameters for 2030 as 2024\n",
    "others_params_2030 = others_params_2024.copy()\n",
    "others_prop_2030 = gp.format_gen_prop_non_thermal(others_params_2024)"
   ]
  },
  {
   "cell_type": "markdown",
   "metadata": {},
   "source": [
    "## 8. Large Load"
   ]
  },
  {
   "cell_type": "code",
   "execution_count": 148,
   "metadata": {},
   "outputs": [],
   "source": [
    "# Read large load parameters\n",
    "large_load_params_2030 = pd.read_csv(os.path.join(load_data_dir, 'large_load.csv'))\n",
    "\n",
    "for i, row in large_load_params_2030.iterrows():\n",
    "    if row['Notes'] == 'Data center': # Inflexible load\n",
    "        large_load_params_2030.at[i, 'Capacity (MW)'] = row['Demand (MW)'] * -0.9\n",
    "        large_load_params_2030.at[i, 'min_gen'] = row['Demand (MW)'] * -1\n",
    "    elif row['Notes'] == 'Cryptocurrency mining': # Flexible load\n",
    "        large_load_params_2030.at[i, 'Capacity (MW)'] = 0\n",
    "        large_load_params_2030.at[i, 'min_gen'] = row['Demand (MW)'] * -1\n",
    "    elif row['Notes'] == 'Manufacturing': # Inflexible load\n",
    "        large_load_params_2030.at[i, 'Capacity (MW)'] = row['Demand (MW)'] * -0.9\n",
    "        large_load_params_2030.at[i, 'min_gen'] = row['Demand (MW)'] * -1\n",
    "    elif row['Notes'] == 'Electrolysis': # Flexible load\n",
    "        large_load_params_2030.at[i, 'Capacity (MW)'] = 0\n",
    "        large_load_params_2030.at[i, 'min_gen'] = row['Demand (MW)'] * -1\n",
    "    else: # Flexible load\n",
    "        large_load_params_2030.at[i, 'Capacity (MW)'] = 0\n",
    "        large_load_params_2030.at[i, 'min_gen'] = row['Demand (MW)'] * -1\n",
    "\n",
    "large_load_params_2030['PTID'] = 'NaN'\n",
    "large_load_params_2030['Unit Type'] = 'Load'\n",
    "large_load_params_2030['Fuel Type Primary'] = 'Load'\n",
    "large_load_params_2030['2023 Net Energy (GWh)'] = 'NaN'\n",
    "large_load_params_2030['gen_bus'] = large_load_params_2030['Bus']\n",
    "large_load_params_2030['max_ramp_hourly'] = large_load_params_2030['Capacity (MW)']\n",
    "large_load_params_2030 = large_load_params_2030.drop(columns=['Year', 'Bus', 'County'])"
   ]
  },
  {
   "cell_type": "code",
   "execution_count": 149,
   "metadata": {},
   "outputs": [],
   "source": [
    "large_load_prop_2030 = gp.format_gen_prop_non_thermal(large_load_params_2030)"
   ]
  },
  {
   "cell_type": "markdown",
   "metadata": {},
   "source": [
    "## 9. Combine generator properties"
   ]
  },
  {
   "cell_type": "code",
   "execution_count": 150,
   "metadata": {},
   "outputs": [],
   "source": [
    "# 2030 NYCA: 418 generators\n",
    "gen_prop_2030 = pd.concat([thermal_prop_2030,\n",
    "                           nuclear_prop_2030,\n",
    "                           hydro_prop_2030,\n",
    "                           import_prop_2030,\n",
    "                           wind_prop_2030,\n",
    "                           upv_prop_2030,\n",
    "                           others_prop_2030,\n",
    "                           large_load_prop_2030,\n",
    "                           ], axis=0)"
   ]
  },
  {
   "cell_type": "code",
   "execution_count": 151,
   "metadata": {},
   "outputs": [
    {
     "data": {
      "text/html": [
       "<div>\n",
       "<style scoped>\n",
       "    .dataframe tbody tr th:only-of-type {\n",
       "        vertical-align: middle;\n",
       "    }\n",
       "\n",
       "    .dataframe tbody tr th {\n",
       "        vertical-align: top;\n",
       "    }\n",
       "\n",
       "    .dataframe thead th {\n",
       "        text-align: right;\n",
       "    }\n",
       "</style>\n",
       "<table border=\"1\" class=\"dataframe\">\n",
       "  <thead>\n",
       "    <tr style=\"text-align: right;\">\n",
       "      <th></th>\n",
       "      <th>GEN_NAME</th>\n",
       "      <th>GEN_BUS</th>\n",
       "      <th>PG</th>\n",
       "      <th>QG</th>\n",
       "      <th>QMAX</th>\n",
       "      <th>QMIN</th>\n",
       "      <th>VG</th>\n",
       "      <th>MBASE</th>\n",
       "      <th>GEN_STATUS</th>\n",
       "      <th>PMAX</th>\n",
       "      <th>...</th>\n",
       "      <th>RAMP_10</th>\n",
       "      <th>RAMP_30</th>\n",
       "      <th>RAMP_Q</th>\n",
       "      <th>APF</th>\n",
       "      <th>GEN_ZONE</th>\n",
       "      <th>UNIT_TYPE</th>\n",
       "      <th>FUEL_TYPE</th>\n",
       "      <th>CMT_KEY</th>\n",
       "      <th>MIN_UP_TIME</th>\n",
       "      <th>MIN_DOWN_TIME</th>\n",
       "    </tr>\n",
       "  </thead>\n",
       "  <tbody>\n",
       "    <tr>\n",
       "      <th>0</th>\n",
       "      <td>Arthur Kill GT 1(2490,CT0001)</td>\n",
       "      <td>82.0</td>\n",
       "      <td>0</td>\n",
       "      <td>0</td>\n",
       "      <td>9999</td>\n",
       "      <td>-9999</td>\n",
       "      <td>1</td>\n",
       "      <td>100</td>\n",
       "      <td>1</td>\n",
       "      <td>15.0</td>\n",
       "      <td>...</td>\n",
       "      <td>2.500000</td>\n",
       "      <td>7.5</td>\n",
       "      <td>0</td>\n",
       "      <td>0</td>\n",
       "      <td>J</td>\n",
       "      <td>CT</td>\n",
       "      <td>NG</td>\n",
       "      <td>1</td>\n",
       "      <td>2</td>\n",
       "      <td>2</td>\n",
       "    </tr>\n",
       "    <tr>\n",
       "      <th>1</th>\n",
       "      <td>East River 1(2493,1)</td>\n",
       "      <td>82.0</td>\n",
       "      <td>0</td>\n",
       "      <td>0</td>\n",
       "      <td>9999</td>\n",
       "      <td>-9999</td>\n",
       "      <td>1</td>\n",
       "      <td>100</td>\n",
       "      <td>1</td>\n",
       "      <td>296.0</td>\n",
       "      <td>...</td>\n",
       "      <td>22.833333</td>\n",
       "      <td>68.5</td>\n",
       "      <td>0</td>\n",
       "      <td>0</td>\n",
       "      <td>J</td>\n",
       "      <td>CC</td>\n",
       "      <td>NG</td>\n",
       "      <td>1</td>\n",
       "      <td>6</td>\n",
       "      <td>4</td>\n",
       "    </tr>\n",
       "    <tr>\n",
       "      <th>2</th>\n",
       "      <td>East River 2(2493,2)</td>\n",
       "      <td>82.0</td>\n",
       "      <td>0</td>\n",
       "      <td>0</td>\n",
       "      <td>9999</td>\n",
       "      <td>-9999</td>\n",
       "      <td>1</td>\n",
       "      <td>100</td>\n",
       "      <td>1</td>\n",
       "      <td>293.0</td>\n",
       "      <td>...</td>\n",
       "      <td>27.666667</td>\n",
       "      <td>83.0</td>\n",
       "      <td>0</td>\n",
       "      <td>0</td>\n",
       "      <td>J</td>\n",
       "      <td>CC</td>\n",
       "      <td>NG</td>\n",
       "      <td>1</td>\n",
       "      <td>6</td>\n",
       "      <td>4</td>\n",
       "    </tr>\n",
       "    <tr>\n",
       "      <th>3</th>\n",
       "      <td>Gowanus 2-1(2494,CT02-1)</td>\n",
       "      <td>82.0</td>\n",
       "      <td>0</td>\n",
       "      <td>0</td>\n",
       "      <td>9999</td>\n",
       "      <td>-9999</td>\n",
       "      <td>1</td>\n",
       "      <td>100</td>\n",
       "      <td>1</td>\n",
       "      <td>16.0</td>\n",
       "      <td>...</td>\n",
       "      <td>2.666667</td>\n",
       "      <td>8.0</td>\n",
       "      <td>0</td>\n",
       "      <td>0</td>\n",
       "      <td>J</td>\n",
       "      <td>CT</td>\n",
       "      <td>FO2</td>\n",
       "      <td>1</td>\n",
       "      <td>2</td>\n",
       "      <td>2</td>\n",
       "    </tr>\n",
       "    <tr>\n",
       "      <th>4</th>\n",
       "      <td>Gowanus 2-2(2494,CT02-2)</td>\n",
       "      <td>82.0</td>\n",
       "      <td>0</td>\n",
       "      <td>0</td>\n",
       "      <td>9999</td>\n",
       "      <td>-9999</td>\n",
       "      <td>1</td>\n",
       "      <td>100</td>\n",
       "      <td>1</td>\n",
       "      <td>16.0</td>\n",
       "      <td>...</td>\n",
       "      <td>2.666667</td>\n",
       "      <td>8.0</td>\n",
       "      <td>0</td>\n",
       "      <td>0</td>\n",
       "      <td>J</td>\n",
       "      <td>CT</td>\n",
       "      <td>FO2</td>\n",
       "      <td>1</td>\n",
       "      <td>2</td>\n",
       "      <td>2</td>\n",
       "    </tr>\n",
       "    <tr>\n",
       "      <th>...</th>\n",
       "      <td>...</td>\n",
       "      <td>...</td>\n",
       "      <td>...</td>\n",
       "      <td>...</td>\n",
       "      <td>...</td>\n",
       "      <td>...</td>\n",
       "      <td>...</td>\n",
       "      <td>...</td>\n",
       "      <td>...</td>\n",
       "      <td>...</td>\n",
       "      <td>...</td>\n",
       "      <td>...</td>\n",
       "      <td>...</td>\n",
       "      <td>...</td>\n",
       "      <td>...</td>\n",
       "      <td>...</td>\n",
       "      <td>...</td>\n",
       "      <td>...</td>\n",
       "      <td>...</td>\n",
       "      <td>...</td>\n",
       "      <td>...</td>\n",
       "    </tr>\n",
       "    <tr>\n",
       "      <th>12</th>\n",
       "      <td>POWI Project</td>\n",
       "      <td>41.0</td>\n",
       "      <td>0</td>\n",
       "      <td>0</td>\n",
       "      <td>9999</td>\n",
       "      <td>-9999</td>\n",
       "      <td>1</td>\n",
       "      <td>100</td>\n",
       "      <td>1</td>\n",
       "      <td>-45.0</td>\n",
       "      <td>...</td>\n",
       "      <td>-7.500000</td>\n",
       "      <td>-22.5</td>\n",
       "      <td>0</td>\n",
       "      <td>0</td>\n",
       "      <td>F</td>\n",
       "      <td>Load</td>\n",
       "      <td>Load</td>\n",
       "      <td>2</td>\n",
       "      <td>0</td>\n",
       "      <td>0</td>\n",
       "    </tr>\n",
       "    <tr>\n",
       "      <th>13</th>\n",
       "      <td>Additional Large Load A</td>\n",
       "      <td>57.0</td>\n",
       "      <td>0</td>\n",
       "      <td>0</td>\n",
       "      <td>9999</td>\n",
       "      <td>-9999</td>\n",
       "      <td>1</td>\n",
       "      <td>100</td>\n",
       "      <td>1</td>\n",
       "      <td>0.0</td>\n",
       "      <td>...</td>\n",
       "      <td>0.000000</td>\n",
       "      <td>0.0</td>\n",
       "      <td>0</td>\n",
       "      <td>0</td>\n",
       "      <td>A</td>\n",
       "      <td>Load</td>\n",
       "      <td>Load</td>\n",
       "      <td>2</td>\n",
       "      <td>0</td>\n",
       "      <td>0</td>\n",
       "    </tr>\n",
       "    <tr>\n",
       "      <th>14</th>\n",
       "      <td>Additional Large Load C</td>\n",
       "      <td>51.0</td>\n",
       "      <td>0</td>\n",
       "      <td>0</td>\n",
       "      <td>9999</td>\n",
       "      <td>-9999</td>\n",
       "      <td>1</td>\n",
       "      <td>100</td>\n",
       "      <td>1</td>\n",
       "      <td>0.0</td>\n",
       "      <td>...</td>\n",
       "      <td>0.000000</td>\n",
       "      <td>0.0</td>\n",
       "      <td>0</td>\n",
       "      <td>0</td>\n",
       "      <td>C</td>\n",
       "      <td>Load</td>\n",
       "      <td>Load</td>\n",
       "      <td>2</td>\n",
       "      <td>0</td>\n",
       "      <td>0</td>\n",
       "    </tr>\n",
       "    <tr>\n",
       "      <th>15</th>\n",
       "      <td>Additional Large Load D</td>\n",
       "      <td>49.0</td>\n",
       "      <td>0</td>\n",
       "      <td>0</td>\n",
       "      <td>9999</td>\n",
       "      <td>-9999</td>\n",
       "      <td>1</td>\n",
       "      <td>100</td>\n",
       "      <td>1</td>\n",
       "      <td>0.0</td>\n",
       "      <td>...</td>\n",
       "      <td>0.000000</td>\n",
       "      <td>0.0</td>\n",
       "      <td>0</td>\n",
       "      <td>0</td>\n",
       "      <td>D</td>\n",
       "      <td>Load</td>\n",
       "      <td>Load</td>\n",
       "      <td>2</td>\n",
       "      <td>0</td>\n",
       "      <td>0</td>\n",
       "    </tr>\n",
       "    <tr>\n",
       "      <th>16</th>\n",
       "      <td>Additional Large Load E</td>\n",
       "      <td>45.0</td>\n",
       "      <td>0</td>\n",
       "      <td>0</td>\n",
       "      <td>9999</td>\n",
       "      <td>-9999</td>\n",
       "      <td>1</td>\n",
       "      <td>100</td>\n",
       "      <td>1</td>\n",
       "      <td>0.0</td>\n",
       "      <td>...</td>\n",
       "      <td>0.000000</td>\n",
       "      <td>0.0</td>\n",
       "      <td>0</td>\n",
       "      <td>0</td>\n",
       "      <td>E</td>\n",
       "      <td>Load</td>\n",
       "      <td>Load</td>\n",
       "      <td>2</td>\n",
       "      <td>0</td>\n",
       "      <td>0</td>\n",
       "    </tr>\n",
       "  </tbody>\n",
       "</table>\n",
       "<p>419 rows × 28 columns</p>\n",
       "</div>"
      ],
      "text/plain": [
       "                         GEN_NAME  GEN_BUS  PG  QG  QMAX  QMIN  VG  MBASE  \\\n",
       "0   Arthur Kill GT 1(2490,CT0001)     82.0   0   0  9999 -9999   1    100   \n",
       "1            East River 1(2493,1)     82.0   0   0  9999 -9999   1    100   \n",
       "2            East River 2(2493,2)     82.0   0   0  9999 -9999   1    100   \n",
       "3        Gowanus 2-1(2494,CT02-1)     82.0   0   0  9999 -9999   1    100   \n",
       "4        Gowanus 2-2(2494,CT02-2)     82.0   0   0  9999 -9999   1    100   \n",
       "..                            ...      ...  ..  ..   ...   ...  ..    ...   \n",
       "12                   POWI Project     41.0   0   0  9999 -9999   1    100   \n",
       "13        Additional Large Load A     57.0   0   0  9999 -9999   1    100   \n",
       "14        Additional Large Load C     51.0   0   0  9999 -9999   1    100   \n",
       "15        Additional Large Load D     49.0   0   0  9999 -9999   1    100   \n",
       "16        Additional Large Load E     45.0   0   0  9999 -9999   1    100   \n",
       "\n",
       "    GEN_STATUS   PMAX  ...    RAMP_10  RAMP_30  RAMP_Q  APF  GEN_ZONE  \\\n",
       "0            1   15.0  ...   2.500000      7.5       0    0         J   \n",
       "1            1  296.0  ...  22.833333     68.5       0    0         J   \n",
       "2            1  293.0  ...  27.666667     83.0       0    0         J   \n",
       "3            1   16.0  ...   2.666667      8.0       0    0         J   \n",
       "4            1   16.0  ...   2.666667      8.0       0    0         J   \n",
       "..         ...    ...  ...        ...      ...     ...  ...       ...   \n",
       "12           1  -45.0  ...  -7.500000    -22.5       0    0         F   \n",
       "13           1    0.0  ...   0.000000      0.0       0    0         A   \n",
       "14           1    0.0  ...   0.000000      0.0       0    0         C   \n",
       "15           1    0.0  ...   0.000000      0.0       0    0         D   \n",
       "16           1    0.0  ...   0.000000      0.0       0    0         E   \n",
       "\n",
       "    UNIT_TYPE  FUEL_TYPE  CMT_KEY  MIN_UP_TIME  MIN_DOWN_TIME  \n",
       "0          CT         NG        1            2              2  \n",
       "1          CC         NG        1            6              4  \n",
       "2          CC         NG        1            6              4  \n",
       "3          CT        FO2        1            2              2  \n",
       "4          CT        FO2        1            2              2  \n",
       "..        ...        ...      ...          ...            ...  \n",
       "12       Load       Load        2            0              0  \n",
       "13       Load       Load        2            0              0  \n",
       "14       Load       Load        2            0              0  \n",
       "15       Load       Load        2            0              0  \n",
       "16       Load       Load        2            0              0  \n",
       "\n",
       "[419 rows x 28 columns]"
      ]
     },
     "execution_count": 151,
     "metadata": {},
     "output_type": "execute_result"
    }
   ],
   "source": [
    "gen_prop_2030"
   ]
  },
  {
   "cell_type": "markdown",
   "metadata": {},
   "source": [
    "# Format generator profiles"
   ]
  },
  {
   "cell_type": "markdown",
   "metadata": {},
   "source": [
    "## 1. genmax profile"
   ]
  },
  {
   "cell_type": "markdown",
   "metadata": {},
   "source": [
    "### A. Wind"
   ]
  },
  {
   "cell_type": "code",
   "execution_count": 152,
   "metadata": {},
   "outputs": [],
   "source": [
    "# Land-based wind generation profile at turbine level\n",
    "onshore_wind_gen = pd.read_csv(os.path.join(onshore_wind_data_dir, f'current_wind_gen_1hr.csv'),\n",
    "                               parse_dates=['Time'], index_col='Time').asfreq('H')\n",
    "onshore_wind_gen.columns = onshore_wind_gen.columns.astype(int)"
   ]
  },
  {
   "cell_type": "code",
   "execution_count": 153,
   "metadata": {},
   "outputs": [],
   "source": [
    "# Read wind turbine information\n",
    "uswtdb_ny_2024 = pd.read_excel(os.path.join(\n",
    "    onshore_wind_data_dir, 'uswtdb_2024_ny.xlsx'))\n",
    "\n",
    "# Create a dict of NYISO name and USWTDB name\n",
    "wind_names_2024 = dict(zip(wind_params_2024['Notes'],\n",
    "                           wind_params_2024['Name']))"
   ]
  },
  {
   "cell_type": "code",
   "execution_count": 154,
   "metadata": {},
   "outputs": [],
   "source": [
    "# 2024 NYCA: 31 wind generators\n",
    "wind_farm_ts_dict = dict()\n",
    "for name in wind_names_2024:\n",
    "    wind_farm_df = uswtdb_ny_2024[uswtdb_ny_2024['p_name'] == name]\n",
    "    wind_farm_idx = list(wind_farm_df.index)\n",
    "    wind_farm_ts = onshore_wind_gen.loc[:, wind_farm_idx].sum(axis=1)\n",
    "    wind_farm_ts_dict[name] = wind_farm_ts\n",
    "wind_genmax_profile_2024 = pd.DataFrame(wind_farm_ts_dict)\n",
    "\n",
    "# Remove timezone info\n",
    "wind_genmax_profile_2024.index = wind_genmax_profile_2024.index.tz_localize(None)\n",
    "\n",
    "# Convert kW to MW\n",
    "wind_genmax_profile_2024 = wind_genmax_profile_2024 / 1000\n",
    "\n",
    "# Rename wind farms\n",
    "wind_genmax_profile_2024 = wind_genmax_profile_2024.rename(\n",
    "    columns=wind_names_2024)"
   ]
  },
  {
   "cell_type": "code",
   "execution_count": 155,
   "metadata": {},
   "outputs": [],
   "source": [
    "wind_farm_gen_list = list()\n",
    "\n",
    "for group in wind_farms:\n",
    "\n",
    "    if group == 'osw_farm_params':\n",
    "        wind_farm_gen = pd.read_csv(os.path.join(offshore_wind_data_dir, f'{group}_wind_gen_1hr_MW.csv'),\n",
    "                                    parse_dates=['Time'], index_col='Time').asfreq('H')\n",
    "        wind_farm_gen = wind_farm_gen[osw_2030.keys()]\n",
    "        \n",
    "        # The original data is at 1000 MW capacity\n",
    "        # Scale up according to the capacity in the parameters\n",
    "        for name in osw_2030:\n",
    "            wind_farm_gen[name] = wind_farm_gen[name] * osw_2030[name][0] / 1000\n",
    "\n",
    "        # Remove 'LLC' or ', LLC' from the name\n",
    "        wind_farm_gen.columns = wind_farm_gen.columns.to_series().str.replace('LLC', '').replace(\n",
    "            ', ', '', regex=True).str.strip()\n",
    "    else:\n",
    "        wind_farm_gen = pd.read_csv(os.path.join(onshore_wind_data_dir, f'{group}_wind_gen_1hr_MW.csv'),\n",
    "                                    parse_dates=['Time'], index_col='Time').asfreq('H')\n",
    "\n",
    "        # Base case: only add High Bridge Wind\n",
    "        if group == 'lbw_params_outlook_base':\n",
    "            wind_farm_gen = wind_farm_gen[['High Bridge Wind']]\n",
    "\n",
    "        if group == 'lbw_params_state_scenario_2030':\n",
    "            wind_farm_gen.columns = wind_farm_gen.columns.map(lambda x: 'LBW ' + x)\n",
    "\n",
    "    # Apply loss factors\n",
    "    wind_farm_gen = wind_farm_gen * 0.941 # Wake\n",
    "    wind_farm_gen = wind_farm_gen * 0.96 # Turbine performance\n",
    "    wind_farm_gen = wind_farm_gen * 0.973 # Environmental\n",
    "    wind_farm_gen = wind_farm_gen * 0.975 # Bulk electrical efficiency\n",
    "    wind_farm_gen = wind_farm_gen * 0.949 # Availability\n",
    "\n",
    "    wind_farm_gen_list.append(wind_farm_gen)\n",
    "\n",
    "new_wind_gen = pd.concat(wind_farm_gen_list, axis=1)"
   ]
  },
  {
   "cell_type": "code",
   "execution_count": 156,
   "metadata": {},
   "outputs": [],
   "source": [
    "# Replace some OSW generation profile with more detailed data\n",
    "offshore_wind_gen = pd.read_csv(os.path.join(offshore_wind_data_dir, f'power_load_2018.csv'),\n",
    "                                parse_dates=['timestamp'], index_col='timestamp')\n",
    "offshore_wind_gen.index = offshore_wind_gen.index.tz_localize(  # type: ignore\n",
    "    'US/Eastern', ambiguous='infer')\n",
    "offshore_wind_gen.index.freq = 'H'\n",
    "empire_wind_gen = offshore_wind_gen['power_nyc']\n",
    "beacon_wind_gen = offshore_wind_gen['power_li'] * 1230/(1230+924)\n",
    "sunrise_wind_gen = offshore_wind_gen['power_li'] * 924/(1230+924)\n",
    "\n",
    "loss_factor = 0.96 * 0.973 * 0.975 * 0.949 # Wake loss was already applied\n",
    "new_wind_gen['Empire Offshore Wind'] = empire_wind_gen * loss_factor\n",
    "new_wind_gen['Beacon Wind'] = beacon_wind_gen * loss_factor\n",
    "new_wind_gen['Sunrise Wind'] = sunrise_wind_gen * loss_factor\n",
    "\n",
    "# Remove timezone info\n",
    "new_wind_gen.index = new_wind_gen.index.tz_localize(None)"
   ]
  },
  {
   "cell_type": "code",
   "execution_count": 157,
   "metadata": {},
   "outputs": [],
   "source": [
    "# 2030 NYCA: 50 wind generators\n",
    "wind_genmax_profile_2030 = pd.concat([wind_genmax_profile_2024, new_wind_gen], axis=1)"
   ]
  },
  {
   "cell_type": "code",
   "execution_count": 158,
   "metadata": {},
   "outputs": [],
   "source": [
    "wind2zone_dict = wind_prop_2030.set_index('GEN_NAME')['GEN_ZONE'].to_dict()\n",
    "\n",
    "# Calculate site-wise capacity factor\n",
    "wind_cf_profile_2030 = wind_genmax_profile_2030.copy()\n",
    "for name in wind_cf_profile_2030.columns:\n",
    "    wind_cf_profile_2030[name] = wind_cf_profile_2030[name] / \\\n",
    "        wind_prop_2030[wind_prop_2030['GEN_NAME'] == name]['PMAX'].values[0]\n",
    "    # Clip to 0 and 1\n",
    "    wind_cf_profile_2030[name] = wind_cf_profile_2030[name].clip(0, 1)\n",
    "\n",
    "# Calculate zonal average capacity factor\n",
    "wind_cf_profile_zone_2030 = wind_cf_profile_2030.T.groupby(wind2zone_dict).mean().T\n",
    "\n",
    "# Assign zonal average capacity factor to each wind farm\n",
    "wind_genmax_profile_avg_2030 = wind_genmax_profile_2030.copy()\n",
    "for name in wind_genmax_profile_avg_2030.columns:\n",
    "    wind_genmax_profile_avg_2030[name] = wind_cf_profile_zone_2030[wind2zone_dict[name]] * \\\n",
    "        wind_prop_2030[wind_prop_2030['GEN_NAME'] == name]['PMAX'].values[0]\n",
    "    \n",
    "wind_error = wind_genmax_profile_avg_2030 - wind_genmax_profile_2030"
   ]
  },
  {
   "cell_type": "code",
   "execution_count": 159,
   "metadata": {},
   "outputs": [
    {
     "data": {
      "text/plain": [
       "<Axes: xlabel='Time'>"
      ]
     },
     "execution_count": 159,
     "metadata": {},
     "output_type": "execute_result"
    },
    {
     "data": {
      "image/png": "[encoded data removed]",
      "text/plain": [
       "<Figure size 640x480 with 1 Axes>"
      ]
     },
     "metadata": {},
     "output_type": "display_data"
    }
   ],
   "source": [
    "wind_error.sum(axis=1).plot()"
   ]
  },
  {
   "cell_type": "markdown",
   "metadata": {},
   "source": [
    "### B. Utility PV"
   ]
  },
  {
   "cell_type": "code",
   "execution_count": 160,
   "metadata": {},
   "outputs": [],
   "source": [
    "# Utility PV generation profile\n",
    "upv_farm_gen_list = list()\n",
    "for group in upv_farms:\n",
    "    upv_farm_gen = pd.read_csv(os.path.join(solar_data_dir, f'{group}_solar_gen_1hr_MW.csv'),\n",
    "                                 parse_dates=['Time'], index_col='Time').asfreq('H')\n",
    "    \n",
    "    if group == 'upv_params_state_scenario_2030':\n",
    "        upv_farm_gen.columns = upv_farm_gen.columns.map(lambda x: 'UPV ' + x)\n",
    "    \n",
    "    upv_farm_gen_list.append(upv_farm_gen)\n",
    "\n",
    "upv_genmax_profile_2030 = pd.concat(upv_farm_gen_list, axis=1)\n",
    "\n",
    "# Remove timezone info\n",
    "upv_genmax_profile_2030.index = upv_genmax_profile_2030.index.tz_localize(None)\n",
    "\n",
    "# Remove duplicate columns\n",
    "upv_genmax_profile_2030 = upv_genmax_profile_2030.loc[:, ~upv_genmax_profile_2030.columns.duplicated()]"
   ]
  },
  {
   "cell_type": "code",
   "execution_count": 161,
   "metadata": {},
   "outputs": [],
   "source": [
    "upv2zone_dict = upv_prop_2030.set_index('GEN_NAME')['GEN_ZONE'].to_dict()\n",
    "\n",
    "# Calculate site-wise capacity factor\n",
    "upv_cf_profile_2030 = upv_genmax_profile_2030.copy()\n",
    "for name in upv_cf_profile_2030.columns:\n",
    "    upv_cf_profile_2030[name] = upv_cf_profile_2030[name] / \\\n",
    "        upv_prop_2030[upv_prop_2030['GEN_NAME'] == name]['PMAX'].values[0]\n",
    "    # Clip to 0 and 1\n",
    "    upv_cf_profile_2030[name] = upv_cf_profile_2030[name].clip(0, 1)\n",
    "\n",
    "# Calculate zonal average capacity factor\n",
    "upv_cf_profile_zone_2030 = upv_cf_profile_2030.T.groupby(upv2zone_dict).mean().T\n",
    "\n",
    "# Assign zonal average capacity factor to each wind farm\n",
    "upv_genmax_profile_avg_2030 = upv_genmax_profile_2030.copy()\n",
    "for name in upv_genmax_profile_avg_2030.columns:\n",
    "    upv_genmax_profile_avg_2030[name] = upv_cf_profile_zone_2030[upv2zone_dict[name]] * \\\n",
    "        upv_prop_2030[upv_prop_2030['GEN_NAME'] == name]['PMAX'].values[0]\n",
    "    \n",
    "upv_error = upv_genmax_profile_avg_2030 - upv_genmax_profile_2030"
   ]
  },
  {
   "cell_type": "code",
   "execution_count": 162,
   "metadata": {},
   "outputs": [
    {
     "data": {
      "text/plain": [
       "<Axes: xlabel='Time'>"
      ]
     },
     "execution_count": 162,
     "metadata": {},
     "output_type": "execute_result"
    },
    {
     "data": {
      "image/png": "[encoded data removed]",
      "text/plain": [
       "<Figure size 640x480 with 1 Axes>"
      ]
     },
     "metadata": {},
     "output_type": "display_data"
    }
   ],
   "source": [
    "upv_error.sum(axis=1).plot()"
   ]
  },
  {
   "cell_type": "markdown",
   "metadata": {},
   "source": [
    "### C. Import"
   ]
  },
  {
   "cell_type": "code",
   "execution_count": 163,
   "metadata": {},
   "outputs": [],
   "source": [
    "# Read NYISO historical interface flow data\n",
    "interflow_2018 = pd.read_csv(os.path.join(nyiso_data_dir, 'interflowHourly_2018.csv'),\n",
    "                             parse_dates=['TimeStamp'])\n",
    "interflow_2018 = interflow_2018.pivot(\n",
    "    index='TimeStamp', columns='InterfaceName', values='FlowMWH')\n",
    "\n",
    "# Internal interface flow\n",
    "if_internal_2018 = interflow_2018[['CENTRAL EAST - VC', 'DYSINGER EAST', 'MOSES SOUTH',\n",
    "                                  'SPR/DUN-SOUTH', 'TOTAL EAST', 'UPNY CONED', 'WEST CENTRAL']]\n",
    "\n",
    "# External interface flow\n",
    "if_external_2018 = interflow_2018[['SCH - HQ - NY', 'SCH - HQ_CEDARS', 'SCH - HQ_IMPORT_EXPORT',\n",
    "                                  'SCH - NE - NY', 'SCH - NPX_1385', 'SCH - NPX_CSC',\n",
    "                                   'SCH - OH - NY', 'SCH - PJ - NY', 'SCH - PJM_HTP',\n",
    "                                   'SCH - PJM_NEPTUNE', 'SCH - PJM_VFT']]"
   ]
  },
  {
   "cell_type": "code",
   "execution_count": 164,
   "metadata": {},
   "outputs": [],
   "source": [
    "# Assume that 2030 import generators have the same capacity as 2018\n",
    "# 2018 NYCA: 15 import generators\n",
    "import_genmax_profile_2030 = pd.DataFrame(index=if_external_2018.index)\n",
    "\n",
    "# NE\n",
    "import_genmax_profile_2030['Import_NE_CSC'] = if_external_2018['SCH - NPX_CSC']\n",
    "import_genmax_profile_2030['Import_NE_NNC'] = if_external_2018['SCH - NPX_1385']\n",
    "import_genmax_profile_2030['Import_NE_ZF'] = if_external_2018['SCH - NE - NY'] * 0.5\n",
    "import_genmax_profile_2030['Import_NE_ZG'] = if_external_2018['SCH - NE - NY'] * 0.5\n",
    "\n",
    "# IESO\n",
    "import_genmax_profile_2030['Import_IESO_ZD'] = if_external_2018['SCH - OH - NY'] * 0.16\n",
    "import_genmax_profile_2030['Import_IESO_ZA1'] = if_external_2018['SCH - OH - NY'] * 0.42\n",
    "import_genmax_profile_2030['Import_IESO_ZA2'] = if_external_2018['SCH - OH - NY'] * 0.42\n",
    "\n",
    "# PJM\n",
    "import_genmax_profile_2030['Import_PJM_ZA'] = if_external_2018['SCH - PJ - NY'] * 0.175\n",
    "import_genmax_profile_2030['Import_PJM_ZC'] = if_external_2018['SCH - PJ - NY'] * 0.285\n",
    "import_genmax_profile_2030['Import_PJM_ZG'] = if_external_2018['SCH - PJ - NY'] * 0.54\n",
    "import_genmax_profile_2030['Import_PJM_NEPTUNE'] = if_external_2018['SCH - PJM_NEPTUNE']\n",
    "import_genmax_profile_2030['Import_PJM_HTP'] = if_external_2018['SCH - PJM_HTP']\n",
    "import_genmax_profile_2030['Import_PJM_VFT'] = if_external_2018['SCH - PJM_VFT']\n",
    "\n",
    "# HQ\n",
    "import_genmax_profile_2030['Import_HQ_CEDARS'] = if_external_2018['SCH - HQ_CEDARS']\n",
    "import_genmax_profile_2030['Import_HQ_NY'] = if_external_2018['SCH - HQ - NY']"
   ]
  },
  {
   "cell_type": "code",
   "execution_count": 165,
   "metadata": {},
   "outputs": [],
   "source": [
    "for name in import_params_2030['Name']:\n",
    "    if name =='Import_HQ_CHPE':\n",
    "        continue\n",
    "    p_max = import_params_2030.loc[import_params_2030['Name']\n",
    "                                   == name, 'Capacity (MW)'].values[0]\n",
    "    p_min = import_params_2030.loc[import_params_2030['Name']\n",
    "                                   == name, 'min_gen'].values[0]\n",
    "    import_genmax_profile_2030[name] = import_genmax_profile_2030[name].clip(\n",
    "        p_min, p_max)"
   ]
  },
  {
   "cell_type": "code",
   "execution_count": 166,
   "metadata": {},
   "outputs": [],
   "source": [
    "# 2024 NYCA: 16 import generators\n",
    "import_genmax_profile_2030 = import_genmax_profile_2030.copy()\n",
    "\n",
    "# Add CHPE\n",
    "import_genmax_profile_2030['Import_HQ_CHPE'] = 1250"
   ]
  },
  {
   "cell_type": "markdown",
   "metadata": {},
   "source": [
    "### D. Other renewables"
   ]
  },
  {
   "cell_type": "code",
   "execution_count": 167,
   "metadata": {},
   "outputs": [],
   "source": [
    "# 2024 NYCA: 18 other renewable generators\n",
    "# Assume that 2030 other renewable generators have the same capacity as 2018\n",
    "others_genmax_profile_2030 = pd.read_excel(os.path.join(thermal_data_dir, '2018_profiles.xlsx'),\n",
    "                                           sheet_name='Others_GenMax')\n",
    "others_genmax_profile_2030 = others_genmax_profile_2030.set_index('TimeStamp')"
   ]
  },
  {
   "cell_type": "markdown",
   "metadata": {},
   "source": [
    "### E. Combine genmax profiles"
   ]
  },
  {
   "cell_type": "code",
   "execution_count": 168,
   "metadata": {},
   "outputs": [],
   "source": [
    "start_date = datetime(2018, 1, 1, 0, 0, 0)\n",
    "end_date = datetime(2018, 12, 31, 23, 0, 0)\n",
    "timestamp_list = pd.date_range(start_date, end_date, freq='1H')"
   ]
  },
  {
   "cell_type": "code",
   "execution_count": 169,
   "metadata": {},
   "outputs": [],
   "source": [
    "thermal_genmax_profile_2030 = pd.DataFrame(\n",
    "    np.tile(thermal_prop_2030['PMAX'].values, (8760, 1)),\n",
    "    index=timestamp_list,\n",
    "    columns=thermal_prop_2030['GEN_NAME'].values)"
   ]
  },
  {
   "cell_type": "code",
   "execution_count": 170,
   "metadata": {},
   "outputs": [],
   "source": [
    "nuclear_genmax_profile_2030 = pd.DataFrame(\n",
    "    np.tile(nuclear_prop_2030['PMAX'].values, (8760, 1)),\n",
    "    index=timestamp_list,\n",
    "    columns=nuclear_prop_2030['GEN_NAME'].values)"
   ]
  },
  {
   "cell_type": "code",
   "execution_count": 171,
   "metadata": {},
   "outputs": [],
   "source": [
    "hydro_genmax_profile_2030 = pd.DataFrame(\n",
    "    np.tile(hydro_prop_2030['PMAX'].values, (8760, 1)),\n",
    "    index=timestamp_list,\n",
    "    columns=hydro_prop_2030['GEN_NAME'].values)"
   ]
  },
  {
   "cell_type": "code",
   "execution_count": 172,
   "metadata": {},
   "outputs": [],
   "source": [
    "large_load_genmax_profile_2030 = pd.DataFrame(\n",
    "    np.tile(large_load_prop_2030['PMAX'].values, (8760, 1)),\n",
    "    index=timestamp_list,\n",
    "    columns=large_load_prop_2030['GEN_NAME'].values)"
   ]
  },
  {
   "cell_type": "code",
   "execution_count": 173,
   "metadata": {},
   "outputs": [],
   "source": [
    "genmax_profile_2030 = pd.concat([thermal_genmax_profile_2030,\n",
    "                                 nuclear_genmax_profile_2030,\n",
    "                                 hydro_genmax_profile_2030,\n",
    "                                 import_genmax_profile_2030,\n",
    "                                 wind_genmax_profile_avg_2030, # NOTE: Replaced with average profile\n",
    "                                 upv_genmax_profile_avg_2030, # NOTE: Replaced with average profile\n",
    "                                 others_genmax_profile_2030,\n",
    "                                 large_load_genmax_profile_2030,\n",
    "                                 ], axis=1)"
   ]
  },
  {
   "cell_type": "markdown",
   "metadata": {},
   "source": [
    "## 2. gen min profile"
   ]
  },
  {
   "cell_type": "code",
   "execution_count": 174,
   "metadata": {},
   "outputs": [],
   "source": [
    "thermal_genmin_profile_2030 = pd.DataFrame(\n",
    "    np.tile(thermal_prop_2030['PMIN'].values, (8760, 1)),\n",
    "    index=timestamp_list,\n",
    "    columns=thermal_prop_2030['GEN_NAME'].values)"
   ]
  },
  {
   "cell_type": "code",
   "execution_count": 175,
   "metadata": {},
   "outputs": [],
   "source": [
    "nuclear_genmin_profile_2030 = pd.DataFrame(\n",
    "    np.tile(nuclear_prop_2030['PMIN'].values, (8760, 1)),\n",
    "    index=timestamp_list,\n",
    "    columns=nuclear_prop_2030['GEN_NAME'].values)"
   ]
  },
  {
   "cell_type": "code",
   "execution_count": 176,
   "metadata": {},
   "outputs": [],
   "source": [
    "hydro_genmin_profile_2030 = pd.DataFrame(\n",
    "    np.tile(hydro_prop_2030['PMIN'].values, (8760, 1)),\n",
    "    index=timestamp_list,\n",
    "    columns=hydro_prop_2030['GEN_NAME'].values)"
   ]
  },
  {
   "cell_type": "code",
   "execution_count": 177,
   "metadata": {},
   "outputs": [],
   "source": [
    "import_genmin_profile_2030 = import_genmax_profile_2030.copy()\n",
    "\n",
    "for name in import_params_2030['Name']:\n",
    "    import_genmin_profile_2030[name] = np.where(import_genmin_profile_2030[name] < 0,\n",
    "                                                import_genmin_profile_2030[name],\n",
    "                                                0)"
   ]
  },
  {
   "cell_type": "code",
   "execution_count": 178,
   "metadata": {},
   "outputs": [],
   "source": [
    "wind_genmin_profile_2030 = pd.DataFrame(\n",
    "    np.tile(wind_prop_2030['PMIN'].values, (8760, 1)),\n",
    "    index=timestamp_list,\n",
    "    columns=wind_prop_2030['GEN_NAME'].values)"
   ]
  },
  {
   "cell_type": "code",
   "execution_count": 179,
   "metadata": {},
   "outputs": [],
   "source": [
    "upv_genmin_profile_2030 = pd.DataFrame(\n",
    "    np.tile(upv_prop_2030['PMIN'].values, (8760, 1)),\n",
    "    index=timestamp_list,\n",
    "    columns=upv_prop_2030['GEN_NAME'].values)"
   ]
  },
  {
   "cell_type": "code",
   "execution_count": 180,
   "metadata": {},
   "outputs": [],
   "source": [
    "others_genmin_profile_2030 = pd.DataFrame(\n",
    "    np.tile(others_prop_2030['PMIN'].values, (8760, 1)),\n",
    "    index=timestamp_list,\n",
    "    columns=others_prop_2030['GEN_NAME'].values)"
   ]
  },
  {
   "cell_type": "code",
   "execution_count": 181,
   "metadata": {},
   "outputs": [],
   "source": [
    "large_load_genmin_profile_2030 = pd.DataFrame(\n",
    "    np.tile(large_load_prop_2030['PMIN'].values, (8760, 1)),\n",
    "    index=timestamp_list,\n",
    "    columns=large_load_prop_2030['GEN_NAME'].values)"
   ]
  },
  {
   "cell_type": "code",
   "execution_count": 182,
   "metadata": {},
   "outputs": [],
   "source": [
    "genmin_profile_2030 = pd.concat([thermal_genmin_profile_2030,\n",
    "                                 nuclear_genmin_profile_2030,\n",
    "                                 hydro_genmin_profile_2030,\n",
    "                                 import_genmin_profile_2030,\n",
    "                                 wind_genmin_profile_2030,\n",
    "                                 upv_genmin_profile_2030,\n",
    "                                 others_genmin_profile_2030,\n",
    "                                 large_load_genmin_profile_2030,\n",
    "                                 ], axis=1)"
   ]
  },
  {
   "cell_type": "markdown",
   "metadata": {},
   "source": [
    "## 3. gen cost profile"
   ]
  },
  {
   "cell_type": "markdown",
   "metadata": {},
   "source": [
    "### A. Thermal"
   ]
  },
  {
   "cell_type": "code",
   "execution_count": 183,
   "metadata": {},
   "outputs": [
    {
     "name": "stderr",
     "output_type": "stream",
     "text": [
      "/tmp/ipykernel_2000861/4202978625.py:43: FutureWarning: The frame.append method is deprecated and will be removed from pandas in a future version. Use pandas.concat instead.\n",
      "  fuel_price_profile_2030 = fuel_price_profile_2030.append(\n"
     ]
    }
   ],
   "source": [
    "# Read weekly fuel price profiles in 2018\n",
    "# NG\n",
    "ng_price_profile_2030 = pd.read_excel(os.path.join(data_dir, 'renewable',\n",
    "                                                     '2023-2042-System-Resource-Outlook-Forecasts.xlsx'),\n",
    "                                        sheet_name='Fuel_NG_Weekly', header=1, usecols='A:O')\n",
    "\n",
    "ng_price_profile_2030 = ng_price_profile_2030[ng_price_profile_2030['YEAR'] == 2030]\n",
    "ng_price_profile_2030 = ng_price_profile_2030[['NG_A-E', 'NG_F-I', 'NG_ZONEJ', 'NG_ZONEK']]\n",
    "\n",
    "# FO2\n",
    "fo2_price_profile_2030 = pd.read_excel(os.path.join(data_dir, 'renewable',\n",
    "                                                     '2023-2042-System-Resource-Outlook-Forecasts.xlsx'),\n",
    "                                        sheet_name='Fuel_DFO+RFO_Weekly', header=1, usecols='A:O')\n",
    "\n",
    "fo2_price_profile_2030 = fo2_price_profile_2030[fo2_price_profile_2030['YEAR'] == 2030]\n",
    "fo2_price_profile_2030 = fo2_price_profile_2030[['DFO_DSNY', 'DFO_UPNY']]\n",
    "\n",
    "# FO6\n",
    "fo6_price_profile_2030 = pd.read_excel(os.path.join(data_dir, 'renewable',\n",
    "                                                     '2023-2042-System-Resource-Outlook-Forecasts.xlsx'),\n",
    "                                        sheet_name='Fuel_DFO+RFO_Weekly', header=1, usecols='J:Q')\n",
    "\n",
    "fo6_price_profile_2030 = fo6_price_profile_2030[fo6_price_profile_2030['YEAR.1'] == 2030]\n",
    "fo6_price_profile_2030 = fo6_price_profile_2030[['RFO_DSNY', 'RFO_UPNY']]\n",
    "\n",
    "# Combine all fuel price profiles\n",
    "fuel_price_profile_2030 = pd.concat([ng_price_profile_2030,\n",
    "                                     fo2_price_profile_2030,\n",
    "                                     fo6_price_profile_2030], axis=1)\n",
    "\n",
    "fuel_price_profile_2030 = fuel_price_profile_2030.rename(columns={\n",
    "    'NG_A-E': 'NG_A2E',\n",
    "    'NG_F-I': 'NG_F2I',\n",
    "    'NG_ZONEJ': 'NG_J',\n",
    "    'NG_ZONEK': 'NG_K',\n",
    "    'DFO_DSNY': 'FO2_DSNY',\n",
    "    'DFO_UPNY': 'FO2_UPNY',\n",
    "    'RFO_DSNY': 'FO6_DSNY',\n",
    "    'RFO_UPNY': 'FO6_UPNY',\n",
    "})\n",
    "\n",
    "# Duplicate the last row\n",
    "fuel_price_profile_2030 = fuel_price_profile_2030.append(\n",
    "    fuel_price_profile_2030.iloc[-1], ignore_index=True)\n",
    "\n",
    "# Set weekly timestamp\n",
    "start_date = datetime(2018, 1, 1, 0, 0, 0)\n",
    "end_date = datetime(2018, 12, 31, 23, 0, 0)\n",
    "week_list = pd.date_range(start_date, end_date, freq='7d')\n",
    "fuel_price_profile_2030.index = week_list\n",
    "\n",
    "fuel_price_profile_2030 = fuel_price_profile_2030.reindex(\n",
    "    timestamp_list, method='ffill')"
   ]
  },
  {
   "cell_type": "code",
   "execution_count": 184,
   "metadata": {},
   "outputs": [
    {
     "data": {
      "text/html": [
       "<div>\n",
       "<style scoped>\n",
       "    .dataframe tbody tr th:only-of-type {\n",
       "        vertical-align: middle;\n",
       "    }\n",
       "\n",
       "    .dataframe tbody tr th {\n",
       "        vertical-align: top;\n",
       "    }\n",
       "\n",
       "    .dataframe thead th {\n",
       "        text-align: right;\n",
       "    }\n",
       "</style>\n",
       "<table border=\"1\" class=\"dataframe\">\n",
       "  <thead>\n",
       "    <tr style=\"text-align: right;\">\n",
       "      <th></th>\n",
       "      <th>NYISO_Name</th>\n",
       "      <th>eco_min_heat_input</th>\n",
       "    </tr>\n",
       "  </thead>\n",
       "  <tbody>\n",
       "    <tr>\n",
       "      <th>0</th>\n",
       "      <td>Arthur Kill GT 1</td>\n",
       "      <td>133.176000</td>\n",
       "    </tr>\n",
       "    <tr>\n",
       "      <th>1</th>\n",
       "      <td>East River 1</td>\n",
       "      <td>1033.846450</td>\n",
       "    </tr>\n",
       "    <tr>\n",
       "      <th>2</th>\n",
       "      <td>East River 2</td>\n",
       "      <td>1005.088436</td>\n",
       "    </tr>\n",
       "    <tr>\n",
       "      <th>3</th>\n",
       "      <td>Gowanus 2-1</td>\n",
       "      <td>170.432000</td>\n",
       "    </tr>\n",
       "    <tr>\n",
       "      <th>4</th>\n",
       "      <td>Gowanus 2-2</td>\n",
       "      <td>170.432000</td>\n",
       "    </tr>\n",
       "    <tr>\n",
       "      <th>...</th>\n",
       "      <td>...</td>\n",
       "      <td>...</td>\n",
       "    </tr>\n",
       "    <tr>\n",
       "      <th>176</th>\n",
       "      <td>Bayonne EC  CTG8</td>\n",
       "      <td>283.527187</td>\n",
       "    </tr>\n",
       "    <tr>\n",
       "      <th>177</th>\n",
       "      <td>Bayonne EC  CTG9</td>\n",
       "      <td>298.457123</td>\n",
       "    </tr>\n",
       "    <tr>\n",
       "      <th>178</th>\n",
       "      <td>Cricket Valley CC1</td>\n",
       "      <td>1351.883034</td>\n",
       "    </tr>\n",
       "    <tr>\n",
       "      <th>179</th>\n",
       "      <td>Cricket Valley CC2</td>\n",
       "      <td>1340.540167</td>\n",
       "    </tr>\n",
       "    <tr>\n",
       "      <th>180</th>\n",
       "      <td>Cricket Valley CC3</td>\n",
       "      <td>1351.567005</td>\n",
       "    </tr>\n",
       "  </tbody>\n",
       "</table>\n",
       "<p>181 rows × 2 columns</p>\n",
       "</div>"
      ],
      "text/plain": [
       "             NYISO_Name  eco_min_heat_input\n",
       "0      Arthur Kill GT 1          133.176000\n",
       "1          East River 1         1033.846450\n",
       "2          East River 2         1005.088436\n",
       "3           Gowanus 2-1          170.432000\n",
       "4           Gowanus 2-2          170.432000\n",
       "..                  ...                 ...\n",
       "176    Bayonne EC  CTG8          283.527187\n",
       "177    Bayonne EC  CTG9          298.457123\n",
       "178  Cricket Valley CC1         1351.883034\n",
       "179  Cricket Valley CC2         1340.540167\n",
       "180  Cricket Valley CC3         1351.567005\n",
       "\n",
       "[181 rows x 2 columns]"
      ]
     },
     "execution_count": 184,
     "metadata": {},
     "output_type": "execute_result"
    }
   ],
   "source": [
    "# Calculate startup fuel requirements\n",
    "thermal_params_2030['eco_min_heat_input'] = thermal_params_2030['heat_0'] + \\\n",
    "    thermal_params_2030['heat_1'] * thermal_params_2030['eco_min']\n",
    "thermal_params_2030[['NYISO_Name', 'eco_min_heat_input']]"
   ]
  },
  {
   "cell_type": "code",
   "execution_count": 185,
   "metadata": {},
   "outputs": [],
   "source": [
    "thermal_cost_0_2030 = np.zeros((len(timestamp_list), len(thermal_params_2030)))\n",
    "thermal_cost_1_2030 = np.zeros((len(timestamp_list), len(thermal_params_2030)))\n",
    "thermal_cost_startup_2030 = np.zeros(\n",
    "    (len(timestamp_list), len(thermal_params_2030)))\n",
    "\n",
    "for i, row in thermal_params_2030.iterrows():\n",
    "    zone = row['Zone']\n",
    "    heat_0 = row['heat_0']\n",
    "    heat_1 = row['heat_1']\n",
    "\n",
    "    if row['Zone'] in ['A', 'B', 'C', 'D', 'E']:\n",
    "        if row['Fuel_Type_Primary'] == 'NG':\n",
    "            fuel_price = fuel_price_profile_2030['NG_A2E']\n",
    "        elif row['Fuel_Type_Primary'] in ['FO2', 'KER']:\n",
    "            fuel_price = fuel_price_profile_2030['FO2_UPNY']\n",
    "        elif row['Fuel_Type_Primary'] == 'FO6':\n",
    "            fuel_price = fuel_price_profile_2030['FO6_UPNY']\n",
    "        elif row['Fuel_Type_Primary'] == 'BIT':\n",
    "            fuel_price = fuel_price_profile_2030['coal_NY']\n",
    "        else:\n",
    "            raise ValueError('Fuel type not found.')\n",
    "\n",
    "    elif row['Zone'] in ['F', 'G', 'H', 'I', 'J', 'K']:\n",
    "        if row['Fuel_Type_Primary'] == 'NG':\n",
    "            if row['Zone'] == 'J':\n",
    "                fuel_price = fuel_price_profile_2030['NG_J']\n",
    "            elif row['Zone'] == 'K':\n",
    "                fuel_price = fuel_price_profile_2030['NG_K']\n",
    "            else:\n",
    "                fuel_price = fuel_price_profile_2030['NG_F2I']\n",
    "        elif row['Fuel_Type_Primary'] in ['FO2', 'KER']:\n",
    "            fuel_price = fuel_price_profile_2030['FO2_DSNY']\n",
    "        elif row['Fuel_Type_Primary'] == 'FO6':\n",
    "            fuel_price = fuel_price_profile_2030['FO6_DSNY']\n",
    "        elif row['Fuel_Type_Primary'] == 'BIT':\n",
    "            fuel_price = fuel_price_profile_2030['coal_NY']\n",
    "        else:\n",
    "            raise ValueError('Fuel type not found.')\n",
    "    else:\n",
    "        raise ValueError('Zone not found.')\n",
    "\n",
    "    thermal_cost_0_2030[:, i] = row['heat_0'] * fuel_price\n",
    "    thermal_cost_1_2030[:, i] = row['heat_1'] * fuel_price\n",
    "    thermal_cost_startup_2030[:, i] = row['eco_min_heat_input'] * fuel_price\n",
    "\n",
    "thermal_cost_0_2030 = pd.DataFrame(thermal_cost_0_2030, index=timestamp_list,\n",
    "                                   columns=thermal_prop_2030['GEN_NAME'])\n",
    "thermal_cost_1_2030 = pd.DataFrame(thermal_cost_1_2030, index=timestamp_list,\n",
    "                                   columns=thermal_prop_2030['GEN_NAME'])\n",
    "thermal_cost_startup_2030 = pd.DataFrame(thermal_cost_startup_2030, index=timestamp_list,\n",
    "                                         columns=thermal_prop_2030['GEN_NAME'])"
   ]
  },
  {
   "cell_type": "markdown",
   "metadata": {},
   "source": [
    "### B. Nuclear"
   ]
  },
  {
   "cell_type": "code",
   "execution_count": 186,
   "metadata": {},
   "outputs": [],
   "source": [
    "nuclear_cost_0_2030 = pd.DataFrame(np.zeros((len(timestamp_list), len(nuclear_params_2030))),\n",
    "                                   index=timestamp_list,\n",
    "                                   columns=nuclear_params_2024['Name'])\n",
    "\n",
    "nuclear_cost_1_2030 = pd.DataFrame(np.ones((len(timestamp_list), len(nuclear_params_2030)))*2,\n",
    "                                   index=timestamp_list,\n",
    "                                   columns=nuclear_params_2024['Name'])\n",
    "\n",
    "nuclear_cost_startup_2030 = pd.DataFrame(np.tile(nuclear_params_2030['Capacity (MW)']*100, (8760, 1)),\n",
    "                                         index=timestamp_list,\n",
    "                                         columns=nuclear_params_2030['Name'])"
   ]
  },
  {
   "cell_type": "markdown",
   "metadata": {},
   "source": [
    "### C. Hydro"
   ]
  },
  {
   "cell_type": "code",
   "execution_count": 187,
   "metadata": {},
   "outputs": [],
   "source": [
    "hydro_cost_0_2030 = pd.DataFrame(np.zeros((len(timestamp_list), len(hydro_params_2030))),\n",
    "                                 index=timestamp_list,\n",
    "                                 columns=hydro_params_2030['Name'])\n",
    "\n",
    "hydro_cost_1_2030 = pd.DataFrame(np.ones((len(timestamp_list), len(hydro_params_2030)))*1,\n",
    "                                 index=timestamp_list,\n",
    "                                 columns=hydro_params_2030['Name'])\n",
    "\n",
    "hydro_cost_startup_2030 = pd.DataFrame(np.zeros((len(timestamp_list), len(hydro_params_2030))),\n",
    "                                       index=timestamp_list,\n",
    "                                       columns=hydro_params_2030['Name'])"
   ]
  },
  {
   "cell_type": "markdown",
   "metadata": {},
   "source": [
    "### D. Import"
   ]
  },
  {
   "cell_type": "code",
   "execution_count": 188,
   "metadata": {},
   "outputs": [],
   "source": [
    "# Read NYISO historical interface flow data\n",
    "zonal_price_2018 = pd.read_csv(os.path.join(nyiso_data_dir, 'priceHourly_2018.csv'),\n",
    "                               parse_dates=['TimeStamp'])\n",
    "zonal_price_2018 = zonal_price_2018.pivot(\n",
    "    index='TimeStamp', columns='ZoneName', values='LBMP')\n",
    "external_price_2018 = zonal_price_2018[['NPX', 'O H', 'PJM', 'H Q']]\n",
    "external_price_2018 = external_price_2018[external_price_2018.index.year == 2018]"
   ]
  },
  {
   "cell_type": "code",
   "execution_count": 189,
   "metadata": {},
   "outputs": [],
   "source": [
    "# 2018 NYCA: 15 import generators\n",
    "# Assume that 2024 import generators have the same external price as 2018\n",
    "import_cost_1_2030 = pd.DataFrame(index=external_price_2018.index)\n",
    "\n",
    "# NE\n",
    "import_cost_1_2030['Import_NE_CSC'] = external_price_2018['NPX']\n",
    "import_cost_1_2030['Import_NE_NNC'] = external_price_2018['NPX']\n",
    "import_cost_1_2030['Import_NE_ZF'] = external_price_2018['NPX']\n",
    "import_cost_1_2030['Import_NE_ZG'] = external_price_2018['NPX']\n",
    "\n",
    "# IESO\n",
    "import_cost_1_2030['Import_IESO_ZD'] = external_price_2018['O H']\n",
    "import_cost_1_2030['Import_IESO_ZA1'] = external_price_2018['O H']\n",
    "import_cost_1_2030['Import_IESO_ZA2'] = external_price_2018['O H']\n",
    "\n",
    "# PJM\n",
    "import_cost_1_2030['Import_PJM_ZA'] = external_price_2018['PJM']\n",
    "import_cost_1_2030['Import_PJM_ZC'] = external_price_2018['PJM']\n",
    "import_cost_1_2030['Import_PJM_ZG'] = external_price_2018['PJM']\n",
    "import_cost_1_2030['Import_PJM_NEPTUNE'] = external_price_2018['PJM']\n",
    "import_cost_1_2030['Import_PJM_HTP'] = external_price_2018['PJM']\n",
    "import_cost_1_2030['Import_PJM_VFT'] = external_price_2018['PJM']\n",
    "\n",
    "# HQ\n",
    "import_cost_1_2030['Import_HQ_CEDARS'] = external_price_2018['H Q']\n",
    "import_cost_1_2030['Import_HQ_NY'] = external_price_2018['H Q']"
   ]
  },
  {
   "cell_type": "code",
   "execution_count": 190,
   "metadata": {},
   "outputs": [],
   "source": [
    "import_cost_0_2030 = pd.DataFrame(np.zeros((len(timestamp_list), len(import_params_2030))),\n",
    "                                  index=timestamp_list,\n",
    "                                  columns=import_params_2030['Name'])\n",
    "\n",
    "import_cost_startup_2030 = pd.DataFrame(np.zeros((len(timestamp_list), len(import_params_2030))),\n",
    "                                        index=timestamp_list,\n",
    "                                        columns=import_params_2030['Name'])"
   ]
  },
  {
   "cell_type": "code",
   "execution_count": 191,
   "metadata": {},
   "outputs": [],
   "source": [
    "# Add CHPE\n",
    "import_cost_0_2030['Import_HQ_CHPE'] = 0\n",
    "import_cost_1_2030['Import_HQ_CHPE'] = 0\n",
    "import_cost_startup_2030['Import_HQ_CHPE'] = 0"
   ]
  },
  {
   "cell_type": "markdown",
   "metadata": {},
   "source": [
    "### E. Others"
   ]
  },
  {
   "cell_type": "code",
   "execution_count": 192,
   "metadata": {},
   "outputs": [],
   "source": [
    "others_cost_0_2030 = pd.DataFrame(np.zeros((len(timestamp_list), len(others_params_2030))),\n",
    "                                  index=timestamp_list,\n",
    "                                  columns=others_params_2030['Name'])\n",
    "\n",
    "others_cost_1_2030 = pd.DataFrame(np.zeros((len(timestamp_list), len(others_params_2030))),\n",
    "                                  index=timestamp_list,\n",
    "                                  columns=others_params_2030['Name'])\n",
    "\n",
    "others_cost_startup_2030 = pd.DataFrame(np.zeros((len(timestamp_list), len(others_params_2030))),\n",
    "                                        index=timestamp_list,\n",
    "                                        columns=others_params_2030['Name'])"
   ]
  },
  {
   "cell_type": "markdown",
   "metadata": {},
   "source": [
    "### F. Wind"
   ]
  },
  {
   "cell_type": "code",
   "execution_count": 193,
   "metadata": {},
   "outputs": [],
   "source": [
    "wind_cost_0_2030 = pd.DataFrame(np.zeros((len(timestamp_list), len(wind_params_2030))),\n",
    "                                index=timestamp_list,\n",
    "                                columns=wind_params_2030['Name'])\n",
    "\n",
    "wind_cost_1_2030 = pd.DataFrame(np.zeros((len(timestamp_list), len(wind_params_2030))),\n",
    "                                index=timestamp_list,\n",
    "                                columns=wind_params_2030['Name'])\n",
    "\n",
    "wind_cost_startup_2030 = pd.DataFrame(np.zeros((len(timestamp_list), len(wind_params_2030))),\n",
    "                                      index=timestamp_list,\n",
    "                                      columns=wind_params_2030['Name'])"
   ]
  },
  {
   "cell_type": "markdown",
   "metadata": {},
   "source": [
    "### G. Utility PV"
   ]
  },
  {
   "cell_type": "code",
   "execution_count": 194,
   "metadata": {},
   "outputs": [],
   "source": [
    "upv_cost_0_2030 = pd.DataFrame(np.zeros((len(timestamp_list), len(upv_params_2030))),\n",
    "                               index=timestamp_list,\n",
    "                               columns=upv_params_2030['Name'])\n",
    "\n",
    "upv_cost_1_2030 = pd.DataFrame(np.zeros((len(timestamp_list), len(upv_params_2030))),\n",
    "                               index=timestamp_list,\n",
    "                               columns=upv_params_2030['Name'])\n",
    "\n",
    "upv_cost_startup_2030 = pd.DataFrame(np.zeros((len(timestamp_list), len(upv_params_2030))),\n",
    "                                     index=timestamp_list,\n",
    "                                     columns=upv_params_2030['Name'])"
   ]
  },
  {
   "cell_type": "markdown",
   "metadata": {},
   "source": [
    "### H. Large load"
   ]
  },
  {
   "cell_type": "code",
   "execution_count": 195,
   "metadata": {},
   "outputs": [],
   "source": [
    "large_load_cost_0_2030 = pd.DataFrame(np.zeros((len(timestamp_list), len(large_load_params_2030))),\n",
    "                                      index=timestamp_list,\n",
    "                                      columns=large_load_params_2030['Name'])\n",
    "\n",
    "large_load_cost_1_2030 = pd.DataFrame(np.ones((len(timestamp_list), len(large_load_params_2030)))*50,\n",
    "                                      index=timestamp_list,\n",
    "                                      columns=large_load_params_2030['Name'])\n",
    "\n",
    "large_load_cost_startup_2030 = pd.DataFrame(np.zeros((len(timestamp_list), len(large_load_params_2030))),\n",
    "                                            index=timestamp_list,\n",
    "                                            columns=large_load_params_2030['Name'])"
   ]
  },
  {
   "cell_type": "markdown",
   "metadata": {},
   "source": [
    "### I. Combine gencost profiles"
   ]
  },
  {
   "cell_type": "code",
   "execution_count": 196,
   "metadata": {},
   "outputs": [],
   "source": [
    "gen_cost_0_profile_2030 = pd.concat([thermal_cost_0_2030,\n",
    "                                     nuclear_cost_0_2030,\n",
    "                                     hydro_cost_0_2030,\n",
    "                                     import_cost_0_2030,\n",
    "                                     wind_cost_0_2030,\n",
    "                                     upv_cost_0_2030,\n",
    "                                     others_cost_0_2030,\n",
    "                                     large_load_cost_0_2030,\n",
    "                                     ], axis=1)\n",
    "\n",
    "gen_cost_1_profile_2030 = pd.concat([thermal_cost_1_2030,\n",
    "                                     nuclear_cost_1_2030,\n",
    "                                     hydro_cost_1_2030,\n",
    "                                     import_cost_1_2030,\n",
    "                                     wind_cost_1_2030,\n",
    "                                     upv_cost_1_2030,\n",
    "                                     others_cost_1_2030,\n",
    "                                     large_load_cost_1_2030,\n",
    "                                     ], axis=1)\n",
    "\n",
    "gen_cost_startup_profile_2030 = pd.concat([thermal_cost_startup_2030,\n",
    "                                           nuclear_cost_startup_2030,\n",
    "                                           hydro_cost_startup_2030,\n",
    "                                           import_cost_startup_2030,\n",
    "                                           wind_cost_startup_2030,\n",
    "                                           upv_cost_startup_2030,\n",
    "                                           others_cost_startup_2030,\n",
    "                                           large_load_cost_startup_2030,\n",
    "                                           ], axis=1)"
   ]
  },
  {
   "cell_type": "code",
   "execution_count": 197,
   "metadata": {},
   "outputs": [],
   "source": [
    "# Gen cost property table\n",
    "gen_cost_prop_2030 = pd.DataFrame(columns=['GEN_NAME', 'MODEL', 'STARTUP',\n",
    "                                           'SHUTDOWN', 'NCOST', 'COST_1', 'COST_0'])\n",
    "gen_cost_prop_2030['GEN_NAME'] = gen_cost_0_profile_2030.columns\n",
    "gen_cost_prop_2030['MODEL'] = 2  # Linear cost model\n",
    "gen_cost_prop_2030['STARTUP'] = gen_cost_startup_profile_2030.mean(\n",
    "    axis=0).values\n",
    "gen_cost_prop_2030['SHUTDOWN'] = 0\n",
    "gen_cost_prop_2030['NCOST'] = 2\n",
    "gen_cost_prop_2030['COST_1'] = gen_cost_1_profile_2030.mean(axis=0).values\n",
    "gen_cost_prop_2030['COST_0'] = gen_cost_0_profile_2030.mean(axis=0).values"
   ]
  },
  {
   "cell_type": "code",
   "execution_count": 198,
   "metadata": {},
   "outputs": [
    {
     "data": {
      "text/html": [
       "<div>\n",
       "<style scoped>\n",
       "    .dataframe tbody tr th:only-of-type {\n",
       "        vertical-align: middle;\n",
       "    }\n",
       "\n",
       "    .dataframe tbody tr th {\n",
       "        vertical-align: top;\n",
       "    }\n",
       "\n",
       "    .dataframe thead th {\n",
       "        text-align: right;\n",
       "    }\n",
       "</style>\n",
       "<table border=\"1\" class=\"dataframe\">\n",
       "  <thead>\n",
       "    <tr style=\"text-align: right;\">\n",
       "      <th></th>\n",
       "      <th>GEN_NAME</th>\n",
       "      <th>GEN_FUEL</th>\n",
       "    </tr>\n",
       "  </thead>\n",
       "  <tbody>\n",
       "    <tr>\n",
       "      <th>0</th>\n",
       "      <td>Arthur Kill GT 1(2490,CT0001)</td>\n",
       "      <td>CT_NG</td>\n",
       "    </tr>\n",
       "    <tr>\n",
       "      <th>1</th>\n",
       "      <td>East River 1(2493,1)</td>\n",
       "      <td>CC_NG</td>\n",
       "    </tr>\n",
       "    <tr>\n",
       "      <th>2</th>\n",
       "      <td>East River 2(2493,2)</td>\n",
       "      <td>CC_NG</td>\n",
       "    </tr>\n",
       "    <tr>\n",
       "      <th>3</th>\n",
       "      <td>Gowanus 2-1(2494,CT02-1)</td>\n",
       "      <td>CT_FO2</td>\n",
       "    </tr>\n",
       "    <tr>\n",
       "      <th>4</th>\n",
       "      <td>Gowanus 2-2(2494,CT02-2)</td>\n",
       "      <td>CT_FO2</td>\n",
       "    </tr>\n",
       "    <tr>\n",
       "      <th>...</th>\n",
       "      <td>...</td>\n",
       "      <td>...</td>\n",
       "    </tr>\n",
       "    <tr>\n",
       "      <th>12</th>\n",
       "      <td>POWI Project</td>\n",
       "      <td>Load_Load</td>\n",
       "    </tr>\n",
       "    <tr>\n",
       "      <th>13</th>\n",
       "      <td>Additional Large Load A</td>\n",
       "      <td>Load_Load</td>\n",
       "    </tr>\n",
       "    <tr>\n",
       "      <th>14</th>\n",
       "      <td>Additional Large Load C</td>\n",
       "      <td>Load_Load</td>\n",
       "    </tr>\n",
       "    <tr>\n",
       "      <th>15</th>\n",
       "      <td>Additional Large Load D</td>\n",
       "      <td>Load_Load</td>\n",
       "    </tr>\n",
       "    <tr>\n",
       "      <th>16</th>\n",
       "      <td>Additional Large Load E</td>\n",
       "      <td>Load_Load</td>\n",
       "    </tr>\n",
       "  </tbody>\n",
       "</table>\n",
       "<p>419 rows × 2 columns</p>\n",
       "</div>"
      ],
      "text/plain": [
       "                         GEN_NAME   GEN_FUEL\n",
       "0   Arthur Kill GT 1(2490,CT0001)      CT_NG\n",
       "1            East River 1(2493,1)      CC_NG\n",
       "2            East River 2(2493,2)      CC_NG\n",
       "3        Gowanus 2-1(2494,CT02-1)     CT_FO2\n",
       "4        Gowanus 2-2(2494,CT02-2)     CT_FO2\n",
       "..                            ...        ...\n",
       "12                   POWI Project  Load_Load\n",
       "13        Additional Large Load A  Load_Load\n",
       "14        Additional Large Load C  Load_Load\n",
       "15        Additional Large Load D  Load_Load\n",
       "16        Additional Large Load E  Load_Load\n",
       "\n",
       "[419 rows x 2 columns]"
      ]
     },
     "execution_count": 198,
     "metadata": {},
     "output_type": "execute_result"
    }
   ],
   "source": [
    "# Gen fuel property table\n",
    "genfuel_prop_2030 = gen_prop_2030[[\n",
    "    'GEN_NAME', 'UNIT_TYPE', 'FUEL_TYPE']].copy()\n",
    "genfuel_prop_2030['GEN_FUEL'] = genfuel_prop_2030.apply(\n",
    "    lambda x: x['UNIT_TYPE'] + '_' + x['FUEL_TYPE'], axis=1)\n",
    "genfuel_prop_2030 = genfuel_prop_2030.drop(columns=['UNIT_TYPE', 'FUEL_TYPE'])\n",
    "genfuel_prop_2030"
   ]
  },
  {
   "cell_type": "markdown",
   "metadata": {},
   "source": [
    "# Outputs"
   ]
  },
  {
   "cell_type": "code",
   "execution_count": 199,
   "metadata": {},
   "outputs": [],
   "source": [
    "# Make sure the columns are in the same order\n",
    "gen_order_2030 = gen_prop_2030['GEN_NAME']\n",
    "genmax_profile_2030 = genmax_profile_2030[gen_order_2030]\n",
    "genmin_profile_2030 = genmin_profile_2030[gen_order_2030]\n",
    "gen_cost_0_profile_2030 = gen_cost_0_profile_2030[gen_order_2030]\n",
    "gen_cost_1_profile_2030 = gen_cost_1_profile_2030[gen_order_2030]\n",
    "gen_cost_startup_profile_2030 = gen_cost_startup_profile_2030[gen_order_2030]\n",
    "\n",
    "genmax_profile_2030.index.name = 'TimeStamp'\n",
    "genmin_profile_2030.index.name = 'TimeStamp'\n",
    "gen_cost_0_profile_2030.index.name = 'TimeStamp'\n",
    "gen_cost_1_profile_2030.index.name = 'TimeStamp'\n",
    "gen_cost_startup_profile_2030.index.name = 'TimeStamp'"
   ]
  },
  {
   "cell_type": "code",
   "execution_count": 200,
   "metadata": {},
   "outputs": [],
   "source": [
    "# Write to CSV\n",
    "output_dir_2030 = os.path.join(grid_data_dir, '2030StateScenario_AvgRenew')\n",
    "os.makedirs(output_dir_2030, exist_ok=True)\n",
    "\n",
    "# Properties\n",
    "gen_prop_2030.to_csv(os.path.join(\n",
    "    output_dir_2030, 'gen_prop.csv'), index=False)\n",
    "genfuel_prop_2030.to_csv(os.path.join(\n",
    "    output_dir_2030, 'genfuel_prop.csv'), index=False)\n",
    "gen_cost_prop_2030.to_csv(os.path.join(\n",
    "    output_dir_2030, 'gencost_prop.csv'), index=False)\n",
    "thermal_params_2030.to_csv(os.path.join(\n",
    "    output_dir_2030, 'thermal_params.csv'), index=False)\n",
    "\n",
    "# Profiles\n",
    "genmax_profile_2030.to_csv(os.path.join(\n",
    "    output_dir_2030, 'genmax_profile_2030.csv'))\n",
    "genmin_profile_2030.to_csv(os.path.join(\n",
    "    output_dir_2030, 'genmin_profile_2030.csv'))\n",
    "gen_cost_0_profile_2030.to_csv(os.path.join(\n",
    "    output_dir_2030, 'gencost0_profile_2030.csv'))\n",
    "gen_cost_1_profile_2030.to_csv(os.path.join(\n",
    "    output_dir_2030, 'gencost1_profile_2030.csv'))\n",
    "gen_cost_startup_profile_2030.to_csv(os.path.join(\n",
    "    output_dir_2030, 'gencost_startup_profile_2030.csv'))"
   ]
  }
 ],
 "metadata": {
  "kernelspec": {
   "display_name": "NYgrid-python",
   "language": "python",
   "name": "python3"
  },
  "language_info": {
   "codemirror_mode": {
    "name": "ipython",
    "version": 3
   },
   "file_extension": ".py",
   "mimetype": "text/x-python",
   "name": "python",
   "nbconvert_exporter": "python",
   "pygments_lexer": "ipython3",
   "version": "3.8.18"
  }
 },
 "nbformat": 4,
 "nbformat_minor": 2
}
